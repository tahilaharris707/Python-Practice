{
 "cells": [
  {
   "cell_type": "markdown",
   "id": "f5ffee09",
   "metadata": {},
   "source": [
    "# Chapter 8 Algorithm Workbench\n",
    "## Problem # 4"
   ]
  },
  {
   "cell_type": "code",
   "execution_count": 7,
   "id": "9febe8a7",
   "metadata": {},
   "outputs": [
    {
     "name": "stdout",
     "output_type": "stream",
     "text": [
      "Enter a sentence: Christmas is my favorite holiday.\n",
      "The letter i appears 4 times.\n"
     ]
    }
   ],
   "source": [
    "# I will write a loop that counts the number of lowercase that appears in a string referenced by my_string.\n",
    "# I will create a variable named count.\n",
    "\n",
    "def main():\n",
    "    count=0\n",
    "\n",
    "# I will create another variable named my_string and use the input function to enter a string.\n",
    "    my_string= input('Enter a sentence: ')\n",
    "    \n",
    "# I will create a for loop that will count the number of lowercase t's in the string created.\n",
    "\n",
    "    for ch in my_string:\n",
    "        if ch == 'i':\n",
    "            count+=1\n",
    "    print(f'The letter i appears {count} times.')\n",
    "\n",
    "# I will execute the main function and display the output.\n",
    "if __name__=='__main__':\n",
    "    main()\n"
   ]
  },
  {
   "cell_type": "markdown",
   "id": "9d99742a",
   "metadata": {},
   "source": [
    "## Algorithm Workbench\n",
    "## Problem # 8"
   ]
  },
  {
   "cell_type": "code",
   "execution_count": 8,
   "id": "68a71ce2",
   "metadata": {},
   "outputs": [
    {
     "name": "stdout",
     "output_type": "stream",
     "text": [
      "Bur\n"
     ]
    }
   ],
   "source": [
    "# I will write a statement using the slicing expression to display the first 3 characters in a string.\n",
    "# I will assign a variable named color\n",
    "\n",
    "color='Burgundy'\n",
    "\n",
    "# I will create a string named my_string that will reference the string\n",
    "\n",
    "my_string=color[:3]\n",
    "\n",
    "# I will use the print function to display the output on the screen\n",
    "\n",
    "print(my_string)"
   ]
  },
  {
   "cell_type": "markdown",
   "id": "5af55913",
   "metadata": {},
   "source": [
    "## Programming Exercise\n",
    "## Problem # 1"
   ]
  },
  {
   "cell_type": "code",
   "execution_count": 9,
   "id": "a3563b49",
   "metadata": {},
   "outputs": [
    {
     "name": "stdout",
     "output_type": "stream",
     "text": [
      "G O D\n"
     ]
    }
   ],
   "source": [
    "# I will write a program containing a person's first, middle and last name\n",
    "# and display the intial of the first, middle and last name.\n",
    "# I will create a variable and assign it a name.\n",
    "\n",
    "full_name = 'Gina Olivia Denson'\n",
    "\n",
    "# I will create a string concatenation to display the initials\n",
    "\n",
    "initial='G'\n",
    "initial+=' '\n",
    "initial+='O'\n",
    "initial+=' '\n",
    "initial+='D'\n",
    "\n",
    "# I will use the print function to display the initials\n",
    "\n",
    "print(initial)\n",
    "\n"
   ]
  },
  {
   "cell_type": "markdown",
   "id": "dac05ed5",
   "metadata": {},
   "source": [
    "## Programming Exercise #5 \n",
    "## Alphabetic Telephone Number Translator\n"
   ]
  },
  {
   "cell_type": "code",
   "execution_count": 1,
   "id": "5a8cced2",
   "metadata": {},
   "outputs": [
    {
     "name": "stdout",
     "output_type": "stream",
     "text": [
      "Enter a 10 digit phone number: 515-NEW-HOME\n",
      "515-639-4663\n"
     ]
    }
   ],
   "source": [
    "# I will write a program that asks a user to enter a 10-character phone number\n",
    "# and display it with alphabetic characters.\n",
    "# I will create a variable named phone number that will prompt me to enter a phone number using the input function.\n",
    "\n",
    "phone_number=input('Enter a 10 digit phone number: ')\n",
    "\n",
    "# I will use the replace method to replace some digits of the phone number with numerical characters.\n",
    "\n",
    "phone_number=phone_number.replace('NEW', '639')\n",
    "phone_number=phone_number.replace('HOME', '4663')\n",
    "\n",
    "# I will use the print function to display the output of the program.\n",
    "\n",
    "print(phone_number)"
   ]
  },
  {
   "cell_type": "markdown",
   "id": "ee8ccd1b",
   "metadata": {},
   "source": [
    "## Programming Exercise #8\n",
    "## Sentence Capitalizer"
   ]
  },
  {
   "cell_type": "code",
   "execution_count": null,
   "id": "0d2b89a2",
   "metadata": {},
   "outputs": [],
   "source": [
    "# I will write a program with a function that accepts an argument and\n",
    "# returns a copy of the first character of each sentence capitalized."
   ]
  }
 ],
 "metadata": {
  "kernelspec": {
   "display_name": "Python 3 (ipykernel)",
   "language": "python",
   "name": "python3"
  },
  "language_info": {
   "codemirror_mode": {
    "name": "ipython",
    "version": 3
   },
   "file_extension": ".py",
   "mimetype": "text/x-python",
   "name": "python",
   "nbconvert_exporter": "python",
   "pygments_lexer": "ipython3",
   "version": "3.10.9"
  }
 },
 "nbformat": 4,
 "nbformat_minor": 5
}
