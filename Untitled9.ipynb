{
 "cells": [
  {
   "cell_type": "code",
   "execution_count": 3,
   "id": "a3210afc",
   "metadata": {},
   "outputs": [
    {
     "name": "stdout",
     "output_type": "stream",
     "text": [
      "Enter your first name:Tahila\n",
      "Enter your last name: Dale\n",
      "Enter your student ID number: 51505515250\n",
      "Your system login name is:\n",
      "TahDal250\n"
     ]
    }
   ],
   "source": [
    "# This program gets the user's first name, last name, and \n",
    "# student ID number. Using this data it generates a \n",
    "# system login name. \n",
    " \n",
    "import login \n",
    " \n",
    "def main(): \n",
    "    # Get the user's first name, last name, and ID number. \n",
    "    first = input('Enter your first name:') \n",
    "    last = input('Enter your last name: ') \n",
    "    idnumber = input('Enter your student ID number: ') \n",
    " \n",
    "    # Get the login name. \n",
    "    print('Your system login name is:') \n",
    "    print(login.get_login_name(first, last, idnumber)) \n",
    "\n",
    "    # Call the main function. \n",
    "\n",
    "if __name__=='__main__':\n",
    "    main()"
   ]
  },
  {
   "cell_type": "code",
   "execution_count": 4,
   "id": "7c8fe4dd",
   "metadata": {},
   "outputs": [
    {
     "name": "stdout",
     "output_type": "stream",
     "text": [
      "The string \"seven\" was found.\n"
     ]
    }
   ],
   "source": [
    "text = 'Four score and seven years ago'\n",
    "if 'seven' in text:\n",
    "    print('The string \"seven\" was found.')\n",
    "else:\n",
    "    print('The string \"seven\" was not found.')"
   ]
  },
  {
   "cell_type": "code",
   "execution_count": 5,
   "id": "88e9789a",
   "metadata": {},
   "outputs": [
    {
     "name": "stdout",
     "output_type": "stream",
     "text": [
      "Pierre was not found.\n"
     ]
    }
   ],
   "source": [
    "names= 'Bill Joanne Susan Chris Juan katie'\n",
    "if 'Pierre' not in names:\n",
    "    print('Pierre was not found.')\n",
    "else:\n",
    "    print('Pierre was found.')"
   ]
  },
  {
   "cell_type": "code",
   "execution_count": 6,
   "id": "9d89cb5e",
   "metadata": {},
   "outputs": [
    {
     "name": "stdout",
     "output_type": "stream",
     "text": [
      "1200 contains only digits.\n"
     ]
    }
   ],
   "source": [
    "string1='1200'\n",
    "if string1.isdigit():\n",
    "    print(f'{string1} contains only digits.')\n",
    "else:\n",
    "    print(f'{string1} contains characters other than digits.')"
   ]
  },
  {
   "cell_type": "code",
   "execution_count": 7,
   "id": "0f2b4431",
   "metadata": {},
   "outputs": [
    {
     "name": "stdout",
     "output_type": "stream",
     "text": [
      "123abc contains characters other than digits.\n"
     ]
    }
   ],
   "source": [
    "string2='123abc'\n",
    "if string2.isdigit():\n",
    "    print(f'{sting2} contains only digits.')\n",
    "else:\n",
    "    print(f'{string2} contains characters other than digits.')"
   ]
  },
  {
   "cell_type": "code",
   "execution_count": null,
   "id": "2a5b0f2f",
   "metadata": {},
   "outputs": [],
   "source": []
  }
 ],
 "metadata": {
  "kernelspec": {
   "display_name": "Python 3 (ipykernel)",
   "language": "python",
   "name": "python3"
  },
  "language_info": {
   "codemirror_mode": {
    "name": "ipython",
    "version": 3
   },
   "file_extension": ".py",
   "mimetype": "text/x-python",
   "name": "python",
   "nbconvert_exporter": "python",
   "pygments_lexer": "ipython3",
   "version": "3.10.9"
  }
 },
 "nbformat": 4,
 "nbformat_minor": 5
}
