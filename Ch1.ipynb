{
 "cells": [
  {
   "cell_type": "markdown",
   "id": "98032051",
   "metadata": {},
   "source": [
    "## Chapter 1 Exercises"
   ]
  },
  {
   "cell_type": "code",
   "execution_count": 9,
   "id": "5a2cd3b9",
   "metadata": {},
   "outputs": [
    {
     "name": "stdout",
     "output_type": "stream",
     "text": [
      "This side is up: Heads\n",
      "I am tossing the coin...\n",
      "This side is up: Heads\n"
     ]
    }
   ],
   "source": [
    "import random\n",
    "\n",
    "class Coin:\n",
    "    \n",
    "    def __init__(self):\n",
    "        self.sideup = 'Heads'\n",
    "        \n",
    "    def toss(self):\n",
    "        if random.randint(0, 1)== 0:\n",
    "            self.sideup = 'Heads'\n",
    "        \n",
    "        else:\n",
    "            self.sideup = 'Tails'\n",
    "        \n",
    "    def get_sideup(self):\n",
    "        return self.sideup\n",
    "    \n",
    "def main():\n",
    "    my_coin = Coin()\n",
    "    print('This side is up:', my_coin.get_sideup())\n",
    "    print('I am tossing the coin...')\n",
    "    my_coin.toss()\n",
    "    print('This side is up:', my_coin.get_sideup())\n",
    "    \n",
    "if __name__=='__main__':\n",
    "    main()\n",
    "            \n",
    "    "
   ]
  },
  {
   "cell_type": "code",
   "execution_count": null,
   "id": "a41c8dfd",
   "metadata": {},
   "outputs": [],
   "source": [
    "# I will create a class named Pet and use the init method to create attributes\n",
    "\n",
    "class Pet:\n",
    "    # I will now initiate the init method to initialize the specific attibutes\n",
    "    \n",
    "    def __init__(self, name, animal_type, age):\n",
    "        self.__name = name\n",
    "        self.__animal_type=animal_type\n",
    "        self.__age=age\n",
    "        \n",
    "    # I will create individual methods that will assign a value to the attributes\n",
    "    \n",
    "    def set_name(self, name):\n",
    "        self.__name=name\n",
    "        \n",
    "    def set_animal_type(self, animal_type):\n",
    "        self.__animal_type=animal_type\n",
    "        \n",
    "    def set_age(self, age):\n",
    "        self.__age=age"
   ]
  },
  {
   "cell_type": "code",
   "execution_count": 10,
   "id": "b12d4721",
   "metadata": {},
   "outputs": [
    {
     "ename": "ModuleNotFoundError",
     "evalue": "No module named 'Pet'",
     "output_type": "error",
     "traceback": [
      "\u001b[1;31m---------------------------------------------------------------------------\u001b[0m",
      "\u001b[1;31mModuleNotFoundError\u001b[0m                       Traceback (most recent call last)",
      "Cell \u001b[1;32mIn[10], line 1\u001b[0m\n\u001b[1;32m----> 1\u001b[0m \u001b[38;5;28;01mimport\u001b[39;00m \u001b[38;5;21;01mPet\u001b[39;00m\n\u001b[0;32m      3\u001b[0m name\u001b[38;5;241m=\u001b[39m\u001b[38;5;28minput\u001b[39m(\u001b[38;5;124m\"\u001b[39m\u001b[38;5;124mWhat is your pet\u001b[39m\u001b[38;5;124m'\u001b[39m\u001b[38;5;124ms name? \u001b[39m\u001b[38;5;124m\"\u001b[39m)\n\u001b[0;32m      4\u001b[0m animal_type\u001b[38;5;241m=\u001b[39m\u001b[38;5;28minput\u001b[39m(\u001b[38;5;124m\"\u001b[39m\u001b[38;5;124mWhat type of animal is that? \u001b[39m\u001b[38;5;124m\"\u001b[39m)\n",
      "\u001b[1;31mModuleNotFoundError\u001b[0m: No module named 'Pet'"
     ]
    }
   ],
   "source": [
    "import Pet\n",
    "\n",
    "name=input(\"What is your pet's name? \")\n",
    "animal_type=input(\"What type of animal is that? \")\n",
    "age=input(\"How old is your pet? \")\n",
    "\n",
    "my_pet=pet.Pet(name, animal_type, age)\n",
    "print(\"Here is the information you entered:\")\n",
    "print(\"Pet name:\", my_pet.get_name())\n",
    "print(\"Animal type:\", my_pet.get_animal_type())\n",
    "print(\"Age:\", my_pet.get_age())"
   ]
  },
  {
   "cell_type": "code",
   "execution_count": null,
   "id": "351ac2e8",
   "metadata": {},
   "outputs": [],
   "source": []
  }
 ],
 "metadata": {
  "kernelspec": {
   "display_name": "Python 3 (ipykernel)",
   "language": "python",
   "name": "python3"
  },
  "language_info": {
   "codemirror_mode": {
    "name": "ipython",
    "version": 3
   },
   "file_extension": ".py",
   "mimetype": "text/x-python",
   "name": "python",
   "nbconvert_exporter": "python",
   "pygments_lexer": "ipython3",
   "version": "3.10.9"
  }
 },
 "nbformat": 4,
 "nbformat_minor": 5
}
