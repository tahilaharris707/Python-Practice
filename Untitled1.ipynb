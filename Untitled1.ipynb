{
 "cells": [
  {
   "cell_type": "code",
   "execution_count": 1,
   "id": "1d894232",
   "metadata": {},
   "outputs": [
    {
     "data": {
      "text/plain": [
       "'type the number 72'"
      ]
     },
     "execution_count": 1,
     "metadata": {},
     "output_type": "execute_result"
    }
   ],
   "source": [
    "('type the number 72')"
   ]
  },
  {
   "cell_type": "code",
   "execution_count": null,
   "id": "cf7b44ba",
   "metadata": {},
   "outputs": [],
   "source": [
    "input('type the number 72')"
   ]
  },
  {
   "cell_type": "code",
   "execution_count": null,
   "id": "03922f72",
   "metadata": {},
   "outputs": [],
   "source": [
    "length=int(input('enter the desired length: '))"
   ]
  },
  {
   "cell_type": "code",
   "execution_count": null,
   "id": "172ce780",
   "metadata": {},
   "outputs": [],
   "source": [
    "endpost=int(input('enter the desired amount of space used by an endpost: '))"
   ]
  },
  {
   "cell_type": "code",
   "execution_count": null,
   "id": "ac01d70a",
   "metadata": {},
   "outputs": [],
   "source": []
  },
  {
   "cell_type": "code",
   "execution_count": null,
   "id": "4d3c7454",
   "metadata": {},
   "outputs": [],
   "source": [
    "space=int(input('enter the desired amount of space used by an endpost: '))"
   ]
  },
  {
   "cell_type": "code",
   "execution_count": null,
   "id": "104ad38c",
   "metadata": {},
   "outputs": [],
   "source": [
    "grapevines=length-2*endpost//space"
   ]
  },
  {
   "cell_type": "code",
   "execution_count": null,
   "id": "2f1a7cd1",
   "metadata": {},
   "outputs": [],
   "source": [
    "12+2"
   ]
  },
  {
   "cell_type": "code",
   "execution_count": null,
   "id": "aec90225",
   "metadata": {},
   "outputs": [],
   "source": [
    "grapevines=(length-2)*endpost/space"
   ]
  },
  {
   "cell_type": "code",
   "execution_count": null,
   "id": "fb353d23",
   "metadata": {},
   "outputs": [],
   "source": [
    "length=int(input('enter the desired length: '))"
   ]
  },
  {
   "cell_type": "code",
   "execution_count": null,
   "id": "10f400fb",
   "metadata": {},
   "outputs": [],
   "source": [
    "endpost=int(input('enter amount of space used by an endpost: '))"
   ]
  },
  {
   "cell_type": "code",
   "execution_count": null,
   "id": "aa2f9d12",
   "metadata": {},
   "outputs": [],
   "source": [
    "space=int(input('enter the amount of space between vines: '))"
   ]
  },
  {
   "cell_type": "code",
   "execution_count": null,
   "id": "63d52774",
   "metadata": {},
   "outputs": [],
   "source": [
    "grapevines=(length-2)(endpost)/space"
   ]
  },
  {
   "cell_type": "code",
   "execution_count": null,
   "id": "070d2a15",
   "metadata": {},
   "outputs": [],
   "source": [
    "print(\"How do you say the word \\\"happy\\\" in French?\")"
   ]
  },
  {
   "cell_type": "code",
   "execution_count": null,
   "id": "a1602880",
   "metadata": {},
   "outputs": [],
   "source": []
  }
 ],
 "metadata": {
  "kernelspec": {
   "display_name": "Python 3 (ipykernel)",
   "language": "python",
   "name": "python3"
  },
  "language_info": {
   "codemirror_mode": {
    "name": "ipython",
    "version": 3
   },
   "file_extension": ".py",
   "mimetype": "text/x-python",
   "name": "python",
   "nbconvert_exporter": "python",
   "pygments_lexer": "ipython3",
   "version": "3.10.9"
  }
 },
 "nbformat": 4,
 "nbformat_minor": 5
}
