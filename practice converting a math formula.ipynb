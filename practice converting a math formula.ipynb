{
 "cells": [
  {
   "cell_type": "code",
   "execution_count": null,
   "id": "962cab2b",
   "metadata": {},
   "outputs": [],
   "source": [
    "row_length=float(input('enter the length of row: '))"
   ]
  },
  {
   "cell_type": "code",
   "execution_count": null,
   "id": "a7b0f704",
   "metadata": {},
   "outputs": [],
   "source": [
    "amount_of_space=float(input('enter the amount of space used by an end_post assembly: '))"
   ]
  },
  {
   "cell_type": "code",
   "execution_count": null,
   "id": "216aa1a9",
   "metadata": {},
   "outputs": [],
   "source": [
    "space=float(input('enter the amount of space between vine: '))"
   ]
  },
  {
   "cell_type": "code",
   "execution_count": null,
   "id": "cd6785be",
   "metadata": {},
   "outputs": [],
   "source": [
    "grapevine=row_length-2(amount_of_space)/space"
   ]
  },
  {
   "cell_type": "code",
   "execution_count": null,
   "id": "4572d941",
   "metadata": {},
   "outputs": [],
   "source": [
    "row_length=float(input('enter the length of row: '))"
   ]
  },
  {
   "cell_type": "code",
   "execution_count": null,
   "id": "d6118e7b",
   "metadata": {},
   "outputs": [],
   "source": [
    "row_length=float(input('enter the length of row: '))"
   ]
  },
  {
   "cell_type": "code",
   "execution_count": null,
   "id": "2676871f",
   "metadata": {},
   "outputs": [],
   "source": []
  }
 ],
 "metadata": {
  "kernelspec": {
   "display_name": "Python 3 (ipykernel)",
   "language": "python",
   "name": "python3"
  },
  "language_info": {
   "codemirror_mode": {
    "name": "ipython",
    "version": 3
   },
   "file_extension": ".py",
   "mimetype": "text/x-python",
   "name": "python",
   "nbconvert_exporter": "python",
   "pygments_lexer": "ipython3",
   "version": "3.10.9"
  }
 },
 "nbformat": 4,
 "nbformat_minor": 5
}
