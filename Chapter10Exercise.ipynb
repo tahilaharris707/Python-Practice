{
 "cells": [
  {
   "cell_type": "markdown",
   "id": "68d2a1f7",
   "metadata": {},
   "source": [
    "# Chapter 10\n",
    "## Programming Exercise #1 Pet Class"
   ]
  },
  {
   "cell_type": "code",
   "execution_count": 1,
   "id": "e6b8dd67",
   "metadata": {},
   "outputs": [],
   "source": [
    "# I will create a class named Pet and use the init method to create attributes\n",
    "\n",
    "class Pet:\n",
    "    # I will now initiate the init method to initialize the specific attibutes\n",
    "    \n",
    "    def __init__(self, name, animal_type, age):\n",
    "        self.__name = name\n",
    "        self.__animal_type = animal_type\n",
    "        self.__age = age\n",
    "        \n",
    "    # I will create individual methods that will assign a value to the attributes\n",
    "    \n",
    "    def set_name(self, name):\n",
    "        self.__name = name\n",
    "        \n",
    "    def set_animal_type(self, animal_type):\n",
    "        self.__animal_type = animal_type\n",
    "        \n",
    "    def set_age(self, age):\n",
    "        self.__age = age\n",
    "    \n",
    "    # I will create multiple methods that will return a value for each attribute\n",
    "    \n",
    "        def get_name(self):\n",
    "            return self.__name\n",
    "        \n",
    "        def get_animal_type(self):\n",
    "            return self.__animal_type\n",
    "        \n",
    "        def get_age(self):\n",
    "            return self.__age  "
   ]
  },
  {
   "cell_type": "code",
   "execution_count": 2,
   "id": "04c3e933",
   "metadata": {},
   "outputs": [
    {
     "name": "stdout",
     "output_type": "stream",
     "text": [
      "What is your pet's name? Binky\n",
      "What type of animal is that? Cat\n",
      "How old is your pet? 3\n"
     ]
    },
    {
     "ename": "NameError",
     "evalue": "name 'pet' is not defined",
     "output_type": "error",
     "traceback": [
      "\u001b[1;31m---------------------------------------------------------------------------\u001b[0m",
      "\u001b[1;31mNameError\u001b[0m                                 Traceback (most recent call last)",
      "Cell \u001b[1;32mIn[2], line 24\u001b[0m\n\u001b[0;32m     21\u001b[0m     \u001b[38;5;28mprint\u001b[39m(\u001b[38;5;124m\"\u001b[39m\u001b[38;5;124mAnimal type:\u001b[39m\u001b[38;5;124m\"\u001b[39m, my_Pet\u001b[38;5;241m.\u001b[39mget_animal_type())\n\u001b[0;32m     22\u001b[0m     \u001b[38;5;28mprint\u001b[39m(\u001b[38;5;124m\"\u001b[39m\u001b[38;5;124mAge:\u001b[39m\u001b[38;5;124m\"\u001b[39m, my_Pet\u001b[38;5;241m.\u001b[39mget_age())\n\u001b[1;32m---> 24\u001b[0m \u001b[43mmain\u001b[49m\u001b[43m(\u001b[49m\u001b[43m)\u001b[49m\n",
      "Cell \u001b[1;32mIn[2], line 15\u001b[0m, in \u001b[0;36mmain\u001b[1;34m()\u001b[0m\n\u001b[0;32m     11\u001b[0m age \u001b[38;5;241m=\u001b[39m \u001b[38;5;28minput\u001b[39m(\u001b[38;5;124m\"\u001b[39m\u001b[38;5;124mHow old is your pet? \u001b[39m\u001b[38;5;124m\"\u001b[39m)\n\u001b[0;32m     13\u001b[0m \u001b[38;5;66;03m# I will assign variables to the attribute my pet\u001b[39;00m\n\u001b[1;32m---> 15\u001b[0m my_pet \u001b[38;5;241m=\u001b[39m \u001b[43mpet\u001b[49m\u001b[38;5;241m.\u001b[39mPet(name, animal_type, age)\n\u001b[0;32m     17\u001b[0m \u001b[38;5;66;03m# I will use the print function to display the outcome of the program on the screen\u001b[39;00m\n\u001b[0;32m     19\u001b[0m \u001b[38;5;28mprint\u001b[39m(\u001b[38;5;124m\"\u001b[39m\u001b[38;5;124mHere is the information you entered: \u001b[39m\u001b[38;5;124m\"\u001b[39m)\n",
      "\u001b[1;31mNameError\u001b[0m: name 'pet' is not defined"
     ]
    }
   ],
   "source": [
    "# I will create a program using the input function to answer questions about the pet.\n",
    "\n",
    "import Pet\n",
    "\n",
    "# I will create a def main main function\n",
    "\n",
    "def main():\n",
    "\n",
    "    name = input(\"What is your pet's name? \")\n",
    "    animal_type = input(\"What type of animal is that? \")\n",
    "    age = input(\"How old is your pet? \")\n",
    "\n",
    "    # I will assign variables to the attribute my pet\n",
    "\n",
    "    my_pet = pet.Pet(name, animal_type, age)\n",
    "\n",
    "    # I will use the print function to display the outcome of the program on the screen\n",
    "\n",
    "    print(\"Here is the information you entered: \")\n",
    "    print(\"Pet name:\", my_Pet.get_name())\n",
    "    print(\"Animal type:\", my_Pet.get_animal_type())\n",
    "    print(\"Age:\", my_Pet.get_age())\n",
    "    \n",
    "main()\n"
   ]
  },
  {
   "cell_type": "markdown",
   "id": "32d7f788",
   "metadata": {},
   "source": [
    "# Programming Exercise \n",
    "## Problem #2 Car Class"
   ]
  },
  {
   "cell_type": "code",
   "execution_count": null,
   "id": "7411420e",
   "metadata": {},
   "outputs": [],
   "source": [
    "# I will import the Car module that I just create"
   ]
  },
  {
   "cell_type": "code",
   "execution_count": 3,
   "id": "15ac6d04",
   "metadata": {},
   "outputs": [
    {
     "ename": "NameError",
     "evalue": "name 'car' is not defined",
     "output_type": "error",
     "traceback": [
      "\u001b[1;31m---------------------------------------------------------------------------\u001b[0m",
      "\u001b[1;31mNameError\u001b[0m                                 Traceback (most recent call last)",
      "Cell \u001b[1;32mIn[3], line 25\u001b[0m\n\u001b[0;32m     22\u001b[0m     \u001b[38;5;66;03m# I will use the print function to display the final speed on the screen.\u001b[39;00m\n\u001b[0;32m     23\u001b[0m     \u001b[38;5;28mprint\u001b[39m(\u001b[38;5;124m\"\u001b[39m\u001b[38;5;124mfinal speed:\u001b[39m\u001b[38;5;124m\"\u001b[39m, my_car\u001b[38;5;241m.\u001b[39mget_speed())\n\u001b[1;32m---> 25\u001b[0m \u001b[43mmain\u001b[49m\u001b[43m(\u001b[49m\u001b[43m)\u001b[49m\n",
      "Cell \u001b[1;32mIn[3], line 6\u001b[0m, in \u001b[0;36mmain\u001b[1;34m()\u001b[0m\n\u001b[0;32m      5\u001b[0m \u001b[38;5;28;01mdef\u001b[39;00m \u001b[38;5;21mmain\u001b[39m():\n\u001b[1;32m----> 6\u001b[0m     my_car \u001b[38;5;241m=\u001b[39m \u001b[43mcar\u001b[49m\u001b[38;5;241m.\u001b[39mCar(\u001b[38;5;241m2023\u001b[39m, \u001b[38;5;124m\"\u001b[39m\u001b[38;5;124mExample Make\u001b[39m\u001b[38;5;124m\"\u001b[39m)\n\u001b[0;32m      8\u001b[0m     \u001b[38;5;66;03m# I will use the for module to accelerate the car five times.\u001b[39;00m\n\u001b[0;32m      9\u001b[0m     \u001b[38;5;28;01mfor\u001b[39;00m i \u001b[38;5;129;01min\u001b[39;00m \u001b[38;5;28mrange\u001b[39m (\u001b[38;5;241m5\u001b[39m):\n",
      "\u001b[1;31mNameError\u001b[0m: name 'car' is not defined"
     ]
    }
   ],
   "source": [
    "import Car\n",
    "\n",
    "# I will create a def main function that will create a car object.\n",
    "\n",
    "def main():\n",
    "    my_car = car.Car(2023, \"Example Make\")\n",
    "    \n",
    "    # I will use the for module to accelerate the car five times.\n",
    "    for i in range (5):\n",
    "        my_car.accelerate()\n",
    "        # I will now use the print function to display the speed on the screen.\n",
    "        print(f\"Current speed: {my_car.get_speed()}\")\n",
    "        \n",
    "    # I will use the print function again to display the speed after accelerating.\n",
    "    print(\"Speed after accelerating:\", my_car.get_speed())\n",
    "    \n",
    "    # I will create another for module that will cause the car to brake.\n",
    "    for i in range(5):\n",
    "        my_car.brake()\n",
    "        print(f\"Current speed: {my_car.get_speed()}\")\n",
    "        \n",
    "    # I will use the print function to display the final speed on the screen.\n",
    "    print(\"final speed:\", my_car.get_speed())\n",
    "    \n",
    "main()\n",
    "    "
   ]
  }
 ],
 "metadata": {
  "kernelspec": {
   "display_name": "Python 3 (ipykernel)",
   "language": "python",
   "name": "python3"
  },
  "language_info": {
   "codemirror_mode": {
    "name": "ipython",
    "version": 3
   },
   "file_extension": ".py",
   "mimetype": "text/x-python",
   "name": "python",
   "nbconvert_exporter": "python",
   "pygments_lexer": "ipython3",
   "version": "3.10.9"
  }
 },
 "nbformat": 4,
 "nbformat_minor": 5
}
