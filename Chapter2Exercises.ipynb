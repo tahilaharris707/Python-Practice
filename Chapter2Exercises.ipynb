{
 "cells": [
  {
   "cell_type": "markdown",
   "id": "48edc54c",
   "metadata": {},
   "source": [
    "# Chapter 2 Exercises"
   ]
  },
  {
   "cell_type": "markdown",
   "id": "cd95481f",
   "metadata": {},
   "source": [
    "# Algorithm Workbench-Problem 2\n",
    "\n",
    "#Assigning a variable by using the input function to find out someone's favorite color."
   ]
  },
  {
   "cell_type": "markdown",
   "id": "2bd88d31",
   "metadata": {},
   "source": [
    "#This program demostrates a variable"
   ]
  },
  {
   "cell_type": "markdown",
   "id": "57e1d20f",
   "metadata": {},
   "source": [
    "Color=pink"
   ]
  },
  {
   "cell_type": "markdown",
   "id": "3ee3f4d1",
   "metadata": {},
   "source": [
    "#This program will demostrate the print function using a string."
   ]
  },
  {
   "cell_type": "code",
   "execution_count": 1,
   "id": "d6845710",
   "metadata": {},
   "outputs": [
    {
     "ename": "NameError",
     "evalue": "name 'pink' is not defined",
     "output_type": "error",
     "traceback": [
      "\u001b[1;31m---------------------------------------------------------------------------\u001b[0m",
      "\u001b[1;31mNameError\u001b[0m                                 Traceback (most recent call last)",
      "Cell \u001b[1;32mIn[1], line 1\u001b[0m\n\u001b[1;32m----> 1\u001b[0m Color \u001b[38;5;241m=\u001b[39m \u001b[43mpink\u001b[49m\n",
      "\u001b[1;31mNameError\u001b[0m: name 'pink' is not defined"
     ]
    }
   ],
   "source": [
    "Color = pink"
   ]
  },
  {
   "cell_type": "code",
   "execution_count": null,
   "id": "f3d1e804",
   "metadata": {},
   "outputs": [],
   "source": [
    "print(\"Sue's favorite color is:, 'color'. \")"
   ]
  },
  {
   "cell_type": "code",
   "execution_count": null,
   "id": "e836d60d",
   "metadata": {},
   "outputs": [],
   "source": [
    "print(color)"
   ]
  },
  {
   "cell_type": "code",
   "execution_count": null,
   "id": "c4055cf6",
   "metadata": {},
   "outputs": [],
   "source": [
    "input(color=pink)"
   ]
  },
  {
   "cell_type": "markdown",
   "id": "9f0360ab",
   "metadata": {},
   "source": [
    "color=pink"
   ]
  },
  {
   "cell_type": "code",
   "execution_count": null,
   "id": "b3cbe758",
   "metadata": {},
   "outputs": [],
   "source": [
    "print('color')"
   ]
  },
  {
   "cell_type": "markdown",
   "id": "352af44f",
   "metadata": {},
   "source": [
    "age=25"
   ]
  },
  {
   "cell_type": "code",
   "execution_count": null,
   "id": "79d71ec4",
   "metadata": {},
   "outputs": [],
   "source": [
    "print(\"age\")"
   ]
  },
  {
   "cell_type": "code",
   "execution_count": null,
   "id": "2f2cdaf6",
   "metadata": {},
   "outputs": [],
   "source": [
    "color=pink\n"
   ]
  },
  {
   "cell_type": "code",
   "execution_count": null,
   "id": "b0cef87f",
   "metadata": {},
   "outputs": [],
   "source": [
    "color = pink"
   ]
  },
  {
   "cell_type": "code",
   "execution_count": null,
   "id": "c4dc92ee",
   "metadata": {},
   "outputs": [],
   "source": [
    "print('pink')"
   ]
  },
  {
   "cell_type": "code",
   "execution_count": null,
   "id": "a748f2aa",
   "metadata": {},
   "outputs": [],
   "source": [
    "print('color')"
   ]
  },
  {
   "cell_type": "code",
   "execution_count": null,
   "id": "260ce207",
   "metadata": {},
   "outputs": [],
   "source": [
    "color = input(pink)"
   ]
  },
  {
   "cell_type": "markdown",
   "id": "f9948088",
   "metadata": {},
   "source": [
    "#this program demostrates a variable\n",
    "room = 503\n",
    "print('I am staying in room number')\n",
    "print(room)"
   ]
  },
  {
   "cell_type": "markdown",
   "id": "e20b2713",
   "metadata": {},
   "source": [
    "#this program demostrates a variable"
   ]
  },
  {
   "cell_type": "code",
   "execution_count": null,
   "id": "11de5a7c",
   "metadata": {},
   "outputs": [],
   "source": [
    "room = 503"
   ]
  },
  {
   "cell_type": "code",
   "execution_count": null,
   "id": "5c206a4a",
   "metadata": {},
   "outputs": [],
   "source": [
    "print('I am staying in room number')"
   ]
  },
  {
   "cell_type": "code",
   "execution_count": null,
   "id": "eb685dc9",
   "metadata": {},
   "outputs": [],
   "source": [
    "print(room)"
   ]
  },
  {
   "cell_type": "code",
   "execution_count": null,
   "id": "622dea5e",
   "metadata": {},
   "outputs": [],
   "source": [
    "color=pink"
   ]
  },
  {
   "cell_type": "code",
   "execution_count": null,
   "id": "a49036b7",
   "metadata": {},
   "outputs": [],
   "source": [
    "color = pink"
   ]
  },
  {
   "cell_type": "code",
   "execution_count": null,
   "id": "423f5596",
   "metadata": {},
   "outputs": [],
   "source": [
    "color = purple"
   ]
  },
  {
   "cell_type": "markdown",
   "id": "c09fe315",
   "metadata": {},
   "source": [
    "#this program demostrates a variable"
   ]
  },
  {
   "cell_type": "markdown",
   "id": "565a2c30",
   "metadata": {},
   "source": [
    "room = 503"
   ]
  },
  {
   "cell_type": "markdown",
   "id": "2acc2146",
   "metadata": {},
   "source": [
    "print('I am staying in room number')"
   ]
  },
  {
   "cell_type": "markdown",
   "id": "3e88076c",
   "metadata": {},
   "source": [
    "print(room)"
   ]
  },
  {
   "cell_type": "markdown",
   "id": "53af4ddd",
   "metadata": {},
   "source": [
    "room = 503"
   ]
  },
  {
   "cell_type": "markdown",
   "id": "d93bc61e",
   "metadata": {},
   "source": [
    "print(room)"
   ]
  },
  {
   "cell_type": "code",
   "execution_count": null,
   "id": "c6e2e31d",
   "metadata": {},
   "outputs": [],
   "source": [
    "x=3"
   ]
  },
  {
   "cell_type": "code",
   "execution_count": null,
   "id": "e1225ace",
   "metadata": {},
   "outputs": [],
   "source": [
    "print(x)"
   ]
  },
  {
   "cell_type": "markdown",
   "id": "e0dafc61",
   "metadata": {},
   "source": [
    "x=3"
   ]
  },
  {
   "cell_type": "code",
   "execution_count": null,
   "id": "3b7e4f2b",
   "metadata": {},
   "outputs": [],
   "source": [
    "print(x)"
   ]
  },
  {
   "cell_type": "code",
   "execution_count": null,
   "id": "82cb80b9",
   "metadata": {},
   "outputs": [],
   "source": [
    "pink = 2"
   ]
  },
  {
   "cell_type": "code",
   "execution_count": null,
   "id": "dcf971de",
   "metadata": {},
   "outputs": [],
   "source": [
    "print('2')"
   ]
  },
  {
   "cell_type": "code",
   "execution_count": null,
   "id": "ce125a50",
   "metadata": {},
   "outputs": [],
   "source": [
    "length 7.2"
   ]
  },
  {
   "cell_type": "code",
   "execution_count": null,
   "id": "61c9bb47",
   "metadata": {},
   "outputs": [],
   "source": [
    "print('length')"
   ]
  },
  {
   "cell_type": "code",
   "execution_count": null,
   "id": "e65c0f2b",
   "metadata": {},
   "outputs": [],
   "source": [
    "top_speed=160"
   ]
  },
  {
   "cell_type": "code",
   "execution_count": null,
   "id": "fbb263af",
   "metadata": {},
   "outputs": [],
   "source": [
    "print('the top speed is:')"
   ]
  },
  {
   "cell_type": "code",
   "execution_count": null,
   "id": "76a0e2b2",
   "metadata": {},
   "outputs": [],
   "source": [
    "print('top_speed is:'')"
   ]
  },
  {
   "cell_type": "code",
   "execution_count": null,
   "id": "1db49346",
   "metadata": {},
   "outputs": [],
   "source": [
    "top_speed=160"
   ]
  },
  {
   "cell_type": "code",
   "execution_count": null,
   "id": "0ac9d8db",
   "metadata": {},
   "outputs": [],
   "source": [
    "print('top_speed is', top_speed)"
   ]
  },
  {
   "cell_type": "code",
   "execution_count": null,
   "id": "620dea76",
   "metadata": {},
   "outputs": [],
   "source": [
    "top_speed=160"
   ]
  },
  {
   "cell_type": "code",
   "execution_count": null,
   "id": "72091e78",
   "metadata": {},
   "outputs": [],
   "source": [
    "print('The top speed is')"
   ]
  },
  {
   "cell_type": "code",
   "execution_count": null,
   "id": "f01219ad",
   "metadata": {},
   "outputs": [],
   "source": [
    "print(top_speed)"
   ]
  },
  {
   "cell_type": "code",
   "execution_count": null,
   "id": "11be1a44",
   "metadata": {},
   "outputs": [],
   "source": [
    "room=503\n",
    "print('I am staying in room number', room)\n"
   ]
  },
  {
   "cell_type": "code",
   "execution_count": null,
   "id": "da1e9438",
   "metadata": {},
   "outputs": [],
   "source": [
    "top_speed=160\n",
    "print('The top speed is', top_speed)"
   ]
  },
  {
   "cell_type": "code",
   "execution_count": null,
   "id": "286694e7",
   "metadata": {},
   "outputs": [],
   "source": [
    "pink=color\n",
    "print('color')"
   ]
  },
  {
   "cell_type": "code",
   "execution_count": null,
   "id": "a306ebf8",
   "metadata": {},
   "outputs": [],
   "source": [
    "color='pink'\n",
    "print('my favorite color is', color)"
   ]
  },
  {
   "cell_type": "code",
   "execution_count": null,
   "id": "524a4f7d",
   "metadata": {},
   "outputs": [],
   "source": [
    "length=50"
   ]
  },
  {
   "cell_type": "code",
   "execution_count": null,
   "id": "609811ce",
   "metadata": {},
   "outputs": [],
   "source": [
    "print('the length of his arm is',length, 'inches')"
   ]
  },
  {
   "cell_type": "markdown",
   "id": "df9bf3f4",
   "metadata": {},
   "source": [
    "length=50\n",
    "print('the length of his arm is',lenght, 'inches')"
   ]
  },
  {
   "cell_type": "code",
   "execution_count": null,
   "id": "eb0ea824",
   "metadata": {},
   "outputs": [],
   "source": [
    "I will assign prices to each item purchased"
   ]
  },
  {
   "cell_type": "code",
   "execution_count": 7,
   "id": "40968085",
   "metadata": {},
   "outputs": [],
   "source": [
    "pants=19.00\n",
    "shirt=12.00\n",
    "shoes=100.00\n",
    "socks=9.99\n",
    "pajamas=100.00"
   ]
  },
  {
   "cell_type": "code",
   "execution_count": 8,
   "id": "1936070c",
   "metadata": {},
   "outputs": [
    {
     "data": {
      "text/plain": [
       "240.99"
      ]
     },
     "execution_count": 8,
     "metadata": {},
     "output_type": "execute_result"
    }
   ],
   "source": [
    "pants+shirt+shoes+socks+pajamas"
   ]
  },
  {
   "cell_type": "code",
   "execution_count": 5,
   "id": "2cc174b1",
   "metadata": {},
   "outputs": [
    {
     "name": "stdout",
     "output_type": "stream",
     "text": [
      "149\n"
     ]
    }
   ],
   "source": [
    "print(subtotal)"
   ]
  },
  {
   "cell_type": "code",
   "execution_count": 9,
   "id": "ee384741",
   "metadata": {},
   "outputs": [
    {
     "data": {
      "text/plain": [
       "10.430000000000001"
      ]
     },
     "execution_count": 9,
     "metadata": {},
     "output_type": "execute_result"
    }
   ],
   "source": [
    "subtotal*0.07"
   ]
  },
  {
   "cell_type": "code",
   "execution_count": 11,
   "id": "3e66b366",
   "metadata": {},
   "outputs": [
    {
     "name": "stdout",
     "output_type": "stream",
     "text": [
      "grapevines=length_of_the_row_in_feet-(2)end_post_assembly/space\n"
     ]
    }
   ],
   "source": [
    "print('grapevines=length_of_the_row_in_feet-(2)end_post_assembly/space')"
   ]
  },
  {
   "cell_type": "code",
   "execution_count": 15,
   "id": "74f4ff16",
   "metadata": {},
   "outputs": [
    {
     "name": "stderr",
     "output_type": "stream",
     "text": [
      "<>:1: SyntaxWarning: 'int' object is not callable; perhaps you missed a comma?\n",
      "<>:1: SyntaxWarning: 'int' object is not callable; perhaps you missed a comma?\n",
      "C:\\Users\\Tahila Dale\\AppData\\Local\\Temp\\ipykernel_5940\\3467440933.py:1: SyntaxWarning: 'int' object is not callable; perhaps you missed a comma?\n",
      "  grapevines=length_of_row-2(end_post)/space\n",
      "C:\\Users\\Tahila Dale\\AppData\\Local\\Temp\\ipykernel_5940\\3467440933.py:1: SyntaxWarning: 'int' object is not callable; perhaps you missed a comma?\n",
      "  grapevines=length_of_row-2(end_post)/space\n",
      "C:\\Users\\Tahila Dale\\AppData\\Local\\Temp\\ipykernel_5940\\3467440933.py:1: SyntaxWarning: 'int' object is not callable; perhaps you missed a comma?\n",
      "  grapevines=length_of_row-2(end_post)/space\n"
     ]
    },
    {
     "ename": "NameError",
     "evalue": "name 'length_of_row' is not defined",
     "output_type": "error",
     "traceback": [
      "\u001b[1;31m---------------------------------------------------------------------------\u001b[0m",
      "\u001b[1;31mNameError\u001b[0m                                 Traceback (most recent call last)",
      "Cell \u001b[1;32mIn[15], line 1\u001b[0m\n\u001b[1;32m----> 1\u001b[0m grapevines\u001b[38;5;241m=\u001b[39m\u001b[43mlength_of_row\u001b[49m\u001b[38;5;241m-\u001b[39m\u001b[38;5;241m2\u001b[39m(end_post)\u001b[38;5;241m/\u001b[39mspace\n",
      "\u001b[1;31mNameError\u001b[0m: name 'length_of_row' is not defined"
     ]
    }
   ],
   "source": [
    "grapevines=length_of_row-2(end_post)/space\n",
    "\n"
   ]
  },
  {
   "cell_type": "markdown",
   "id": "e209d946",
   "metadata": {},
   "source": [
    "grapevines=row_length-(2)end_post/space"
   ]
  },
  {
   "cell_type": "code",
   "execution_count": null,
   "id": "9869c663",
   "metadata": {},
   "outputs": [],
   "source": []
  }
 ],
 "metadata": {
  "kernelspec": {
   "display_name": "Python 3 (ipykernel)",
   "language": "python",
   "name": "python3"
  },
  "language_info": {
   "codemirror_mode": {
    "name": "ipython",
    "version": 3
   },
   "file_extension": ".py",
   "mimetype": "text/x-python",
   "name": "python",
   "nbconvert_exporter": "python",
   "pygments_lexer": "ipython3",
   "version": "3.10.9"
  }
 },
 "nbformat": 4,
 "nbformat_minor": 5
}
