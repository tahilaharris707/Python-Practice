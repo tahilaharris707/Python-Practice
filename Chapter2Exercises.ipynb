{
 "cells": [
  {
   "cell_type": "markdown",
   "id": "cbe1e810",
   "metadata": {},
   "source": [
    "# Chapter 2 Exercises"
   ]
  },
  {
   "cell_type": "markdown",
   "id": "0e92135a",
   "metadata": {},
   "source": [
    "# Algorithm Workbench-Problem 2\n",
    "\n",
    "#Assigning a variable by using the input function to find out someone's favorite color."
   ]
  },
  {
   "cell_type": "markdown",
   "id": "92ac95d4",
   "metadata": {},
   "source": [
    "#This program demostrates a variable"
   ]
  },
  {
   "cell_type": "markdown",
   "id": "e85ba885",
   "metadata": {},
   "source": [
    "Color = pink"
   ]
  },
  {
   "cell_type": "markdown",
   "id": "e4c48217",
   "metadata": {},
   "source": [
    "#This program will demostrate the print function using a string."
   ]
  },
  {
   "cell_type": "code",
   "execution_count": null,
   "id": "17a3d97f",
   "metadata": {},
   "outputs": [],
   "source": [
    "print(\"Sue's favorite color is:, 'color'. \")\n",
    "\n",
    "When this is executed, I believe it will read \"Sue's favorite color is pink.\""
   ]
  }
 ],
 "metadata": {
  "kernelspec": {
   "display_name": "Python 3 (ipykernel)",
   "language": "python",
   "name": "python3"
  },
  "language_info": {
   "codemirror_mode": {
    "name": "ipython",
    "version": 3
   },
   "file_extension": ".py",
   "mimetype": "text/x-python",
   "name": "python",
   "nbconvert_exporter": "python",
   "pygments_lexer": "ipython3",
   "version": "3.10.9"
  }
 },
 "nbformat": 4,
 "nbformat_minor": 5
}
