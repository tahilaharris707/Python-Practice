{
 "cells": [
  {
   "cell_type": "markdown",
   "id": "48edc54c",
   "metadata": {},
   "source": [
    "# Chapter 2 Exercises"
   ]
  },
  {
   "cell_type": "markdown",
   "id": "cd95481f",
   "metadata": {},
   "source": [
    "# Algorithm Workbench-Problem 2\n",
    "\n",
    "#Assigning a variable by using the input function to find out someone's favorite color."
   ]
  },
  {
   "cell_type": "markdown",
   "id": "2bd88d31",
   "metadata": {},
   "source": [
    "#This program demostrates a variable"
   ]
  },
  {
   "cell_type": "markdown",
   "id": "57e1d20f",
   "metadata": {},
   "source": [
    "Color=pink"
   ]
  },
  {
   "cell_type": "markdown",
   "id": "3ee3f4d1",
   "metadata": {},
   "source": [
    "#This program will demostrate the print function using a string."
   ]
  },
  {
   "cell_type": "code",
   "execution_count": 6,
   "id": "d6845710",
   "metadata": {},
   "outputs": [
    {
     "ename": "NameError",
     "evalue": "name 'pink' is not defined",
     "output_type": "error",
     "traceback": [
      "\u001b[1;31m---------------------------------------------------------------------------\u001b[0m",
      "\u001b[1;31mNameError\u001b[0m                                 Traceback (most recent call last)",
      "Cell \u001b[1;32mIn[6], line 1\u001b[0m\n\u001b[1;32m----> 1\u001b[0m Color \u001b[38;5;241m=\u001b[39m \u001b[43mpink\u001b[49m\n",
      "\u001b[1;31mNameError\u001b[0m: name 'pink' is not defined"
     ]
    }
   ],
   "source": [
    "Color = pink"
   ]
  },
  {
   "cell_type": "code",
   "execution_count": 3,
   "id": "f3d1e804",
   "metadata": {},
   "outputs": [
    {
     "name": "stdout",
     "output_type": "stream",
     "text": [
      "Sue's favorite color is:, 'color'. \n"
     ]
    }
   ],
   "source": [
    "print(\"Sue's favorite color is:, 'color'. \")"
   ]
  },
  {
   "cell_type": "code",
   "execution_count": 8,
   "id": "e836d60d",
   "metadata": {},
   "outputs": [
    {
     "ename": "NameError",
     "evalue": "name 'color' is not defined",
     "output_type": "error",
     "traceback": [
      "\u001b[1;31m---------------------------------------------------------------------------\u001b[0m",
      "\u001b[1;31mNameError\u001b[0m                                 Traceback (most recent call last)",
      "Cell \u001b[1;32mIn[8], line 1\u001b[0m\n\u001b[1;32m----> 1\u001b[0m \u001b[38;5;28mprint\u001b[39m(\u001b[43mcolor\u001b[49m)\n",
      "\u001b[1;31mNameError\u001b[0m: name 'color' is not defined"
     ]
    }
   ],
   "source": [
    "print(color)"
   ]
  },
  {
   "cell_type": "code",
   "execution_count": 1,
   "id": "c4055cf6",
   "metadata": {},
   "outputs": [
    {
     "ename": "NameError",
     "evalue": "name 'pink' is not defined",
     "output_type": "error",
     "traceback": [
      "\u001b[1;31m---------------------------------------------------------------------------\u001b[0m",
      "\u001b[1;31mNameError\u001b[0m                                 Traceback (most recent call last)",
      "Cell \u001b[1;32mIn[1], line 1\u001b[0m\n\u001b[1;32m----> 1\u001b[0m \u001b[38;5;28minput\u001b[39m(color\u001b[38;5;241m=\u001b[39m\u001b[43mpink\u001b[49m)\n",
      "\u001b[1;31mNameError\u001b[0m: name 'pink' is not defined"
     ]
    }
   ],
   "source": [
    "input(color=pink)"
   ]
  },
  {
   "cell_type": "markdown",
   "id": "9f0360ab",
   "metadata": {},
   "source": [
    "color=pink"
   ]
  },
  {
   "cell_type": "code",
   "execution_count": 2,
   "id": "b3cbe758",
   "metadata": {},
   "outputs": [
    {
     "name": "stdout",
     "output_type": "stream",
     "text": [
      "color\n"
     ]
    }
   ],
   "source": [
    "print('color')"
   ]
  },
  {
   "cell_type": "markdown",
   "id": "352af44f",
   "metadata": {},
   "source": [
    "age=25"
   ]
  },
  {
   "cell_type": "code",
   "execution_count": 5,
   "id": "79d71ec4",
   "metadata": {},
   "outputs": [
    {
     "name": "stdout",
     "output_type": "stream",
     "text": [
      "age\n"
     ]
    }
   ],
   "source": [
    "print(\"age\")"
   ]
  },
  {
   "cell_type": "code",
   "execution_count": 6,
   "id": "2f2cdaf6",
   "metadata": {},
   "outputs": [
    {
     "ename": "NameError",
     "evalue": "name 'pink' is not defined",
     "output_type": "error",
     "traceback": [
      "\u001b[1;31m---------------------------------------------------------------------------\u001b[0m",
      "\u001b[1;31mNameError\u001b[0m                                 Traceback (most recent call last)",
      "Cell \u001b[1;32mIn[6], line 1\u001b[0m\n\u001b[1;32m----> 1\u001b[0m color\u001b[38;5;241m=\u001b[39m\u001b[43mpink\u001b[49m\n",
      "\u001b[1;31mNameError\u001b[0m: name 'pink' is not defined"
     ]
    }
   ],
   "source": [
    "color=pink\n"
   ]
  },
  {
   "cell_type": "code",
   "execution_count": 10,
   "id": "b0cef87f",
   "metadata": {},
   "outputs": [
    {
     "ename": "NameError",
     "evalue": "name 'pink' is not defined",
     "output_type": "error",
     "traceback": [
      "\u001b[1;31m---------------------------------------------------------------------------\u001b[0m",
      "\u001b[1;31mNameError\u001b[0m                                 Traceback (most recent call last)",
      "Cell \u001b[1;32mIn[10], line 1\u001b[0m\n\u001b[1;32m----> 1\u001b[0m color \u001b[38;5;241m=\u001b[39m \u001b[43mpink\u001b[49m\n",
      "\u001b[1;31mNameError\u001b[0m: name 'pink' is not defined"
     ]
    }
   ],
   "source": [
    "color = pink"
   ]
  },
  {
   "cell_type": "code",
   "execution_count": 11,
   "id": "c4dc92ee",
   "metadata": {},
   "outputs": [
    {
     "name": "stdout",
     "output_type": "stream",
     "text": [
      "pink\n"
     ]
    }
   ],
   "source": [
    "print('pink')"
   ]
  },
  {
   "cell_type": "code",
   "execution_count": 12,
   "id": "a748f2aa",
   "metadata": {},
   "outputs": [
    {
     "name": "stdout",
     "output_type": "stream",
     "text": [
      "color\n"
     ]
    }
   ],
   "source": [
    "print('color')"
   ]
  },
  {
   "cell_type": "code",
   "execution_count": 13,
   "id": "260ce207",
   "metadata": {},
   "outputs": [
    {
     "ename": "NameError",
     "evalue": "name 'pink' is not defined",
     "output_type": "error",
     "traceback": [
      "\u001b[1;31m---------------------------------------------------------------------------\u001b[0m",
      "\u001b[1;31mNameError\u001b[0m                                 Traceback (most recent call last)",
      "Cell \u001b[1;32mIn[13], line 1\u001b[0m\n\u001b[1;32m----> 1\u001b[0m color \u001b[38;5;241m=\u001b[39m \u001b[38;5;28minput\u001b[39m(\u001b[43mpink\u001b[49m)\n",
      "\u001b[1;31mNameError\u001b[0m: name 'pink' is not defined"
     ]
    }
   ],
   "source": [
    "color = input(pink)"
   ]
  },
  {
   "cell_type": "markdown",
   "id": "f9948088",
   "metadata": {},
   "source": [
    "#this program demostrates a variable\n",
    "room = 503\n",
    "print('I am staying in room number')\n",
    "print(room)"
   ]
  },
  {
   "cell_type": "markdown",
   "id": "e20b2713",
   "metadata": {},
   "source": [
    "#this program demostrates a variable"
   ]
  },
  {
   "cell_type": "code",
   "execution_count": null,
   "id": "11de5a7c",
   "metadata": {},
   "outputs": [],
   "source": [
    "room = 503"
   ]
  },
  {
   "cell_type": "code",
   "execution_count": null,
   "id": "5c206a4a",
   "metadata": {},
   "outputs": [],
   "source": [
    "print('I am staying in room number')"
   ]
  },
  {
   "cell_type": "code",
   "execution_count": null,
   "id": "eb685dc9",
   "metadata": {},
   "outputs": [],
   "source": [
    "print(room)"
   ]
  },
  {
   "cell_type": "code",
   "execution_count": null,
   "id": "622dea5e",
   "metadata": {},
   "outputs": [],
   "source": [
    "color=pink"
   ]
  },
  {
   "cell_type": "code",
   "execution_count": 18,
   "id": "a49036b7",
   "metadata": {},
   "outputs": [
    {
     "ename": "NameError",
     "evalue": "name 'pink' is not defined",
     "output_type": "error",
     "traceback": [
      "\u001b[1;31m---------------------------------------------------------------------------\u001b[0m",
      "\u001b[1;31mNameError\u001b[0m                                 Traceback (most recent call last)",
      "Cell \u001b[1;32mIn[18], line 1\u001b[0m\n\u001b[1;32m----> 1\u001b[0m color \u001b[38;5;241m=\u001b[39m \u001b[43mpink\u001b[49m\n",
      "\u001b[1;31mNameError\u001b[0m: name 'pink' is not defined"
     ]
    }
   ],
   "source": [
    "color = pink"
   ]
  },
  {
   "cell_type": "code",
   "execution_count": 19,
   "id": "423f5596",
   "metadata": {},
   "outputs": [
    {
     "ename": "NameError",
     "evalue": "name 'purple' is not defined",
     "output_type": "error",
     "traceback": [
      "\u001b[1;31m---------------------------------------------------------------------------\u001b[0m",
      "\u001b[1;31mNameError\u001b[0m                                 Traceback (most recent call last)",
      "Cell \u001b[1;32mIn[19], line 1\u001b[0m\n\u001b[1;32m----> 1\u001b[0m color \u001b[38;5;241m=\u001b[39m \u001b[43mpurple\u001b[49m\n",
      "\u001b[1;31mNameError\u001b[0m: name 'purple' is not defined"
     ]
    }
   ],
   "source": [
    "color = purple"
   ]
  },
  {
   "cell_type": "markdown",
   "id": "c09fe315",
   "metadata": {},
   "source": [
    "#this program demostrates a variable"
   ]
  },
  {
   "cell_type": "markdown",
   "id": "565a2c30",
   "metadata": {},
   "source": [
    "room = 503"
   ]
  },
  {
   "cell_type": "markdown",
   "id": "2acc2146",
   "metadata": {},
   "source": [
    "print('I am staying in room number')"
   ]
  },
  {
   "cell_type": "markdown",
   "id": "3e88076c",
   "metadata": {},
   "source": [
    "print(room)"
   ]
  },
  {
   "cell_type": "markdown",
   "id": "53af4ddd",
   "metadata": {},
   "source": [
    "room = 503"
   ]
  },
  {
   "cell_type": "markdown",
   "id": "d93bc61e",
   "metadata": {},
   "source": [
    "print(room)"
   ]
  },
  {
   "cell_type": "code",
   "execution_count": 24,
   "id": "c6e2e31d",
   "metadata": {},
   "outputs": [],
   "source": [
    "x=3"
   ]
  },
  {
   "cell_type": "code",
   "execution_count": 25,
   "id": "e1225ace",
   "metadata": {},
   "outputs": [
    {
     "name": "stdout",
     "output_type": "stream",
     "text": [
      "3\n"
     ]
    }
   ],
   "source": [
    "print(x)"
   ]
  },
  {
   "cell_type": "markdown",
   "id": "e0dafc61",
   "metadata": {},
   "source": [
    "x=3"
   ]
  },
  {
   "cell_type": "code",
   "execution_count": 26,
   "id": "3b7e4f2b",
   "metadata": {},
   "outputs": [
    {
     "name": "stdout",
     "output_type": "stream",
     "text": [
      "3\n"
     ]
    }
   ],
   "source": [
    "print(x)"
   ]
  },
  {
   "cell_type": "code",
   "execution_count": 28,
   "id": "82cb80b9",
   "metadata": {},
   "outputs": [],
   "source": [
    "pink = 2"
   ]
  },
  {
   "cell_type": "code",
   "execution_count": 30,
   "id": "dcf971de",
   "metadata": {},
   "outputs": [
    {
     "name": "stdout",
     "output_type": "stream",
     "text": [
      "2\n"
     ]
    }
   ],
   "source": [
    "print('2')"
   ]
  },
  {
   "cell_type": "code",
   "execution_count": 33,
   "id": "ce125a50",
   "metadata": {},
   "outputs": [
    {
     "ename": "SyntaxError",
     "evalue": "invalid syntax (4217531960.py, line 1)",
     "output_type": "error",
     "traceback": [
      "\u001b[1;36m  Cell \u001b[1;32mIn[33], line 1\u001b[1;36m\u001b[0m\n\u001b[1;33m    length 7.2\u001b[0m\n\u001b[1;37m           ^\u001b[0m\n\u001b[1;31mSyntaxError\u001b[0m\u001b[1;31m:\u001b[0m invalid syntax\n"
     ]
    }
   ],
   "source": [
    "length 7.2"
   ]
  },
  {
   "cell_type": "code",
   "execution_count": 32,
   "id": "61c9bb47",
   "metadata": {},
   "outputs": [
    {
     "name": "stdout",
     "output_type": "stream",
     "text": [
      "length\n"
     ]
    }
   ],
   "source": [
    "print('length')"
   ]
  },
  {
   "cell_type": "code",
   "execution_count": 34,
   "id": "e65c0f2b",
   "metadata": {},
   "outputs": [],
   "source": [
    "top_speed=160"
   ]
  },
  {
   "cell_type": "code",
   "execution_count": 35,
   "id": "fbb263af",
   "metadata": {},
   "outputs": [
    {
     "name": "stdout",
     "output_type": "stream",
     "text": [
      "the top speed is:\n"
     ]
    }
   ],
   "source": [
    "print('the top speed is:')"
   ]
  },
  {
   "cell_type": "code",
   "execution_count": 38,
   "id": "76a0e2b2",
   "metadata": {},
   "outputs": [
    {
     "ename": "SyntaxError",
     "evalue": "unterminated string literal (detected at line 1) (3605427412.py, line 1)",
     "output_type": "error",
     "traceback": [
      "\u001b[1;36m  Cell \u001b[1;32mIn[38], line 1\u001b[1;36m\u001b[0m\n\u001b[1;33m    print('top_speed is:'')\u001b[0m\n\u001b[1;37m                         ^\u001b[0m\n\u001b[1;31mSyntaxError\u001b[0m\u001b[1;31m:\u001b[0m unterminated string literal (detected at line 1)\n"
     ]
    }
   ],
   "source": [
    "print('top_speed is:'')"
   ]
  },
  {
   "cell_type": "code",
   "execution_count": 39,
   "id": "1db49346",
   "metadata": {},
   "outputs": [],
   "source": [
    "top_speed=160"
   ]
  },
  {
   "cell_type": "code",
   "execution_count": 52,
   "id": "0ac9d8db",
   "metadata": {},
   "outputs": [
    {
     "name": "stdout",
     "output_type": "stream",
     "text": [
      "top_speed is 160\n"
     ]
    }
   ],
   "source": [
    "print('top_speed is', top_speed)"
   ]
  },
  {
   "cell_type": "code",
   "execution_count": 41,
   "id": "620dea76",
   "metadata": {},
   "outputs": [],
   "source": [
    "top_speed=160"
   ]
  },
  {
   "cell_type": "code",
   "execution_count": 42,
   "id": "72091e78",
   "metadata": {},
   "outputs": [
    {
     "name": "stdout",
     "output_type": "stream",
     "text": [
      "The top speed is\n"
     ]
    }
   ],
   "source": [
    "print('The top speed is')"
   ]
  },
  {
   "cell_type": "code",
   "execution_count": 43,
   "id": "f01219ad",
   "metadata": {},
   "outputs": [
    {
     "name": "stdout",
     "output_type": "stream",
     "text": [
      "160\n"
     ]
    }
   ],
   "source": [
    "print(top_speed)"
   ]
  },
  {
   "cell_type": "code",
   "execution_count": 45,
   "id": "11be1a44",
   "metadata": {},
   "outputs": [
    {
     "name": "stdout",
     "output_type": "stream",
     "text": [
      "I am staying in room number 503\n"
     ]
    }
   ],
   "source": [
    "room=503\n",
    "print('I am staying in room number', room)\n"
   ]
  },
  {
   "cell_type": "code",
   "execution_count": 46,
   "id": "da1e9438",
   "metadata": {},
   "outputs": [
    {
     "name": "stdout",
     "output_type": "stream",
     "text": [
      "The top speed is 160\n"
     ]
    }
   ],
   "source": [
    "top_speed=160\n",
    "print('The top speed is', top_speed)"
   ]
  },
  {
   "cell_type": "code",
   "execution_count": 47,
   "id": "286694e7",
   "metadata": {},
   "outputs": [
    {
     "ename": "NameError",
     "evalue": "name 'color' is not defined",
     "output_type": "error",
     "traceback": [
      "\u001b[1;31m---------------------------------------------------------------------------\u001b[0m",
      "\u001b[1;31mNameError\u001b[0m                                 Traceback (most recent call last)",
      "Cell \u001b[1;32mIn[47], line 1\u001b[0m\n\u001b[1;32m----> 1\u001b[0m pink\u001b[38;5;241m=\u001b[39m\u001b[43mcolor\u001b[49m\n\u001b[0;32m      2\u001b[0m \u001b[38;5;28mprint\u001b[39m(\u001b[38;5;124m'\u001b[39m\u001b[38;5;124mcolor\u001b[39m\u001b[38;5;124m'\u001b[39m)\n",
      "\u001b[1;31mNameError\u001b[0m: name 'color' is not defined"
     ]
    }
   ],
   "source": [
    "pink=color\n",
    "print('color')"
   ]
  },
  {
   "cell_type": "code",
   "execution_count": 50,
   "id": "a306ebf8",
   "metadata": {},
   "outputs": [
    {
     "name": "stdout",
     "output_type": "stream",
     "text": [
      "my favorite color is pink\n"
     ]
    }
   ],
   "source": [
    "color='pink'\n",
    "print('my favorite color is', color)"
   ]
  },
  {
   "cell_type": "code",
   "execution_count": 53,
   "id": "524a4f7d",
   "metadata": {},
   "outputs": [],
   "source": [
    "length=50"
   ]
  },
  {
   "cell_type": "code",
   "execution_count": 54,
   "id": "609811ce",
   "metadata": {},
   "outputs": [
    {
     "name": "stdout",
     "output_type": "stream",
     "text": [
      "the length of his arm is 50 inches\n"
     ]
    }
   ],
   "source": [
    "print('the length of his arm is',length, 'inches')"
   ]
  },
  {
   "cell_type": "markdown",
   "id": "df9bf3f4",
   "metadata": {},
   "source": [
    "length=50\n",
    "print('the length of his arm is',lenght, 'inches')"
   ]
  },
  {
   "cell_type": "code",
   "execution_count": null,
   "id": "eb0ea824",
   "metadata": {},
   "outputs": [],
   "source": []
  }
 ],
 "metadata": {
  "kernelspec": {
   "display_name": "Python 3 (ipykernel)",
   "language": "python",
   "name": "python3"
  },
  "language_info": {
   "codemirror_mode": {
    "name": "ipython",
    "version": 3
   },
   "file_extension": ".py",
   "mimetype": "text/x-python",
   "name": "python",
   "nbconvert_exporter": "python",
   "pygments_lexer": "ipython3",
   "version": "3.10.9"
  }
 },
 "nbformat": 4,
 "nbformat_minor": 5
}
