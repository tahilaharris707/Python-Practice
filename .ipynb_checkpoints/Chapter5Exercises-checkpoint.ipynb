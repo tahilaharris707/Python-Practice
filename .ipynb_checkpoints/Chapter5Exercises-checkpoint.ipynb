{
 "cells": [
  {
   "cell_type": "markdown",
   "id": "ef73ebfd",
   "metadata": {},
   "source": [
    "# Chapter 5 Algorithm Workbench\n",
    "# Problem #2"
   ]
  },
  {
   "cell_type": "code",
   "execution_count": 1,
   "id": "9bf84606",
   "metadata": {},
   "outputs": [
    {
     "name": "stdout",
     "output_type": "stream",
     "text": [
      "12\n"
     ]
    }
   ],
   "source": [
    "# I will write a statement that calls the def function.\n",
    "# I will pass 12 as an argument.\n",
    "# I will create a function header.\n",
    "\n",
    "def show_value():\n",
    "    print ('12')\n",
    "    \n",
    "# I will call the function    \n",
    "      \n",
    "show_value()\n",
    "    "
   ]
  },
  {
   "cell_type": "markdown",
   "id": "98555ab3",
   "metadata": {},
   "source": [
    "## Algorithm Workbench Problem #4\n"
   ]
  },
  {
   "cell_type": "code",
   "execution_count": null,
   "id": "5c803ed6",
   "metadata": {},
   "outputs": [],
   "source": [
    "# I will input a program to see what it will display"
   ]
  }
 ],
 "metadata": {
  "kernelspec": {
   "display_name": "Python 3 (ipykernel)",
   "language": "python",
   "name": "python3"
  },
  "language_info": {
   "codemirror_mode": {
    "name": "ipython",
    "version": 3
   },
   "file_extension": ".py",
   "mimetype": "text/x-python",
   "name": "python",
   "nbconvert_exporter": "python",
   "pygments_lexer": "ipython3",
   "version": "3.10.9"
  }
 },
 "nbformat": 4,
 "nbformat_minor": 5
}
