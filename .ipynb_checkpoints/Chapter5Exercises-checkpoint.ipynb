{
 "cells": [
  {
   "cell_type": "markdown",
   "id": "ef73ebfd",
   "metadata": {},
   "source": [
    "# Chapter 5 Algorithm Workbench\n",
    "# Problem #2"
   ]
  },
  {
   "cell_type": "code",
   "execution_count": 1,
   "id": "9bf84606",
   "metadata": {},
   "outputs": [
    {
     "name": "stdout",
     "output_type": "stream",
     "text": [
      "12\n"
     ]
    }
   ],
   "source": [
    "# I will write a statement that calls the def function.\n",
    "# I will pass 12 as an argument.\n",
    "# I will create a function header.\n",
    "\n",
    "def show_value():\n",
    "    print ('12')\n",
    "    \n",
    "# I will call the function    \n",
    "      \n",
    "show_value()\n",
    "    "
   ]
  },
  {
   "cell_type": "markdown",
   "id": "4901861a",
   "metadata": {},
   "source": [
    "## Algorithm Workbench Problem #4\n"
   ]
  },
  {
   "cell_type": "code",
   "execution_count": 2,
   "id": "f42df706",
   "metadata": {},
   "outputs": [
    {
     "name": "stdout",
     "output_type": "stream",
     "text": [
      "1 3.4\n",
      "0 0\n",
      "1 3.4\n"
     ]
    }
   ],
   "source": [
    "# I will input a program to see what it will display\n",
    "\n",
    "def main():\n",
    "    x = 1\n",
    "    y = 3.4\n",
    "    print(x,y)\n",
    "    change_us(x,y)\n",
    "    print(x,y)\n",
    "def change_us(a,b):\n",
    "    a = 0\n",
    "    b = 0\n",
    "    print(a,b)\n",
    "main()\n",
    "\n",
    "# I believe it will display 1, 3.4, 0,0\n",
    "        "
   ]
  },
  {
   "cell_type": "markdown",
   "id": "859d0e1c",
   "metadata": {},
   "source": [
    "## Programming Exercise Problem #1"
   ]
  },
  {
   "cell_type": "code",
   "execution_count": 3,
   "id": "0c1b108f",
   "metadata": {},
   "outputs": [
    {
     "name": "stdout",
     "output_type": "stream",
     "text": [
      "Enter the distance in kilometers: 160.9344\n",
      "Miles = 62.14\n",
      "100.00463616\n"
     ]
    }
   ],
   "source": [
    "# I will enter a distance in kilometers and then convert that distance to miles.\n",
    "# I will write an input function that prompts a user to enter distance in kilometers\n",
    "kilometers = float(input('Enter the distance in kilometers: '))\n",
    "miles = kilometers * 0.6214\n",
    "# I will call the print function to display the kilometers\n",
    "print('Miles = 62.14')\n",
    "print(kilometers * 0.6214)"
   ]
  },
  {
   "cell_type": "markdown",
   "id": "980f3c35",
   "metadata": {},
   "source": [
    "## Programming Exercise Problem #16 Prime Numbers"
   ]
  },
  {
   "cell_type": "code",
   "execution_count": 4,
   "id": "07a6a5a8",
   "metadata": {},
   "outputs": [
    {
     "name": "stdout",
     "output_type": "stream",
     "text": [
      "Enter a whole number 5\n",
      "This is a prime number\n"
     ]
    }
   ],
   "source": [
    "# I will use the boolean if function to determine if a number is a prime number\n",
    "# I will enter a def main function\n",
    "# I will write a function using the input function to get a number.\n",
    "def main():\n",
    "    number = int(input('Enter a whole number '))\n",
    "    prime = is_prime(number)\n",
    "    if prime == True:\n",
    "        print('This is a prime number')\n",
    "    else:\n",
    "        print('This is not a prime number')\n",
    "        \n",
    "# I will write a program for is_prime\n",
    "\n",
    "def is_prime(number):\n",
    "    result = True\n",
    "    for i in range(2, number):\n",
    "        if(number % i) == 0:\n",
    "                result = False\n",
    "    return result\n",
    "main()"
   ]
  },
  {
   "cell_type": "markdown",
   "id": "2abbfa9d",
   "metadata": {},
   "source": [
    "## Progamming Exercise Problem #17 Prime Number List"
   ]
  },
  {
   "cell_type": "code",
   "execution_count": 5,
   "id": "12f8873b",
   "metadata": {},
   "outputs": [
    {
     "name": "stdout",
     "output_type": "stream",
     "text": [
      "2\n",
      "3\n",
      "5\n",
      "7\n",
      "11\n",
      "13\n",
      "17\n",
      "19\n",
      "23\n",
      "29\n",
      "31\n",
      "37\n",
      "41\n",
      "43\n",
      "47\n",
      "53\n",
      "59\n",
      "61\n",
      "67\n",
      "71\n",
      "73\n",
      "79\n",
      "83\n",
      "89\n",
      "97\n"
     ]
    }
   ],
   "source": [
    "# I will write a for loop using the is_prime function to display the prime numbers from 1 to 100.\n",
    "# I will enter the prime numbers into the for loop \n",
    "# and use the print function to display them\n",
    "\n",
    "for is_prime in(2, 3, 5, 7, 11, 13, 17, 19, 23, 29, 31, 37, 41, 43, 47, 53, 59, 61, 67, 71, 73, 79, 83, 89, 97):\n",
    "    print(is_prime)\n"
   ]
  },
  {
   "cell_type": "markdown",
   "id": "a70b12c0",
   "metadata": {},
   "source": [
    "## Programming Exercise Problem #4 Automobile Cost"
   ]
  },
  {
   "cell_type": "code",
   "execution_count": null,
   "id": "2f8e5062",
   "metadata": {},
   "outputs": [],
   "source": [
    "# I will write a program that asks the user to enter monthly expenses\n",
    "# incurred from operating their automobile.\n",
    "# I assigned a variable to each expense\n",
    "# I will write an input statement that prompts the user to enter an amount.\n",
    "\n",
    "loan=300.0\n",
    "insurance=150.0\n",
    "gas=75.0\n",
    "oil=99.0\n",
    "tires=900.0\n",
    "maintenance=200.0\n",
    "\n",
    "def main():\n",
    "    float(input('Enter the amount of the loan '))\n",
    "    float(input('Enter the amount of the insurance '))\n",
    "    float(input('Enter the amount of gas '))\n",
    "    float(input('Enter the amount of oil '))\n",
    "    float(input('Enter the amount of tires '))\n",
    "    float(input('Enter the amount of maintenance '))\n",
    "    "
   ]
  }
 ],
 "metadata": {
  "kernelspec": {
   "display_name": "Python 3 (ipykernel)",
   "language": "python",
   "name": "python3"
  },
  "language_info": {
   "codemirror_mode": {
    "name": "ipython",
    "version": 3
   },
   "file_extension": ".py",
   "mimetype": "text/x-python",
   "name": "python",
   "nbconvert_exporter": "python",
   "pygments_lexer": "ipython3",
   "version": "3.10.9"
  }
 },
 "nbformat": 4,
 "nbformat_minor": 5
}
