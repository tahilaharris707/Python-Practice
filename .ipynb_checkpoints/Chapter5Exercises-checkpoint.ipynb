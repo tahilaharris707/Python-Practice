{
 "cells": [
  {
   "cell_type": "markdown",
   "id": "ef73ebfd",
   "metadata": {},
   "source": [
    "# Chapter 5 Algorithm Workbench\n",
    "# Problem #2"
   ]
  },
  {
   "cell_type": "code",
   "execution_count": 1,
   "id": "9bf84606",
   "metadata": {},
   "outputs": [
    {
     "name": "stdout",
     "output_type": "stream",
     "text": [
      "12\n"
     ]
    }
   ],
   "source": [
    "# I will write a statement that calls the def function.\n",
    "# I will pass 12 as an argument.\n",
    "# I will create a function header.\n",
    "\n",
    "def show_value():\n",
    "    print ('12')\n",
    "    \n",
    "# I will call the function    \n",
    "      \n",
    "show_value()\n",
    "    "
   ]
  },
  {
   "cell_type": "markdown",
   "id": "4901861a",
   "metadata": {},
   "source": [
    "## Algorithm Workbench Problem #4\n"
   ]
  },
  {
   "cell_type": "code",
   "execution_count": 2,
   "id": "f42df706",
   "metadata": {},
   "outputs": [
    {
     "name": "stdout",
     "output_type": "stream",
     "text": [
      "1 3.4\n",
      "0 0\n",
      "1 3.4\n"
     ]
    }
   ],
   "source": [
    "# I will input a program to see what it will display\n",
    "\n",
    "def main():\n",
    "    x = 1\n",
    "    y = 3.4\n",
    "    print(x,y)\n",
    "    change_us(x,y)\n",
    "    print(x,y)\n",
    "def change_us(a,b):\n",
    "    a = 0\n",
    "    b = 0\n",
    "    print(a,b)\n",
    "main()\n",
    "\n",
    "# I believe it will display 1, 3.4, 0,0\n",
    "        "
   ]
  },
  {
   "cell_type": "markdown",
   "id": "859d0e1c",
   "metadata": {},
   "source": [
    "## Programming Exercise Problem #1"
   ]
  },
  {
   "cell_type": "code",
   "execution_count": 3,
   "id": "0c1b108f",
   "metadata": {},
   "outputs": [
    {
     "name": "stdout",
     "output_type": "stream",
     "text": [
      "Enter the distance in kilometers: 160.9344\n",
      "Miles = 62.14\n",
      "100.00463616\n"
     ]
    }
   ],
   "source": [
    "# I will enter a distance in kilometers and then convert that distance to miles.\n",
    "# I will write an input function that prompts a user to enter distance in kilometers\n",
    "kilometers = float(input('Enter the distance in kilometers: '))\n",
    "miles = kilometers * 0.6214\n",
    "# I will call the print function to display the kilometers\n",
    "print('Miles = 62.14')\n",
    "print(kilometers * 0.6214)"
   ]
  },
  {
   "cell_type": "markdown",
   "id": "8adb3588",
   "metadata": {},
   "source": [
    "## Programming Exercise Problem #16 Prime Numbers"
   ]
  },
  {
   "cell_type": "code",
   "execution_count": 4,
   "id": "94b82fda",
   "metadata": {},
   "outputs": [
    {
     "name": "stdout",
     "output_type": "stream",
     "text": [
      "Enter a number: 8\n",
      "True\n"
     ]
    }
   ],
   "source": [
    "# I will use the boolean if function to determine if a number is a prime number\n",
    "is_prime = 8\n",
    "is_prime = int(input('Enter a number: '))\n",
    "if is_prime>1:\n",
    "        print('True')\n"
   ]
  },
  {
   "cell_type": "code",
   "execution_count": null,
   "id": "ca2dfb3a",
   "metadata": {},
   "outputs": [],
   "source": []
  }
 ],
 "metadata": {
  "kernelspec": {
   "display_name": "Python 3 (ipykernel)",
   "language": "python",
   "name": "python3"
  },
  "language_info": {
   "codemirror_mode": {
    "name": "ipython",
    "version": 3
   },
   "file_extension": ".py",
   "mimetype": "text/x-python",
   "name": "python",
   "nbconvert_exporter": "python",
   "pygments_lexer": "ipython3",
   "version": "3.10.9"
  }
 },
 "nbformat": 4,
 "nbformat_minor": 5
}
