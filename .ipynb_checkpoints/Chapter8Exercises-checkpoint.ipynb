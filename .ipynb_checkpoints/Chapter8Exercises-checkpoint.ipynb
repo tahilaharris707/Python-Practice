{
 "cells": [
  {
   "cell_type": "markdown",
   "id": "f5ffee09",
   "metadata": {},
   "source": [
    "# Chapter 8 Algorithm Workbench\n",
    "## Problem # 4"
   ]
  },
  {
   "cell_type": "code",
   "execution_count": 1,
   "id": "9febe8a7",
   "metadata": {},
   "outputs": [
    {
     "name": "stdout",
     "output_type": "stream",
     "text": [
      "Enter a sentence: Christmas is my favorite holiday.\n",
      "The letter i appears 4 times.\n"
     ]
    }
   ],
   "source": [
    "# I will write a loop that counts the number of lowercase that appears in a string referenced by my_string.\n",
    "# I will create a variable named count.\n",
    "\n",
    "def main():\n",
    "    count=0\n",
    "\n",
    "# I will create another variable named my_string and use the input function to enter a string.\n",
    "    my_string= input('Enter a sentence: ')\n",
    "    \n",
    "# I will create a for loop that will count the number of lowercase t's in the string created.\n",
    "\n",
    "    for ch in my_string:\n",
    "        if ch == 'i':\n",
    "            count+=1\n",
    "    print(f'The letter i appears {count} times.')\n",
    "\n",
    "# I will execute the main function and display the output.\n",
    "if __name__=='__main__':\n",
    "    main()\n"
   ]
  },
  {
   "cell_type": "markdown",
   "id": "9d99742a",
   "metadata": {},
   "source": [
    "## Algorithm Workbench\n",
    "## Problem # 8"
   ]
  },
  {
   "cell_type": "code",
   "execution_count": 2,
   "id": "68a71ce2",
   "metadata": {},
   "outputs": [
    {
     "name": "stdout",
     "output_type": "stream",
     "text": [
      "Bur\n"
     ]
    }
   ],
   "source": [
    "# I will write a statement using the slicing expression to display the first 3 characters in a string.\n",
    "# I will assign a variable named color\n",
    "\n",
    "color='Burgundy'\n",
    "\n",
    "# I will create a string named my_string that will reference the string\n",
    "\n",
    "my_string=color[:3]\n",
    "\n",
    "# I will use the print function to display the output on the screen\n",
    "\n",
    "print(my_string)"
   ]
  },
  {
   "cell_type": "markdown",
   "id": "5af55913",
   "metadata": {},
   "source": [
    "## Programming Exercise\n",
    "## Problem # 1"
   ]
  },
  {
   "cell_type": "code",
   "execution_count": 3,
   "id": "a3563b49",
   "metadata": {},
   "outputs": [
    {
     "name": "stdout",
     "output_type": "stream",
     "text": [
      "G O D\n"
     ]
    }
   ],
   "source": [
    "# I will write a program containing a person's first, middle and last name\n",
    "# and display the intial of the first, middle and last name.\n",
    "# I will create a variable and assign it a name.\n",
    "\n",
    "full_name = 'Gina Olivia Denson'\n",
    "\n",
    "# I will create a string concatenation to display the initials\n",
    "\n",
    "initial='G'\n",
    "initial+=' '\n",
    "initial+='O'\n",
    "initial+=' '\n",
    "initial+='D'\n",
    "\n",
    "# I will use the print function to display the initials\n",
    "\n",
    "print(initial)\n",
    "\n"
   ]
  },
  {
   "cell_type": "markdown",
   "id": "5b6439eb",
   "metadata": {},
   "source": [
    "## Programming Exercise #5 \n",
    "## Alphabetic Telephone Number Translator\n"
   ]
  },
  {
   "cell_type": "code",
   "execution_count": 4,
   "id": "5094593f",
   "metadata": {},
   "outputs": [
    {
     "name": "stdout",
     "output_type": "stream",
     "text": [
      "Enter a 10 digit phone number: 515-NEW-HOME\n",
      "515-639-4663\n"
     ]
    }
   ],
   "source": [
    "# I will write a program that asks a user to enter a 10-character phone number\n",
    "# and display it with alphabetic characters.\n",
    "# I will create a variable named phone number that will prompt me to enter a phone number using the input function.\n",
    "\n",
    "phone_number=input('Enter a 10 digit phone number: ')\n",
    "\n",
    "# I will use the replace method to replace some digits of the phone number with numerical characters.\n",
    "\n",
    "phone_number=phone_number.replace('NEW', '639')\n",
    "phone_number=phone_number.replace('HOME', '4663')\n",
    "\n",
    "# I will use the print function to display the output of the program.\n",
    "\n",
    "print(phone_number)"
   ]
  },
  {
   "cell_type": "markdown",
   "id": "a5b51b3c",
   "metadata": {},
   "source": [
    "## Programming Exercise #8\n",
    "## Sentence Capitalizer"
   ]
  },
  {
   "cell_type": "code",
   "execution_count": 5,
   "id": "f31adef6",
   "metadata": {},
   "outputs": [
    {
     "name": "stdout",
     "output_type": "stream",
     "text": [
      "Enter a Sentence: always love yourself.\n",
      "Always Love Yourself.\n"
     ]
    }
   ],
   "source": [
    "# I will write a program with a function that accepts an argument and\n",
    "# returns a copy of the first character of each sentence capitalized.\n",
    "\n",
    "# I will create a string variable that uses the input function that will\n",
    "# prompt me to enter a sentence.\n",
    "\n",
    "string=input('Enter a Sentence: ')\n",
    "\n",
    "# I will now use the print function with the title() method to display the first\n",
    "# letter of each sentence capitalized.\n",
    "\n",
    "print(string.title())\n"
   ]
  },
  {
   "cell_type": "markdown",
   "id": "49287716",
   "metadata": {},
   "source": [
    "## Programming Exercise # 10\n",
    "## Most Frequent Character"
   ]
  },
  {
   "cell_type": "code",
   "execution_count": null,
   "id": "52e68770",
   "metadata": {},
   "outputs": [],
   "source": [
    "# I will Write a program that allows me to enter a string \n",
    "# and display the character that appears most frequently in the string.\n",
    "\n",
    "# I will use the def function to define the most frequent charcter\n",
    "# that takes a string as an input and create a function to keep track of \n",
    "# each character in the string.\n",
    "\n",
    "def most_frequent_character(string):\n",
    "    char_count = {}\n",
    "    \n",
    "# I will create a for loop to iterate over each character in the string.\n",
    "    for char in string:\n",
    "        if char in char_count:\n",
    "            char_count[char]+=1\n",
    "        else:\n",
    "            char_count[char]=1\n",
    "            \n",
    "# I will create a function that will calculate the most character in the string.\n",
    "    \n",
    "    max_count = 0\n",
    "    most_frequent_char = None\n",
    "    for char, count in char_count.items():\n",
    "        if count > max_count:\n",
    "            max_count = count\n",
    "            most_frequent_char = char\n",
    "        return most_frequent_char\n",
    "\n",
    "# I will use the input function to enter a string.\n",
    "\n",
    "user_input=input('Enter a String: ')\n",
    "\n",
    "# I will create a variable named result.\n",
    "\n",
    "result = most_frequent_character(user_input)\n",
    "    "
   ]
  }
 ],
 "metadata": {
  "kernelspec": {
   "display_name": "Python 3 (ipykernel)",
   "language": "python",
   "name": "python3"
  },
  "language_info": {
   "codemirror_mode": {
    "name": "ipython",
    "version": 3
   },
   "file_extension": ".py",
   "mimetype": "text/x-python",
   "name": "python",
   "nbconvert_exporter": "python",
   "pygments_lexer": "ipython3",
   "version": "3.10.9"
  }
 },
 "nbformat": 4,
 "nbformat_minor": 5
}
