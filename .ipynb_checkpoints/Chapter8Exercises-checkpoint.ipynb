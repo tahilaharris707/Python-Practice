{
 "cells": [
  {
   "cell_type": "markdown",
   "id": "b225d0e2",
   "metadata": {},
   "source": [
    "# Chapter 8 Algorithm Workbench\n",
    "## Problem # 4"
   ]
  },
  {
   "cell_type": "code",
   "execution_count": null,
   "id": "e7df8756",
   "metadata": {},
   "outputs": [],
   "source": [
    "# I will write a loop that counts the number of lowercase that appears in a string referenced by my_string.\n",
    "# I will create a variable named count.\n",
    "\n",
    "def main():\n",
    "    count=0\n",
    "\n",
    "# I will create another variable named my_string and use the input function to enter a string.\n",
    "    my_string= input('Christmas is my favorite holiday')\n",
    "    \n",
    "# I will create a for loop that will count the number of lowercase t's in the string created.\n",
    "\n",
    "    for ch in my_string:\n",
    "        if ch == t:\n",
    "            count+1\n",
    "        print(f'The letter t appears {count} times.')\n",
    "\n",
    "# I will execute the main function.\n",
    "if __name__=='__main__':\n",
    "    main()\n"
   ]
  }
 ],
 "metadata": {
  "kernelspec": {
   "display_name": "Python 3 (ipykernel)",
   "language": "python",
   "name": "python3"
  },
  "language_info": {
   "codemirror_mode": {
    "name": "ipython",
    "version": 3
   },
   "file_extension": ".py",
   "mimetype": "text/x-python",
   "name": "python",
   "nbconvert_exporter": "python",
   "pygments_lexer": "ipython3",
   "version": "3.10.9"
  }
 },
 "nbformat": 4,
 "nbformat_minor": 5
}
