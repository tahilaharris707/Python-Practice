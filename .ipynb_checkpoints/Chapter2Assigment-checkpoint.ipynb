{
 "cells": [
  {
   "cell_type": "markdown",
   "id": "3aa7610c",
   "metadata": {},
   "source": [
    "# Chapter 2 Exercises\n",
    "\n",
    "Algorithm Workbench Problem #2"
   ]
  },
  {
   "cell_type": "markdown",
   "id": "d007c26b",
   "metadata": {},
   "source": [
    "I will use a python code to assign a color to a variable\n",
    "\n",
    "color='pink'\n",
    "\n",
    "When the code is excuted, I believe it will display the following on the screen: color=pink"
   ]
  },
  {
   "cell_type": "code",
   "execution_count": 1,
   "id": "218a9d71",
   "metadata": {},
   "outputs": [],
   "source": [
    "color='pink'"
   ]
  },
  {
   "cell_type": "markdown",
   "id": "341416a4",
   "metadata": {},
   "source": [
    "I will type a string using the print function that show my favorite color using the assigned variable."
   ]
  },
  {
   "cell_type": "markdown",
   "id": "3c29746a",
   "metadata": {},
   "source": [
    "When the string is executed, I believe the output will be My favorite color is."
   ]
  },
  {
   "cell_type": "code",
   "execution_count": 2,
   "id": "16eaf0e1",
   "metadata": {},
   "outputs": [
    {
     "name": "stdout",
     "output_type": "stream",
     "text": [
      "my favorite color is\n"
     ]
    }
   ],
   "source": [
    "print('my favorite color is')"
   ]
  },
  {
   "cell_type": "markdown",
   "id": "5579c09b",
   "metadata": {},
   "source": [
    "I will now use the assigned variable to reveal my favorite color.\n",
    "\n",
    "I believe it will excute displaying My favorite color is pink."
   ]
  },
  {
   "cell_type": "code",
   "execution_count": 3,
   "id": "131fb1bd",
   "metadata": {},
   "outputs": [
    {
     "name": "stdout",
     "output_type": "stream",
     "text": [
      "My favorite color is\n",
      "pink\n"
     ]
    }
   ],
   "source": [
    "print('My favorite color is')\n",
    "print(color)"
   ]
  },
  {
   "cell_type": "code",
   "execution_count": null,
   "id": "1d44e80a",
   "metadata": {},
   "outputs": [],
   "source": []
  }
 ],
 "metadata": {
  "kernelspec": {
   "display_name": "Python 3 (ipykernel)",
   "language": "python",
   "name": "python3"
  },
  "language_info": {
   "codemirror_mode": {
    "name": "ipython",
    "version": 3
   },
   "file_extension": ".py",
   "mimetype": "text/x-python",
   "name": "python",
   "nbconvert_exporter": "python",
   "pygments_lexer": "ipython3",
   "version": "3.10.9"
  }
 },
 "nbformat": 4,
 "nbformat_minor": 5
}
