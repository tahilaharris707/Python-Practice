{
 "cells": [
  {
   "cell_type": "markdown",
   "id": "4378388f",
   "metadata": {},
   "source": [
    "# Chapter 2 Exercises\n",
    "\n",
    "Algorithm Workbench Problem #2"
   ]
  },
  {
   "cell_type": "markdown",
   "id": "4cebc8e4",
   "metadata": {},
   "source": [
    "I will use a python code to assign a color to a variable\n",
    "\n",
    "color='pink'\n",
    "\n",
    "When the code is excuted, I believe it will display the following on the screen: color=pink"
   ]
  },
  {
   "cell_type": "code",
   "execution_count": 1,
   "id": "d60d4ef6",
   "metadata": {},
   "outputs": [],
   "source": [
    "color='pink'"
   ]
  },
  {
   "cell_type": "markdown",
   "id": "774f3385",
   "metadata": {},
   "source": [
    "I will type a string using the print function that show my favorite color using the assigned variable."
   ]
  },
  {
   "cell_type": "markdown",
   "id": "bd4f5db7",
   "metadata": {},
   "source": [
    "When the string is executed, I believe the output will be My favorite color is."
   ]
  },
  {
   "cell_type": "code",
   "execution_count": 2,
   "id": "b85c14d9",
   "metadata": {},
   "outputs": [
    {
     "name": "stdout",
     "output_type": "stream",
     "text": [
      "my favorite color is\n"
     ]
    }
   ],
   "source": [
    "print('my favorite color is')"
   ]
  },
  {
   "cell_type": "markdown",
   "id": "0a81cf1b",
   "metadata": {},
   "source": [
    "I will now use the assigned variable to reveal my favorite color.\n",
    "\n",
    "I believe it will excute displaying My favorite color is pink."
   ]
  },
  {
   "cell_type": "code",
   "execution_count": 3,
   "id": "e782dc59",
   "metadata": {},
   "outputs": [
    {
     "name": "stdout",
     "output_type": "stream",
     "text": [
      "My favorite color is\n",
      "pink\n"
     ]
    }
   ],
   "source": [
    "print('My favorite color is')\n",
    "print(color)"
   ]
  },
  {
   "cell_type": "code",
   "execution_count": 4,
   "id": "3cf7bf63",
   "metadata": {},
   "outputs": [
    {
     "ename": "SyntaxError",
     "evalue": "invalid syntax (2917093994.py, line 1)",
     "output_type": "error",
     "traceback": [
      "\u001b[1;36m  Cell \u001b[1;32mIn[4], line 1\u001b[1;36m\u001b[0m\n\u001b[1;33m    Another way to display an assigned variable\u001b[0m\n\u001b[1;37m            ^\u001b[0m\n\u001b[1;31mSyntaxError\u001b[0m\u001b[1;31m:\u001b[0m invalid syntax\n"
     ]
    }
   ],
   "source": [
    "Another way to display an assigned variable\n",
    "\n",
    "When executed, I believe the output will be: My favorite color is pink"
   ]
  },
  {
   "cell_type": "code",
   "execution_count": null,
   "id": "01f3f8e4",
   "metadata": {},
   "outputs": [],
   "source": [
    "print('My favorite color is', color)"
   ]
  },
  {
   "cell_type": "markdown",
   "id": "e86eec3f",
   "metadata": {},
   "source": [
    "# Chapter 2 Continued\n",
    "\n",
    "Programming Exercises Problem #4"
   ]
  },
  {
   "cell_type": "markdown",
   "id": "4031a095",
   "metadata": {},
   "source": [
    "I will write a program using items and variables to calculate\n",
    "the price of each item, display the subtotal, the amount of sales tax and the grand total"
   ]
  },
  {
   "cell_type": "code",
   "execution_count": null,
   "id": "f807e845",
   "metadata": {},
   "outputs": [],
   "source": [
    "#I will list five items that was purchased from a clothing store along with the price of each item"
   ]
  },
  {
   "cell_type": "code",
   "execution_count": 5,
   "id": "021be038",
   "metadata": {},
   "outputs": [],
   "source": [
    "shirt=10.00\n",
    "pants=19.00\n",
    "pajamas=12.00\n",
    "socks=9.00\n",
    "shoes=100.00"
   ]
  },
  {
   "cell_type": "code",
   "execution_count": 8,
   "id": "0608dde7",
   "metadata": {},
   "outputs": [],
   "source": [
    "#I will now write a program adding the five items together to get the subtotal"
   ]
  },
  {
   "cell_type": "code",
   "execution_count": 9,
   "id": "7a0fe4f5",
   "metadata": {},
   "outputs": [],
   "source": [
    "#I believe the output will be all five items added equal 150"
   ]
  },
  {
   "cell_type": "code",
   "execution_count": 10,
   "id": "7af09b5b",
   "metadata": {},
   "outputs": [
    {
     "data": {
      "text/plain": [
       "150.0"
      ]
     },
     "execution_count": 10,
     "metadata": {},
     "output_type": "execute_result"
    }
   ],
   "source": [
    "shirt+pants+pajamas+socks+shoes"
   ]
  },
  {
   "cell_type": "code",
   "execution_count": 11,
   "id": "d81bd9af",
   "metadata": {},
   "outputs": [],
   "source": [
    "#I will write a program displaying the subtotal=150"
   ]
  },
  {
   "cell_type": "code",
   "execution_count": 12,
   "id": "0018f89b",
   "metadata": {},
   "outputs": [],
   "source": [
    "subtotal=150"
   ]
  },
  {
   "cell_type": "code",
   "execution_count": 13,
   "id": "6eb725a5",
   "metadata": {},
   "outputs": [],
   "source": [
    "#I will display the sales tax and then add the sales tax to the subtotal to get the grand total for the items"
   ]
  },
  {
   "cell_type": "code",
   "execution_count": 14,
   "id": "128e987b",
   "metadata": {},
   "outputs": [],
   "source": [
    "#To find the sales tax I will multiply the subtotal by 0.07 percent. My prediction will be 10.50"
   ]
  },
  {
   "cell_type": "code",
   "execution_count": 15,
   "id": "ef0d6e5f",
   "metadata": {},
   "outputs": [
    {
     "data": {
      "text/plain": [
       "10.500000000000002"
      ]
     },
     "execution_count": 15,
     "metadata": {},
     "output_type": "execute_result"
    }
   ],
   "source": [
    "subtotal*0.07"
   ]
  },
  {
   "cell_type": "code",
   "execution_count": null,
   "id": "c0686f40",
   "metadata": {},
   "outputs": [],
   "source": []
  }
 ],
 "metadata": {
  "kernelspec": {
   "display_name": "Python 3 (ipykernel)",
   "language": "python",
   "name": "python3"
  },
  "language_info": {
   "codemirror_mode": {
    "name": "ipython",
    "version": 3
   },
   "file_extension": ".py",
   "mimetype": "text/x-python",
   "name": "python",
   "nbconvert_exporter": "python",
   "pygments_lexer": "ipython3",
   "version": "3.10.9"
  }
 },
 "nbformat": 4,
 "nbformat_minor": 5
}
