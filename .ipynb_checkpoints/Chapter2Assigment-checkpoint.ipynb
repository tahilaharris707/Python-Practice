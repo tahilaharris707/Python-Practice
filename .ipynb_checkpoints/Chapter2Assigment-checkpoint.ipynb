{
 "cells": [
  {
   "cell_type": "markdown",
   "id": "fdc6345f",
   "metadata": {},
   "source": [
    "# Chapter 2 Exercises\n",
    "\n",
    "Algorithm Workbench Problem #2"
   ]
  },
  {
   "cell_type": "markdown",
   "id": "814f6d45",
   "metadata": {},
   "source": [
    "I will use a python code to assign a color to a variable\n",
    "\n",
    "color='pink'\n",
    "\n",
    "When the code is excuted, I believe it will display the following on the screen: color=pink"
   ]
  },
  {
   "cell_type": "code",
   "execution_count": 1,
   "id": "d2ee359e",
   "metadata": {},
   "outputs": [],
   "source": [
    "color='pink'"
   ]
  },
  {
   "cell_type": "markdown",
   "id": "dd1f903f",
   "metadata": {},
   "source": [
    "I will type a string using the print function that show my favorite color using the assigned variable."
   ]
  },
  {
   "cell_type": "markdown",
   "id": "22409b7e",
   "metadata": {},
   "source": [
    "When the string is executed, I believe the output will be My favorite color is."
   ]
  },
  {
   "cell_type": "code",
   "execution_count": 2,
   "id": "ffe41e2d",
   "metadata": {},
   "outputs": [
    {
     "name": "stdout",
     "output_type": "stream",
     "text": [
      "my favorite color is\n"
     ]
    }
   ],
   "source": [
    "print('my favorite color is')"
   ]
  },
  {
   "cell_type": "markdown",
   "id": "e4ce592c",
   "metadata": {},
   "source": [
    "I will now use the assigned variable to reveal my favorite color.\n",
    "\n",
    "I believe it will excute displaying My favorite color is pink."
   ]
  },
  {
   "cell_type": "code",
   "execution_count": 3,
   "id": "0146f113",
   "metadata": {},
   "outputs": [
    {
     "name": "stdout",
     "output_type": "stream",
     "text": [
      "My favorite color is\n",
      "pink\n"
     ]
    }
   ],
   "source": [
    "print('My favorite color is')\n",
    "print(color)"
   ]
  },
  {
   "cell_type": "code",
   "execution_count": 4,
   "id": "85bee14c",
   "metadata": {},
   "outputs": [
    {
     "ename": "SyntaxError",
     "evalue": "invalid syntax (2917093994.py, line 1)",
     "output_type": "error",
     "traceback": [
      "\u001b[1;36m  Cell \u001b[1;32mIn[4], line 1\u001b[1;36m\u001b[0m\n\u001b[1;33m    Another way to display an assigned variable\u001b[0m\n\u001b[1;37m            ^\u001b[0m\n\u001b[1;31mSyntaxError\u001b[0m\u001b[1;31m:\u001b[0m invalid syntax\n"
     ]
    }
   ],
   "source": [
    "Another way to display an assigned variable\n",
    "\n",
    "When executed, I believe the output will be: My favorite color is pink"
   ]
  },
  {
   "cell_type": "code",
   "execution_count": null,
   "id": "e1e5070c",
   "metadata": {},
   "outputs": [],
   "source": [
    "print('My favorite color is', color)"
   ]
  },
  {
   "cell_type": "markdown",
   "id": "c28f3ed2",
   "metadata": {},
   "source": [
    "# Chapter 2 Continued\n",
    "\n",
    "Programming Exercises Problem #4"
   ]
  },
  {
   "cell_type": "markdown",
   "id": "1a6b105e",
   "metadata": {},
   "source": [
    "I will write a program using items and variables to calculate\n",
    "the price of each item, display the subtotal, the amount of sales tax and the grand total"
   ]
  },
  {
   "cell_type": "code",
   "execution_count": null,
   "id": "e7aa5941",
   "metadata": {},
   "outputs": [],
   "source": [
    "#I will list five items that was purchased from a clothing store along with the price of each item"
   ]
  },
  {
   "cell_type": "code",
   "execution_count": 17,
   "id": "a44640e4",
   "metadata": {},
   "outputs": [],
   "source": [
    "shirt=10.00\n",
    "pants=19.00\n",
    "pajamas=12.00\n",
    "socks=9.00\n",
    "shoes=100.00"
   ]
  },
  {
   "cell_type": "code",
   "execution_count": null,
   "id": "5872b30b",
   "metadata": {},
   "outputs": [],
   "source": [
    "#I will now write a program adding the five items together to get the subtotal"
   ]
  },
  {
   "cell_type": "code",
   "execution_count": null,
   "id": "a6e1e5cd",
   "metadata": {},
   "outputs": [],
   "source": [
    "#I believe the output will be all five items added equal 150"
   ]
  },
  {
   "cell_type": "code",
   "execution_count": 18,
   "id": "ea0288ab",
   "metadata": {},
   "outputs": [
    {
     "data": {
      "text/plain": [
       "150.0"
      ]
     },
     "execution_count": 18,
     "metadata": {},
     "output_type": "execute_result"
    }
   ],
   "source": [
    "shirt+pants+pajamas+socks+shoes"
   ]
  },
  {
   "cell_type": "code",
   "execution_count": null,
   "id": "156ccf37",
   "metadata": {},
   "outputs": [],
   "source": [
    "#I will write a program displaying the subtotal=150"
   ]
  },
  {
   "cell_type": "code",
   "execution_count": 14,
   "id": "4d5829f9",
   "metadata": {},
   "outputs": [],
   "source": [
    "subtotal=150"
   ]
  },
  {
   "cell_type": "code",
   "execution_count": null,
   "id": "b31d277b",
   "metadata": {},
   "outputs": [],
   "source": [
    "#I will display the sales tax and then add the sales tax to the subtotal to get the grand total for the items"
   ]
  },
  {
   "cell_type": "code",
   "execution_count": null,
   "id": "064b9239",
   "metadata": {},
   "outputs": [],
   "source": [
    "#To find the sales tax I will multiply the subtotal by 0.07 percent. My prediction will be 10.50"
   ]
  },
  {
   "cell_type": "code",
   "execution_count": 15,
   "id": "d1997650",
   "metadata": {},
   "outputs": [
    {
     "data": {
      "text/plain": [
       "10.500000000000002"
      ]
     },
     "execution_count": 15,
     "metadata": {},
     "output_type": "execute_result"
    }
   ],
   "source": [
    "subtotal*0.07"
   ]
  },
  {
   "cell_type": "code",
   "execution_count": null,
   "id": "d35d4075",
   "metadata": {},
   "outputs": [],
   "source": [
    "#I will assign the variable sales tax to the dollar amount of the sales tax"
   ]
  },
  {
   "cell_type": "code",
   "execution_count": 12,
   "id": "384f46cb",
   "metadata": {},
   "outputs": [],
   "source": [
    "sales_tax=10.50"
   ]
  },
  {
   "cell_type": "code",
   "execution_count": 5,
   "id": "0d84f55c",
   "metadata": {},
   "outputs": [],
   "source": [
    "#I will add the variables subtotal and sales tax together to get the grand total of the purchased items"
   ]
  },
  {
   "cell_type": "code",
   "execution_count": 6,
   "id": "8742921f",
   "metadata": {},
   "outputs": [],
   "source": [
    "#I believe the output will be 150"
   ]
  },
  {
   "cell_type": "code",
   "execution_count": 19,
   "id": "0c45bf18",
   "metadata": {},
   "outputs": [
    {
     "data": {
      "text/plain": [
       "160.5"
      ]
     },
     "execution_count": 19,
     "metadata": {},
     "output_type": "execute_result"
    }
   ],
   "source": [
    "subtotal+sales_tax"
   ]
  },
  {
   "cell_type": "code",
   "execution_count": null,
   "id": "9f585f2b",
   "metadata": {},
   "outputs": [],
   "source": []
  }
 ],
 "metadata": {
  "kernelspec": {
   "display_name": "Python 3 (ipykernel)",
   "language": "python",
   "name": "python3"
  },
  "language_info": {
   "codemirror_mode": {
    "name": "ipython",
    "version": 3
   },
   "file_extension": ".py",
   "mimetype": "text/x-python",
   "name": "python",
   "nbconvert_exporter": "python",
   "pygments_lexer": "ipython3",
   "version": "3.10.9"
  }
 },
 "nbformat": 4,
 "nbformat_minor": 5
}
