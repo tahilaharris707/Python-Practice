{
 "cells": [
  {
   "cell_type": "markdown",
   "id": "456a4043",
   "metadata": {},
   "source": [
    "# Chapter 3 Exercises\n",
    "\n",
    "## Algorithm Workbench Problem #4"
   ]
  },
  {
   "cell_type": "markdown",
   "id": "abfadaec",
   "metadata": {},
   "source": [
    "I will correctly align and indent the following code that contains several nested if-else statements"
   ]
  },
  {
   "cell_type": "code",
   "execution_count": 1,
   "id": "2291351b",
   "metadata": {},
   "outputs": [
    {
     "ename": "SyntaxError",
     "evalue": "invalid non-printable character U+00A0 (537320763.py, line 1)",
     "output_type": "error",
     "traceback": [
      "\u001b[1;36m  Cell \u001b[1;32mIn[1], line 1\u001b[1;36m\u001b[0m\n\u001b[1;33m    if score >= A_score:\u001b[0m\n\u001b[1;37m      ^\u001b[0m\n\u001b[1;31mSyntaxError\u001b[0m\u001b[1;31m:\u001b[0m invalid non-printable character U+00A0\n"
     ]
    }
   ],
   "source": [
    "if score >= A_score: \n",
    "print('Your grade is A.') \n",
    "else: \n",
    "if score >= B_score: \n",
    "print('Your grade is B.') \n",
    "else: \n",
    "if score >= C_score: \n",
    "print('Your grade is C.') \n",
    "else: \n",
    "if score >= D_score: \n",
    "print('Your grade is D.') \n",
    "else: \n",
    "print('Your grade is F.') "
   ]
  },
  {
   "cell_type": "code",
   "execution_count": null,
   "id": "5c31b6fd",
   "metadata": {},
   "outputs": [],
   "source": [
    "# I properly aligned and indented each statement"
   ]
  },
  {
   "cell_type": "code",
   "execution_count": null,
   "id": "3d3a45a0",
   "metadata": {},
   "outputs": [],
   "source": [
    "if score >= A_score:\n",
    "    print('Your grade is A. ')\n",
    "else:\n",
    "    if score >= B_score:\n",
    "        print('Your grade is B. ')\n",
    "    else:\n",
    "        if score >= C_score:\n",
    "            print('Your grade is C. ')\n",
    "        else:\n",
    "            if score >= D_score:\n",
    "                print('Your grade is D. ')\n",
    "            else:\n",
    "                print('Your grade is F. ')\n",
    "            "
   ]
  },
  {
   "cell_type": "markdown",
   "id": "b6bec459",
   "metadata": {},
   "source": [
    "## Algorithm Workbench Problem #5"
   ]
  },
  {
   "cell_type": "code",
   "execution_count": null,
   "id": "2457a0d4",
   "metadata": {},
   "outputs": [],
   "source": [
    "# I will write a nested decision structure to display which amount is greater\n",
    "# I will assign Amount1 and Amount2 a value"
   ]
  },
  {
   "cell_type": "code",
   "execution_count": 6,
   "id": "e533a8cc",
   "metadata": {},
   "outputs": [
    {
     "name": "stdout",
     "output_type": "stream",
     "text": [
      "50\n",
      "15\n",
      "Amount1 is greater\n"
     ]
    }
   ],
   "source": [
    "Amount1 = 50\n",
    "Amount2 = 15\n",
    "\n",
    "print(Amount1)\n",
    "print(Amount2)\n",
    "# I will write a program using the if statement to determine the greater amount of 1 and 2\n",
    "\n",
    "if Amount1 > 10 and Amount2 < 100:\n",
    "    print('Amount1 is greater')"
   ]
  },
  {
   "cell_type": "code",
   "execution_count": null,
   "id": "b5d4a445",
   "metadata": {},
   "outputs": [],
   "source": [
    "# I believe the output will print the greater amount, which is Amount1"
   ]
  },
  {
   "cell_type": "markdown",
   "id": "066d3219",
   "metadata": {},
   "source": [
    "## Programming Exercises Problem #1 Day of the Week"
   ]
  },
  {
   "cell_type": "code",
   "execution_count": 5,
   "id": "9e56d535",
   "metadata": {},
   "outputs": [
    {
     "ename": "SyntaxError",
     "evalue": "invalid syntax (2822606043.py, line 20)",
     "output_type": "error",
     "traceback": [
      "\u001b[1;36m  Cell \u001b[1;32mIn[5], line 20\u001b[1;36m\u001b[0m\n\u001b[1;33m    else:\u001b[0m\n\u001b[1;37m    ^\u001b[0m\n\u001b[1;31mSyntaxError\u001b[0m\u001b[1;31m:\u001b[0m invalid syntax\n"
     ]
    }
   ],
   "source": [
    "# I will write a function that will correspond the days of the week with a number.\n",
    "\n",
    "day=int(input('Enter a number (1-7) for each day of the week: '))\n",
    "\n",
    "# I will assign a number to each day of the week.\n",
    "\n",
    "Monday = 1\n",
    "Tuesday = 2\n",
    "Wednesday = 3\n",
    "Thursday = 4\n",
    "Friday = 5\n",
    "Saturday = 6\n",
    "Sunday = 7\n",
    "\n",
    "# I will use the if else function to display the corresponding number for each day of the week\n",
    "# And display an error message if it is out of the range of 1-7\n",
    "\n",
    "if day == 1:\n",
    "    print(Monday)\n",
    "    else:\n",
    "    day == 2\n",
    "    print(Tuesday)\n",
    "    else:\n",
    "    day == 3\n",
    "    print(Wednesday)\n",
    "    else:\n",
    "    day == 4\n",
    "    print(Thursday)\n",
    "    else:   \n",
    "    day == 5\n",
    "    print(Friday)\n",
    "    else:\n",
    "    day == 6\n",
    "    print(Saturday)\n",
    "    else:    \n",
    "    day == 7\n",
    "    print(Sunday)"
   ]
  },
  {
   "cell_type": "markdown",
   "id": "43f790c8",
   "metadata": {},
   "source": [
    "## Programming Exercise Problem #5 Mass and Weight"
   ]
  },
  {
   "cell_type": "code",
   "execution_count": null,
   "id": "b7abd33f",
   "metadata": {},
   "outputs": [],
   "source": [
    "# I will assign a number to the following statement: weight = mass x 9.8"
   ]
  },
  {
   "cell_type": "code",
   "execution_count": 4,
   "id": "05e47bb7",
   "metadata": {},
   "outputs": [
    {
     "name": "stdout",
     "output_type": "stream",
     "text": [
      "0.5*9.8: 4.9\n"
     ]
    }
   ],
   "source": [
    "# I will convert the mass into kilograms\n",
    "\n",
    "mass = 0.05\n",
    "\n",
    "# I will create a statement function\n",
    "\n",
    "weight =input('0.5*9.8: ')"
   ]
  },
  {
   "cell_type": "markdown",
   "id": "39647376",
   "metadata": {},
   "source": [
    "## Programming Exercise Problem #15 (February Days)"
   ]
  },
  {
   "cell_type": "code",
   "execution_count": 3,
   "id": "659300f3",
   "metadata": {},
   "outputs": [
    {
     "name": "stdout",
     "output_type": "stream",
     "text": [
      "Enter the year 2015\n"
     ]
    },
    {
     "ename": "NameError",
     "evalue": "name 'year' is not defined",
     "output_type": "error",
     "traceback": [
      "\u001b[1;31m---------------------------------------------------------------------------\u001b[0m",
      "\u001b[1;31mNameError\u001b[0m                                 Traceback (most recent call last)",
      "Cell \u001b[1;32mIn[3], line 9\u001b[0m\n\u001b[0;32m      5\u001b[0m Leap_Year \u001b[38;5;241m=\u001b[39m \u001b[38;5;241m29\u001b[39m\n\u001b[0;32m      7\u001b[0m \u001b[38;5;66;03m# I will use calculation to see if the year is divisble by 100 and 400\u001b[39;00m\n\u001b[1;32m----> 9\u001b[0m \u001b[38;5;28;01mif\u001b[39;00m \u001b[43myear\u001b[49m\u001b[38;5;241m/\u001b[39m\u001b[38;5;241m100\u001b[39m:\n\u001b[0;32m     10\u001b[0m     \u001b[38;5;28mprint\u001b[39m(\u001b[38;5;124m'\u001b[39m\u001b[38;5;124mIn \u001b[39m\u001b[38;5;124m\"\u001b[39m\u001b[38;5;124mYear\u001b[39m\u001b[38;5;124m\"\u001b[39m\u001b[38;5;124m \u001b[39m\u001b[38;5;124m\"\u001b[39m\u001b[38;5;124mFebruary has 29 days\u001b[39m\u001b[38;5;124m\"\u001b[39m\u001b[38;5;124m \u001b[39m\u001b[38;5;124m\"\u001b[39m\u001b[38;5;124mIt is a leap year\u001b[39m\u001b[38;5;124m\"\u001b[39m\u001b[38;5;124m \u001b[39m\u001b[38;5;124m'\u001b[39m)\n\u001b[0;32m     11\u001b[0m \u001b[38;5;28;01melif\u001b[39;00m(year\u001b[38;5;241m/\u001b[39m\u001b[38;5;241m400\u001b[39m):\n",
      "\u001b[1;31mNameError\u001b[0m: name 'year' is not defined"
     ]
    }
   ],
   "source": [
    "# I will write a program that displays the number of days in February for the year of 2015\n",
    "\n",
    "Year = input('Enter the year ')\n",
    "February = 28\n",
    "Leap_Year = 29\n",
    "\n",
    "# I will use calculation to see if the year is divisble by 100 and 400\n",
    "\n",
    "if year/100:\n",
    "    print('In \"Year\" \"February has 29 days\" \"It is a leap year\" ')\n",
    "elif(year/400):\n",
    "    print('In \"Year\" \"February has 29 days\" \"It is a leap year\" ')\n",
    "if year/4:\n",
    "    print('Not a leap year')"
   ]
  },
  {
   "cell_type": "markdown",
   "id": "eaf2b925",
   "metadata": {},
   "source": [
    "## Programming Exercise Problem #17"
   ]
  },
  {
   "cell_type": "code",
   "execution_count": 2,
   "id": "d9e4ede1",
   "metadata": {},
   "outputs": [
    {
     "name": "stdout",
     "output_type": "stream",
     "text": [
      "Is anyone in your party a vegetarian?\n",
      "yes\n"
     ]
    }
   ],
   "source": [
    "# I will use the print function to see if there are any vegetarians attending the school reunion.\n",
    "# I will assign the vegeterian an input function.\n",
    "\n",
    "print(\"Is anyone in your party a vegetarian?\")\n",
    "vegetarian = input()"
   ]
  },
  {
   "cell_type": "code",
   "execution_count": 7,
   "id": "de7419f6",
   "metadata": {},
   "outputs": [
    {
     "name": "stdout",
     "output_type": "stream",
     "text": [
      "Is anyone in your party vegan?\n",
      "yes\n"
     ]
    }
   ],
   "source": [
    "# I will use the print function and assign vegan an input function\n",
    "\n",
    "print(\"Is anyone in your party vegan?\")\n",
    "vegan = input()"
   ]
  },
  {
   "cell_type": "code",
   "execution_count": 8,
   "id": "33312a4e",
   "metadata": {},
   "outputs": [
    {
     "name": "stdout",
     "output_type": "stream",
     "text": [
      "Is anyone in your party gluten-free\n",
      "yes\n"
     ]
    }
   ],
   "source": [
    "# I will use the print function and assign gluten free an input function\n",
    "\n",
    "print(\"Is anyone in your party gluten-free\")\n",
    "gluten_free = input()"
   ]
  },
  {
   "cell_type": "code",
   "execution_count": null,
   "id": "f0632cfa",
   "metadata": {},
   "outputs": [],
   "source": [
    "# I will write a code showing the choice of restaurants\n",
    "\n",
    "if vegetarian != \"yes\" and vegan != \"yes\" and gluten_free != \"yes\":\n",
    "    print(\"Joes's Gourmet Burgers\")\n",
    "\n",
    "print(\"Corner Cafe\")\n",
    "print(\"The Chef's Kitchen\")"
   ]
  }
 ],
 "metadata": {
  "kernelspec": {
   "display_name": "Python 3 (ipykernel)",
   "language": "python",
   "name": "python3"
  },
  "language_info": {
   "codemirror_mode": {
    "name": "ipython",
    "version": 3
   },
   "file_extension": ".py",
   "mimetype": "text/x-python",
   "name": "python",
   "nbconvert_exporter": "python",
   "pygments_lexer": "ipython3",
   "version": "3.10.9"
  }
 },
 "nbformat": 4,
 "nbformat_minor": 5
}
