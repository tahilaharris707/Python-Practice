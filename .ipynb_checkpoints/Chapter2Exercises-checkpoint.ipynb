{
 "cells": [
  {
   "cell_type": "markdown",
   "id": "c8b00aee",
   "metadata": {},
   "source": [
    "# Chapter 2 Exercises"
   ]
  },
  {
   "cell_type": "markdown",
   "id": "47a575e4",
   "metadata": {},
   "source": [
    "# Algorithm Workbench-Problem 2\n",
    "\n",
    "#Assigning a variable by using the input function to find out someone's favorite color."
   ]
  },
  {
   "cell_type": "markdown",
   "id": "5a431cb0",
   "metadata": {},
   "source": [
    "#This program demostrates a variable"
   ]
  },
  {
   "cell_type": "markdown",
   "id": "d852ef56",
   "metadata": {},
   "source": [
    "Color = pink"
   ]
  },
  {
   "cell_type": "code",
   "execution_count": null,
   "id": "40d9dcb6",
   "metadata": {},
   "outputs": [],
   "source": []
  }
 ],
 "metadata": {
  "kernelspec": {
   "display_name": "Python 3 (ipykernel)",
   "language": "python",
   "name": "python3"
  },
  "language_info": {
   "codemirror_mode": {
    "name": "ipython",
    "version": 3
   },
   "file_extension": ".py",
   "mimetype": "text/x-python",
   "name": "python",
   "nbconvert_exporter": "python",
   "pygments_lexer": "ipython3",
   "version": "3.10.9"
  }
 },
 "nbformat": 4,
 "nbformat_minor": 5
}
