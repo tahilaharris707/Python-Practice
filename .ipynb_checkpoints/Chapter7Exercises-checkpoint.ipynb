{
 "cells": [
  {
   "cell_type": "markdown",
   "id": "c3ef3882",
   "metadata": {},
   "source": [
    "## Chapter 7 Exercises\n",
    "\n",
    "## Algorithm WorkbenchProblem #5"
   ]
  },
  {
   "cell_type": "code",
   "execution_count": 1,
   "id": "d3076388",
   "metadata": {},
   "outputs": [
    {
     "name": "stdout",
     "output_type": "stream",
     "text": [
      "The total of the elements is 15.\n"
     ]
    }
   ],
   "source": [
    "# I will write a function that accepts a list as an argument and returns\n",
    "# the total of the values in the list\n",
    "\n",
    "# I will create a def main function to create a list and assign a varaible to some numbers.\n",
    "\n",
    "def main():\n",
    "    \n",
    "    num = [5, 4, 3, 2, 1]\n",
    "    \n",
    "# I will assign the number 0 to the total variable to reference an accumulator.\n",
    "\n",
    "    total = 0\n",
    "    \n",
    "# I will use the for function to calculate the total numbers in the num list.\n",
    "\n",
    "    for value in num:\n",
    "   \n",
    "        total += value\n",
    "    \n",
    "# I will use the print function to display the total of the list elements.\n",
    "\n",
    "    print(f'The total of the elements is {total}.')\n",
    "\n",
    "# I will call the main function to get the result.\n",
    "\n",
    "if __name__ == '__main__':\n",
    "    \n",
    "    main()"
   ]
  },
  {
   "cell_type": "markdown",
   "id": "810afa9e",
   "metadata": {},
   "source": [
    "## Algorithm Workbench Problem #7"
   ]
  },
  {
   "cell_type": "code",
   "execution_count": 2,
   "id": "2aae8a88",
   "metadata": {},
   "outputs": [
    {
     "name": "stdout",
     "output_type": "stream",
     "text": [
      "[40, 50, 60, 10, 20, 30]\n"
     ]
    }
   ],
   "source": [
    "# I will predict what the following code will display once it's executed.\n",
    "\n",
    "list1 = [40, 50, 60]\n",
    "\n",
    "list2 = [10, 20, 30]\n",
    "\n",
    "list3 = list1 + list2\n",
    "\n",
    "print(list3)\n",
    "\n",
    "# I believe when this statement is executed, it will display both list 1 and 2 showing 40, 50, 60, 10, 20, 30."
   ]
  },
  {
   "cell_type": "markdown",
   "id": "b34632c3",
   "metadata": {},
   "source": [
    "## Programming Exercise Problem #1 Total Sales"
   ]
  },
  {
   "cell_type": "code",
   "execution_count": 3,
   "id": "e900390b",
   "metadata": {},
   "outputs": [
    {
     "name": "stdout",
     "output_type": "stream",
     "text": [
      "Sales on Sunday: 200.0\n",
      "Sales on Monday: 300.0\n",
      "Sales on Tuesday: 400.0\n",
      "Sales on Wednesday: 150.0\n",
      "Sales on Thursday: 700.0\n",
      "Sales on Friday: 2000.0\n",
      "Sales on Saturday: 515.0\n",
      "The total sales for the week is: 4265.0\n"
     ]
    }
   ],
   "source": [
    "# I will design a program to determine a store's sales for each day of the week.\n",
    "# I will use a loop to calculate the total.\n",
    "\n",
    "# I will use the def main(): function to define and assign variables\n",
    "\n",
    "def main():\n",
    "    total_sales = 0.0\n",
    "    daily_sales = [200.0, 300.0, 400.0, 150.0, 700.0, 2000.0, 515.0]\n",
    "    days_of_the_week = ['Sunday', 'Monday', 'Tuesday', 'Wednesday', 'Thursday', 'Friday', 'Saturday']\n",
    "\n",
    "# I will create the for loop to calculate the sales for the week and use the print function to display\n",
    "# the sales for each day of the week.\n",
    "# I will call the main function to execute the program.\n",
    "    \n",
    "    for i in range(len(days_of_the_week)):\n",
    "        print(f\"Sales on {days_of_the_week[i]}: {daily_sales[i]}\")\n",
    "        total_sales+=daily_sales[i]\n",
    "    print(f'The total sales for the week is: {total_sales}')\n",
    "\n",
    "if __name__=='__main__':\n",
    "    \n",
    "    main()"
   ]
  },
  {
   "cell_type": "markdown",
   "id": "a37c58f8",
   "metadata": {},
   "source": [
    "## Programming Exercise Problem #14 Expense Pie Chart"
   ]
  },
  {
   "cell_type": "code",
   "execution_count": 5,
   "id": "f434d7bb",
   "metadata": {},
   "outputs": [
    {
     "data": {
      "image/png": "[encoded data removed]",
      "text/plain": [
       "<Figure size 640x480 with 1 Axes>"
      ]
     },
     "metadata": {},
     "output_type": "display_data"
    }
   ],
   "source": [
    "# I will create an expense pie chart that contains my expenses for the last month using the metplotlib.pyplot\n",
    "# I will first import the metplotlib.pyplot\n",
    "# I will create a def main(): function and create variables to reference amount and labels\n",
    "\n",
    "import matplotlib.pyplot as plt\n",
    "\n",
    "def main():\n",
    "    expenses = [1200, 90, 200, 150, 500, 350]\n",
    "    slice_labels = ['Rent', 'Gas', 'Food', 'Clothing', 'Car Payment', 'Misc']\n",
    "    \n",
    "# I will create a pie chart from the list that was created in the def main program\n",
    "\n",
    "    plt.pie(expenses, labels = slice_labels)\n",
    "    \n",
    "# I will display the pie chart\n",
    "\n",
    "    plt.show()\n",
    "    \n",
    "# I will call the main function\n",
    "\n",
    "if __name__=='__main__':\n",
    "    main()\n",
    "\n",
    "    "
   ]
  },
  {
   "cell_type": "markdown",
   "id": "a70cf178",
   "metadata": {},
   "source": [
    "## Programming Exercise Problem #2 Lottery Number Generator"
   ]
  },
  {
   "cell_type": "code",
   "execution_count": 3,
   "id": "fb1aa7d5",
   "metadata": {},
   "outputs": [
    {
     "name": "stdout",
     "output_type": "stream",
     "text": [
      "[2, 0, 2, 5, 6, 7, 0]\n"
     ]
    }
   ],
   "source": [
    "# I will design a program that generates 7 random number and assign them to a list element\n",
    "# My first step is to import the random function.\n",
    "\n",
    "import random\n",
    "\n",
    "# I will create a list using numbers as the variable\n",
    "# I will create a for loop\n",
    "\n",
    "numbers=[0]*7\n",
    "for index in range(7):\n",
    "    numbers[index]=random.randint(0,9)\n",
    "print(numbers)"
   ]
  },
  {
   "cell_type": "markdown",
   "id": "a88a54d5",
   "metadata": {},
   "source": [
    "## Programming Exercise Problem #4 Number Analysis Program"
   ]
  },
  {
   "cell_type": "code",
   "execution_count": null,
   "id": "309be4dd",
   "metadata": {},
   "outputs": [],
   "source": [
    "# I will design a program that ask a user to enter a series of 20 numbers and store them in a list.\n",
    "# I will create a for loop for a series of numbers.\n",
    "\n",
    "numbers = []\n",
    "for i in range(20):\n",
    "    number = float(input(f\"Enter number {i+1}: \"))\n",
    "    numbers.append(number)\n",
    "\n",
    "# I will use the print function to display the numbers.\n",
    "    \n",
    "print(\"Entered numbers:\", numbers)\n",
    "\n",
    "# I will calculate and display the sum of numbers\n",
    "sum_of_numbers = sum(numbers)\n",
    "print(\"Sum of numbers:\", sum_of_numbers)\n",
    "\n",
    "# I will calculate and display the average of numbers\n",
    "average = sum_of_numbers / len(numbers)\n",
    "print(\"Average:\", average)\n",
    "\n"
   ]
  }
 ],
 "metadata": {
  "kernelspec": {
   "display_name": "Python 3 (ipykernel)",
   "language": "python",
   "name": "python3"
  },
  "language_info": {
   "codemirror_mode": {
    "name": "ipython",
    "version": 3
   },
   "file_extension": ".py",
   "mimetype": "text/x-python",
   "name": "python",
   "nbconvert_exporter": "python",
   "pygments_lexer": "ipython3",
   "version": "3.10.9"
  }
 },
 "nbformat": 4,
 "nbformat_minor": 5
}
