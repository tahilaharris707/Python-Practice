{
 "cells": [
  {
   "cell_type": "markdown",
   "id": "ad112fe5",
   "metadata": {},
   "source": [
    "## Chapter 7 Exercises\n",
    "\n",
    "## Algorithm WorkbenchProblem #5"
   ]
  },
  {
   "cell_type": "code",
   "execution_count": 1,
   "id": "010dc802",
   "metadata": {},
   "outputs": [
    {
     "name": "stdout",
     "output_type": "stream",
     "text": [
      "The total of the elements is 15.\n"
     ]
    }
   ],
   "source": [
    "# I will write a function that accepts a list as an argument and returns\n",
    "# the total of the values in the list\n",
    "\n",
    "# I will create a def main function to create a list and assign a varaible to some numbers.\n",
    "\n",
    "def main():\n",
    "    \n",
    "    num = [5, 4, 3, 2, 1]\n",
    "    \n",
    "# I will assign the number 0 to the total variable to reference an accumulator.\n",
    "\n",
    "    total = 0\n",
    "    \n",
    "# I will use the for function to calculate the total numbers in the num list.\n",
    "\n",
    "    for value in num:\n",
    "   \n",
    "        total += value\n",
    "    \n",
    "# I will use the print function to display the total of the list elements.\n",
    "\n",
    "    print(f'The total of the elements is {total}.')\n",
    "\n",
    "# I will call the main function to get the result.\n",
    "\n",
    "if __name__ == '__main__':\n",
    "    \n",
    "    main()"
   ]
  },
  {
   "cell_type": "markdown",
   "id": "13e572f8",
   "metadata": {},
   "source": [
    "## Algorithm Workbench Problem #7"
   ]
  },
  {
   "cell_type": "code",
   "execution_count": 2,
   "id": "c5206eaf",
   "metadata": {},
   "outputs": [
    {
     "name": "stdout",
     "output_type": "stream",
     "text": [
      "[40, 50, 60, 10, 20, 30]\n"
     ]
    }
   ],
   "source": [
    "# I will predict what the following code will display once it's executed.\n",
    "\n",
    "list1 = [40, 50, 60]\n",
    "\n",
    "list2 = [10, 20, 30]\n",
    "\n",
    "list3 = list1 + list2\n",
    "\n",
    "print(list3)\n",
    "\n",
    "# I believe when this statement is executed, it will display both list 1 and 2 showing 40, 50, 60, 10, 20, 30."
   ]
  },
  {
   "cell_type": "markdown",
   "id": "6ec938e6",
   "metadata": {},
   "source": [
    "## Programming Exercise Problem #1 Total Sales"
   ]
  },
  {
   "cell_type": "code",
   "execution_count": 3,
   "id": "da1ed6c7",
   "metadata": {},
   "outputs": [
    {
     "name": "stdout",
     "output_type": "stream",
     "text": [
      "Sales on Sunday: 200.0\n",
      "Sales on Monday: 300.0\n",
      "Sales on Tuesday: 400.0\n",
      "Sales on Wednesday: 150.0\n",
      "Sales on Thursday: 700.0\n",
      "Sales on Friday: 2000.0\n",
      "Sales on Saturday: 515.0\n",
      "The total sales for the week is: 4265.0\n"
     ]
    }
   ],
   "source": [
    "# I will design a program to determine a store's sales for each day of the week.\n",
    "# I will use a loop to calculate the total.\n",
    "\n",
    "# I will use the def main(): function to define and assign variables\n",
    "\n",
    "def main():\n",
    "    total_sales = 0.0\n",
    "    daily_sales = [200.0, 300.0, 400.0, 150.0, 700.0, 2000.0, 515.0]\n",
    "    days_of_the_week = ['Sunday', 'Monday', 'Tuesday', 'Wednesday', 'Thursday', 'Friday', 'Saturday']\n",
    "\n",
    "# I will create the for loop to calculate the sales for the week and use the print function to display\n",
    "# the sales for each day of the week.\n",
    "# I will call the main function to execute the program.\n",
    "    \n",
    "    for i in range(len(days_of_the_week)):\n",
    "        print(f\"Sales on {days_of_the_week[i]}: {daily_sales[i]}\")\n",
    "        total_sales+=daily_sales[i]\n",
    "    print(f'The total sales for the week is: {total_sales}')\n",
    "\n",
    "if __name__=='__main__':\n",
    "    \n",
    "    main()"
   ]
  },
  {
   "cell_type": "markdown",
   "id": "1fb4d7ed",
   "metadata": {},
   "source": [
    "## Programming Exercise Problem #14 Expense Pie Chart"
   ]
  },
  {
   "cell_type": "code",
   "execution_count": null,
   "id": "a510ba45",
   "metadata": {},
   "outputs": [],
   "source": [
    "# I will create an expense pie chart that contains my expenses for the last month using the metplotlib.pyplot\n",
    "# I will first import the metplotlib.pyplot\n",
    "# I will create a def main(): function and create variables to reference amount and labels\n",
    "\n",
    "import metplotlib.pyplot as plt\n",
    "\n",
    "def main():\n",
    "    expenses = [1200, 90, 200, 150, 500, 350]\n",
    "    slice_labels = ['Rent', 'Gas', 'Food', 'Clothing', 'Car Payment', 'Misc']\n",
    "    \n",
    "# I will create a pie chart from the list that was created in the def main program\n",
    "\n",
    "    plt.pie(expenses, labels = slice_labels)\n",
    "    \n",
    "\n",
    "    "
   ]
  }
 ],
 "metadata": {
  "kernelspec": {
   "display_name": "Python 3 (ipykernel)",
   "language": "python",
   "name": "python3"
  },
  "language_info": {
   "codemirror_mode": {
    "name": "ipython",
    "version": 3
   },
   "file_extension": ".py",
   "mimetype": "text/x-python",
   "name": "python",
   "nbconvert_exporter": "python",
   "pygments_lexer": "ipython3",
   "version": "3.10.9"
  }
 },
 "nbformat": 4,
 "nbformat_minor": 5
}
