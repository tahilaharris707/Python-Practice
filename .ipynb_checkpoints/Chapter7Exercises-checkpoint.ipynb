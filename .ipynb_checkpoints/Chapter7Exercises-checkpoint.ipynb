{
 "cells": [
  {
   "cell_type": "markdown",
   "id": "7ced4014",
   "metadata": {},
   "source": [
    "## Chapter 7 Exercises\n",
    "\n",
    "## Algorithm WorkbenchProblem #5"
   ]
  },
  {
   "cell_type": "code",
   "execution_count": 2,
   "id": "55cfd732",
   "metadata": {},
   "outputs": [
    {
     "name": "stdout",
     "output_type": "stream",
     "text": [
      "The total of the elements is 15.\n"
     ]
    }
   ],
   "source": [
    "# I will write a function that accepts a list as an argument and returns\n",
    "# the total of the values in the list\n",
    "\n",
    "# I will create a def main function to create a list and assign a varaible to some numbers.\n",
    "\n",
    "def main():\n",
    "    \n",
    "    num = [5, 4, 3, 2, 1]\n",
    "    \n",
    "# I will assign the number 0 to the total variable to reference an accumulator.\n",
    "\n",
    "    total = 0\n",
    "    \n",
    "# I will use the for function to calculate the total numbers in the num list.\n",
    "\n",
    "    for value in num:\n",
    "   \n",
    "        total += value\n",
    "    \n",
    "# I will use the print function to display the total of the list elements.\n",
    "\n",
    "    print(f'The total of the elements is {total}.')\n",
    "\n",
    "# I will call the main function to get the result.\n",
    "\n",
    "if __name__ == '__main__':\n",
    "    \n",
    "    main()"
   ]
  },
  {
   "cell_type": "markdown",
   "id": "aab55954",
   "metadata": {},
   "source": [
    "## Algorithm Workbench Problem #7"
   ]
  },
  {
   "cell_type": "code",
   "execution_count": 3,
   "id": "0eee9937",
   "metadata": {},
   "outputs": [
    {
     "name": "stdout",
     "output_type": "stream",
     "text": [
      "[40, 50, 60, 10, 20, 30]\n"
     ]
    }
   ],
   "source": [
    "# I will predict what the following code will display once it's executed.\n",
    "\n",
    "list1 = [40, 50, 60]\n",
    "\n",
    "list2 = [10, 20, 30]\n",
    "\n",
    "list3 = list1 + list2\n",
    "\n",
    "print(list3)\n",
    "\n",
    "# I believe when this statement is executed, it will display both list 1 and 2 showing 40, 50, 60, 10, 20, 30."
   ]
  },
  {
   "cell_type": "markdown",
   "id": "aaeb8ee3",
   "metadata": {},
   "source": [
    "## Programming Exercise Problem #1 Total Sales"
   ]
  },
  {
   "cell_type": "code",
   "execution_count": null,
   "id": "8ef468e0",
   "metadata": {},
   "outputs": [],
   "source": [
    "# I will design a program to determine a store's sales for each day of the week.\n",
    "# I will use a loop to calculate the total.\n",
    "\n",
    "# I will use the def main(): function to define variables\n",
    "\n",
    "def main():\n",
    "    total_sales = 0.0\n",
    "    daily_sales = [200.0, 300.0, 400.0, 150.0, 700.0, 2000.0, 515.0]\n",
    "    days_of_the_week = ['Sunday', 'Monday', 'Tuesday', 'Wednesday', 'Thursday', 'Friday', 'Saturday']"
   ]
  }
 ],
 "metadata": {
  "kernelspec": {
   "display_name": "Python 3 (ipykernel)",
   "language": "python",
   "name": "python3"
  },
  "language_info": {
   "codemirror_mode": {
    "name": "ipython",
    "version": 3
   },
   "file_extension": ".py",
   "mimetype": "text/x-python",
   "name": "python",
   "nbconvert_exporter": "python",
   "pygments_lexer": "ipython3",
   "version": "3.10.9"
  }
 },
 "nbformat": 4,
 "nbformat_minor": 5
}
