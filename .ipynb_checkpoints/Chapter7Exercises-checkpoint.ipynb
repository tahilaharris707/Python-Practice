{
 "cells": [
  {
   "cell_type": "markdown",
   "id": "9924cd95",
   "metadata": {},
   "source": [
    "## Chapter 7 Exercises\n",
    "\n",
    "## Programming Exercise Problem #5"
   ]
  },
  {
   "cell_type": "code",
   "execution_count": null,
   "id": "63dece86",
   "metadata": {},
   "outputs": [],
   "source": [
    "# I will write a function that accepts a list as an argument and returns\n",
    "# the total of the values in the list"
   ]
  }
 ],
 "metadata": {
  "kernelspec": {
   "display_name": "Python 3 (ipykernel)",
   "language": "python",
   "name": "python3"
  },
  "language_info": {
   "codemirror_mode": {
    "name": "ipython",
    "version": 3
   },
   "file_extension": ".py",
   "mimetype": "text/x-python",
   "name": "python",
   "nbconvert_exporter": "python",
   "pygments_lexer": "ipython3",
   "version": "3.10.9"
  }
 },
 "nbformat": 4,
 "nbformat_minor": 5
}
