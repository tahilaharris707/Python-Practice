{
 "cells": [
  {
   "cell_type": "code",
   "execution_count": 1,
   "id": "c075a655",
   "metadata": {},
   "outputs": [
    {
     "name": "stdout",
     "output_type": "stream",
     "text": [
      "B\n",
      "o\n",
      "s\n",
      "t\n",
      "o\n",
      "n\n"
     ]
    }
   ],
   "source": [
    "city='Boston'\n",
    "index=0\n",
    "while index<len(city):\n",
    "    print(city[index])\n",
    "    index+=1\n",
    "    "
   ]
  },
  {
   "cell_type": "code",
   "execution_count": 2,
   "id": "c6d6f38f",
   "metadata": {},
   "outputs": [
    {
     "name": "stdout",
     "output_type": "stream",
     "text": [
      "hello world\n"
     ]
    }
   ],
   "source": [
    "message='hello ' + 'world'\n",
    "print(message)"
   ]
  },
  {
   "cell_type": "code",
   "execution_count": 3,
   "id": "1536619f",
   "metadata": {},
   "outputs": [
    {
     "name": "stdout",
     "output_type": "stream",
     "text": [
      "Emily Yeager\n"
     ]
    }
   ],
   "source": [
    "first_name = 'Emily'\n",
    "last_name = 'Yeager'\n",
    "full_name = first_name + ' ' +last_name\n",
    "print(full_name)"
   ]
  },
  {
   "cell_type": "code",
   "execution_count": 4,
   "id": "715f4f10",
   "metadata": {},
   "outputs": [
    {
     "name": "stdout",
     "output_type": "stream",
     "text": [
      "abcdef\n"
     ]
    }
   ],
   "source": [
    "letters='abc'\n",
    "letters+='def'\n",
    "print(letters)"
   ]
  },
  {
   "cell_type": "code",
   "execution_count": 5,
   "id": "ce0f5831",
   "metadata": {},
   "outputs": [
    {
     "name": "stdout",
     "output_type": "stream",
     "text": [
      "Lynn\n"
     ]
    }
   ],
   "source": [
    "full_name = 'Patty Lynn Smith'\n",
    "middle_name = full_name[6:10]\n",
    "print(middle_name)"
   ]
  },
  {
   "cell_type": "code",
   "execution_count": 6,
   "id": "799812f3",
   "metadata": {},
   "outputs": [
    {
     "name": "stdout",
     "output_type": "stream",
     "text": [
      "Lynn\n"
     ]
    }
   ],
   "source": [
    "full_name = 'Patty Lynn Smith'\n",
    "middle_name = full_name[6:10]\n",
    "print(middle_name)"
   ]
  },
  {
   "cell_type": "code",
   "execution_count": 7,
   "id": "5fa85dd3",
   "metadata": {},
   "outputs": [
    {
     "name": "stdout",
     "output_type": "stream",
     "text": [
      "Bur\n"
     ]
    }
   ],
   "source": [
    "color='Burgundy'\n",
    "my_string = color[:3]\n",
    "print(my_string)"
   ]
  },
  {
   "cell_type": "code",
   "execution_count": 8,
   "id": "6e3a2f99",
   "metadata": {},
   "outputs": [
    {
     "ename": "NameError",
     "evalue": "name 'P' is not defined",
     "output_type": "error",
     "traceback": [
      "\u001b[1;31m---------------------------------------------------------------------------\u001b[0m",
      "\u001b[1;31mNameError\u001b[0m                                 Traceback (most recent call last)",
      "Cell \u001b[1;32mIn[8], line 2\u001b[0m\n\u001b[0;32m      1\u001b[0m letters \u001b[38;5;241m=\u001b[39m \u001b[38;5;124m'\u001b[39m\u001b[38;5;124mABCDEFGHIJKLMNOPQRSTUVWXYZ\u001b[39m\u001b[38;5;124m'\u001b[39m\n\u001b[1;32m----> 2\u001b[0m \u001b[43mP\u001b[49m\n",
      "\u001b[1;31mNameError\u001b[0m: name 'P' is not defined"
     ]
    }
   ],
   "source": [
    "letters = 'ABCDEFGHIJKLMNOPQRSTUVWXYZ'\n",
    "P"
   ]
  },
  {
   "cell_type": "code",
   "execution_count": null,
   "id": "30f9531a",
   "metadata": {},
   "outputs": [],
   "source": [
    "Full_name='Gina Olivia Denson'\n",
    "initial= 'G'\n",
    "initial+= ' '\n",
    "initial+= 'O'\n",
    "initial+= ' '\n",
    "initial+= 'D'\n",
    "print(initial)"
   ]
  },
  {
   "cell_type": "code",
   "execution_count": null,
   "id": "5710a0c2",
   "metadata": {},
   "outputs": [],
   "source": [
    "import login\n",
    "\n",
    "def get_login_name(first, last, idnumber):\n",
    "    set1=first[0:3]\n",
    "    set2=last[0:3]\n",
    "    set3=idnumber[-3:]\n",
    "    login_name=set1+set2+set3\n",
    "    return login_name\n"
   ]
  },
  {
   "cell_type": "code",
   "execution_count": null,
   "id": "50334147",
   "metadata": {},
   "outputs": [],
   "source": [
    "import login\n",
    "\n",
    "def main():\n",
    "    \n",
    "    first=input('Enter your first name: ')\n",
    "    last=input('Enter your last name: ')\n",
    "    idnumber=('Enter your student id number: ')\n",
    "    \n",
    "       \n",
    "if __name__=='__main__':\n",
    "    main()"
   ]
  },
  {
   "cell_type": "code",
   "execution_count": null,
   "id": "b7412d66",
   "metadata": {},
   "outputs": [],
   "source": [
    "import login\n",
    "\n",
    "def main():\n",
    "    last=input('Enter your last name: ')"
   ]
  },
  {
   "cell_type": "code",
   "execution_count": null,
   "id": "81781956",
   "metadata": {},
   "outputs": [],
   "source": [
    "import login\n",
    "\n",
    "def main():\n",
    "    first = input('Enter your first name: ')\n",
    "    last = input('Enter your last name: ')\n",
    "    idnumber = input('Enter your student ID number: ')\n",
    "    \n",
    "    # Do something with the user input\n",
    "\n",
    "if __name__ == '__main__':\n",
    "    main()\n"
   ]
  },
  {
   "cell_type": "code",
   "execution_count": 16,
   "id": "e384ded3",
   "metadata": {},
   "outputs": [
    {
     "ename": "IndentationError",
     "evalue": "unexpected indent (2482325850.py, line 13)",
     "output_type": "error",
     "traceback": [
      "\u001b[1;36m  Cell \u001b[1;32mIn[16], line 13\u001b[1;36m\u001b[0m\n\u001b[1;33m    main()\u001b[0m\n\u001b[1;37m    ^\u001b[0m\n\u001b[1;31mIndentationError\u001b[0m\u001b[1;31m:\u001b[0m unexpected indent\n"
     ]
    }
   ],
   "source": [
    "import login\n",
    "\n",
    "def main():\n",
    "    first=input('Enter your first name: ')\n",
    "    last=input('Enter your last name: ')\n",
    "    idnumber=input('Enter your student idnumber: ')\n",
    "    \n",
    "    print('Your system login name is: ')\n",
    "    print(login.get_login_name(first, last, idnumber))\n",
    "    \n",
    "if__name__=='__main__'\n",
    "    \n",
    "    main()"
   ]
  },
  {
   "cell_type": "code",
   "execution_count": 40,
   "id": "b5bbe4b0",
   "metadata": {},
   "outputs": [
    {
     "ename": "SyntaxError",
     "evalue": "invalid non-printable character U+00A0 (login.py, line 5)",
     "output_type": "error",
     "traceback": [
      "Traceback \u001b[1;36m(most recent call last)\u001b[0m:\n",
      "\u001b[0m  File \u001b[0;32m~\\anaconda3\\New folder (2)\\lib\\site-packages\\IPython\\core\\interactiveshell.py:3460\u001b[0m in \u001b[0;35mrun_code\u001b[0m\n    exec(code_obj, self.user_global_ns, self.user_ns)\u001b[0m\n",
      "\u001b[1;36m  Cell \u001b[1;32mIn[40], line 1\u001b[1;36m\n\u001b[1;33m    import login\u001b[1;36m\n",
      "\u001b[1;36m  File \u001b[1;32m~\\Documents\\Python-Practice\\login.py:5\u001b[1;36m\u001b[0m\n\u001b[1;33m    def get_login_name(first, last, idnumber):\u001b[0m\n\u001b[1;37m                             ^\u001b[0m\n\u001b[1;31mSyntaxError\u001b[0m\u001b[1;31m:\u001b[0m invalid non-printable character U+00A0\n"
     ]
    }
   ],
   "source": [
    "import login\n",
    "\n",
    "def main():\n",
    "    first = input('Enter your first name: ')\n",
    "    last = input('Enter your last name: ')\n",
    "    idnumber = input('Enter your student ID number: ')\n",
    "\n",
    "if __name__ == '__main__':\n",
    "    main()\n"
   ]
  },
  {
   "cell_type": "code",
   "execution_count": 14,
   "id": "a29aa8ef",
   "metadata": {},
   "outputs": [
    {
     "name": "stdout",
     "output_type": "stream",
     "text": [
      "Enter a string: 123 456 abj\n",
      "This is what I found about the string.\n",
      "The letters in this string are all lowercase.\n"
     ]
    }
   ],
   "source": [
    "def main():\n",
    "    user_string=input('Enter a string: ')\n",
    "    print('This is what I found about the string.')\n",
    "    \n",
    "    if user_string.isalnum():\n",
    "        print('The string is alphanumeric.')\n",
    "    if user_string.isdigit():\n",
    "        print('This string only contains numbers.')\n",
    "    if user_string.isalpha():\n",
    "        print('This string only contains letters.')\n",
    "    \n",
    "    if user_string.isspace():\n",
    "        print('This string only contains white space.')\n",
    "    \n",
    "    if user_string.islower():\n",
    "        print('The letters in this string are all lowercase.')\n",
    "    \n",
    "    if user_string.isupper():\n",
    "        print('The letters in this string are all uppercase.')\n",
    "        \n",
    "if __name__=='__main__':\n",
    "    main()"
   ]
  },
  {
   "cell_type": "code",
   "execution_count": 15,
   "id": "2b0997c4",
   "metadata": {},
   "outputs": [
    {
     "name": "stdout",
     "output_type": "stream",
     "text": [
      "WXYZ wxyz\n"
     ]
    }
   ],
   "source": [
    "letters = 'WXYZ'\n",
    "print(letters, letters.lower())"
   ]
  },
  {
   "cell_type": "code",
   "execution_count": 16,
   "id": "a0e057df",
   "metadata": {},
   "outputs": [
    {
     "name": "stdout",
     "output_type": "stream",
     "text": [
      "abcd ABCD\n"
     ]
    }
   ],
   "source": [
    "letters = 'abcd'\n",
    "print(letters, letters.upper())"
   ]
  },
  {
   "cell_type": "code",
   "execution_count": 23,
   "id": "c88b4b02",
   "metadata": {},
   "outputs": [
    {
     "name": "stdout",
     "output_type": "stream",
     "text": [
      "Hello\n",
      "Do you want to see the message again?\n",
      "y = yes, anything else = no:  y\n",
      "Hello\n",
      "Do you want to see the message again?\n",
      "y = yes, anything else = no:  Y\n",
      "Hello\n",
      "Do you want to see the message again?\n",
      "y = yes, anything else = no:  n\n"
     ]
    }
   ],
   "source": [
    "again = 'y'\n",
    "while again.upper()== 'Y':\n",
    "    print('Hello')\n",
    "    print('Do you want to see the message again?')\n",
    "    again=input('y = yes, anything else = no:  ')\n",
    "    "
   ]
  },
  {
   "cell_type": "code",
   "execution_count": 26,
   "id": "a3e9c43a",
   "metadata": {},
   "outputs": [
    {
     "name": "stdout",
     "output_type": "stream",
     "text": [
      "Enter the file name: coverletter.txt\n",
      "This is the name of a text file.\n"
     ]
    }
   ],
   "source": [
    "filename=input('Enter the file name: ')\n",
    "if filename.endswith('.txt'):\n",
    "    print('This is the name of a text file.')\n"
   ]
  },
  {
   "cell_type": "code",
   "execution_count": null,
   "id": "937d14ae",
   "metadata": {},
   "outputs": [],
   "source": []
  }
 ],
 "metadata": {
  "kernelspec": {
   "display_name": "Python 3 (ipykernel)",
   "language": "python",
   "name": "python3"
  },
  "language_info": {
   "codemirror_mode": {
    "name": "ipython",
    "version": 3
   },
   "file_extension": ".py",
   "mimetype": "text/x-python",
   "name": "python",
   "nbconvert_exporter": "python",
   "pygments_lexer": "ipython3",
   "version": "3.10.9"
  }
 },
 "nbformat": 4,
 "nbformat_minor": 5
}
