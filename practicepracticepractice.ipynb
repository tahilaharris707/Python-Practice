{
 "cells": [
  {
   "cell_type": "code",
   "execution_count": 1,
   "id": "4d6de318",
   "metadata": {},
   "outputs": [],
   "source": [
    "import turtle\n",
    "turtle.setup(500, 500)\n",
    "turtle.showturtle()\n",
    "turtle.forward(50)\n",
    "turtle.circle(50)\n",
    "turtle.penup\n",
    "turtle.circle(100)\n",
    "turtle.backward(100)\n",
    "turtle.forward(75)"
   ]
  },
  {
   "cell_type": "code",
   "execution_count": 2,
   "id": "17e58a9c",
   "metadata": {},
   "outputs": [],
   "source": [
    "a=3\n",
    "b=2\n",
    "c=1\n",
    "\n",
    "def my_function(a, b, c):\n",
    "    print(a, b, c)"
   ]
  },
  {
   "cell_type": "code",
   "execution_count": 3,
   "id": "96867ad9",
   "metadata": {},
   "outputs": [
    {
     "name": "stdout",
     "output_type": "stream",
     "text": [
      "1 3.4\n",
      "0 0\n",
      "1 3.4\n"
     ]
    }
   ],
   "source": [
    "def main():\n",
    "    x = 1\n",
    "    y = 3.4\n",
    "    print(x,y)\n",
    "    change_us(x,y)\n",
    "    print(x,y)\n",
    "\n",
    "def change_us(a,b):\n",
    "    a = 0\n",
    "    b = 0\n",
    "    print(a,b)\n",
    "\n",
    "main()\n"
   ]
  },
  {
   "cell_type": "code",
   "execution_count": 4,
   "id": "a61aa5b6",
   "metadata": {},
   "outputs": [
    {
     "ename": "SyntaxError",
     "evalue": "invalid syntax (2100168288.py, line 1)",
     "output_type": "error",
     "traceback": [
      "\u001b[1;36m  Cell \u001b[1;32mIn[4], line 1\u001b[1;36m\u001b[0m\n\u001b[1;33m    enter a distance in kilometers:100\u001b[0m\n\u001b[1;37m          ^\u001b[0m\n\u001b[1;31mSyntaxError\u001b[0m\u001b[1;31m:\u001b[0m invalid syntax\n"
     ]
    }
   ],
   "source": [
    "enter a distance in kilometers:100"
   ]
  },
  {
   "cell_type": "code",
   "execution_count": null,
   "id": "05ec4505",
   "metadata": {},
   "outputs": [],
   "source": [
    "# I will create a global constant and assign it the value 0.6214\n",
    "\n",
    "conversion = 0.6214\n",
    "\n",
    "# I will create a main function to prompt the user to enter the distance in kilometers.\n",
    "\n",
    "def main():\n",
    "    kilometers = float(input('Enter a distance in kilometers: '))\n",
    "\n",
    "def show_miles(km):\n",
    "    miles = km*conversion\n",
    "    print(km, 'kilometers equals', miles, 'miles')"
   ]
  },
  {
   "cell_type": "code",
   "execution_count": null,
   "id": "c3abdd28",
   "metadata": {},
   "outputs": [],
   "source": [
    "# I will create a global constant and assign it the value 0.6214\n",
    "\n",
    "conversion = 0.6214\n",
    "\n",
    "# I will create a main function to prompt the user to enter the distance in kilometers.\n",
    "\n",
    "def main():\n",
    "    kilometers = float(input('Enter a distance in kilometers: '))\n",
    "\n",
    "def show_miles(km):\n",
    "    miles = km*conversion\n",
    "    print(km, 'kilometers equals', miles, 'miles')"
   ]
  },
  {
   "cell_type": "code",
   "execution_count": null,
   "id": "840d9d81",
   "metadata": {},
   "outputs": [],
   "source": [
    "def main():\n",
    "    kilometers = float(input('Enter a distance in kilometers: '))\n",
    "    "
   ]
  },
  {
   "cell_type": "code",
   "execution_count": 6,
   "id": "6c51d595",
   "metadata": {},
   "outputs": [
    {
     "name": "stdout",
     "output_type": "stream",
     "text": [
      "10\n"
     ]
    }
   ],
   "source": [
    "kilometer = 10\n",
    "\n",
    "print(kilometer)"
   ]
  },
  {
   "cell_type": "code",
   "execution_count": null,
   "id": "bd463f33",
   "metadata": {},
   "outputs": [],
   "source": []
  },
  {
   "cell_type": "code",
   "execution_count": null,
   "id": "2e28cb70",
   "metadata": {},
   "outputs": [],
   "source": [
    "kilometers = 15\n",
    "\n",
    "conversion = 0.6214\n",
    "\n",
    "miles = kilometers*0.6214\n",
    "\n",
    "miles = float(input('Enter a distance in kilometers: '))\n",
    "\n",
    "miles = kilometers * conversion\n",
    "\n",
    "print(km, 'kilometers equals', miles, 'miles')\n",
    "\n"
   ]
  },
  {
   "cell_type": "code",
   "execution_count": null,
   "id": "c1d4d0c5",
   "metadata": {},
   "outputs": [],
   "source": []
  },
  {
   "cell_type": "code",
   "execution_count": 1,
   "id": "aa1e888a",
   "metadata": {},
   "outputs": [
    {
     "ename": "FileNotFoundError",
     "evalue": "[Errno 2] No such file or directory: 'customers.txt'",
     "output_type": "error",
     "traceback": [
      "\u001b[1;31m---------------------------------------------------------------------------\u001b[0m",
      "\u001b[1;31mFileNotFoundError\u001b[0m                         Traceback (most recent call last)",
      "Cell \u001b[1;32mIn[1], line 1\u001b[0m\n\u001b[1;32m----> 1\u001b[0m customer_file \u001b[38;5;241m=\u001b[39m \u001b[38;5;28;43mopen\u001b[39;49m\u001b[43m(\u001b[49m\u001b[38;5;124;43m'\u001b[39;49m\u001b[38;5;124;43mcustomers.txt\u001b[39;49m\u001b[38;5;124;43m'\u001b[39;49m\u001b[43m,\u001b[49m\u001b[43m \u001b[49m\u001b[38;5;124;43m'\u001b[39;49m\u001b[38;5;124;43mr\u001b[39;49m\u001b[38;5;124;43m'\u001b[39;49m\u001b[43m)\u001b[49m\n",
      "File \u001b[1;32m~\\anaconda3\\New folder (2)\\lib\\site-packages\\IPython\\core\\interactiveshell.py:282\u001b[0m, in \u001b[0;36m_modified_open\u001b[1;34m(file, *args, **kwargs)\u001b[0m\n\u001b[0;32m    275\u001b[0m \u001b[38;5;28;01mif\u001b[39;00m file \u001b[38;5;129;01min\u001b[39;00m {\u001b[38;5;241m0\u001b[39m, \u001b[38;5;241m1\u001b[39m, \u001b[38;5;241m2\u001b[39m}:\n\u001b[0;32m    276\u001b[0m     \u001b[38;5;28;01mraise\u001b[39;00m \u001b[38;5;167;01mValueError\u001b[39;00m(\n\u001b[0;32m    277\u001b[0m         \u001b[38;5;124mf\u001b[39m\u001b[38;5;124m\"\u001b[39m\u001b[38;5;124mIPython won\u001b[39m\u001b[38;5;124m'\u001b[39m\u001b[38;5;124mt let you open fd=\u001b[39m\u001b[38;5;132;01m{\u001b[39;00mfile\u001b[38;5;132;01m}\u001b[39;00m\u001b[38;5;124m by default \u001b[39m\u001b[38;5;124m\"\u001b[39m\n\u001b[0;32m    278\u001b[0m         \u001b[38;5;124m\"\u001b[39m\u001b[38;5;124mas it is likely to crash IPython. If you know what you are doing, \u001b[39m\u001b[38;5;124m\"\u001b[39m\n\u001b[0;32m    279\u001b[0m         \u001b[38;5;124m\"\u001b[39m\u001b[38;5;124myou can use builtins\u001b[39m\u001b[38;5;124m'\u001b[39m\u001b[38;5;124m open.\u001b[39m\u001b[38;5;124m\"\u001b[39m\n\u001b[0;32m    280\u001b[0m     )\n\u001b[1;32m--> 282\u001b[0m \u001b[38;5;28;01mreturn\u001b[39;00m io_open(file, \u001b[38;5;241m*\u001b[39margs, \u001b[38;5;241m*\u001b[39m\u001b[38;5;241m*\u001b[39mkwargs)\n",
      "\u001b[1;31mFileNotFoundError\u001b[0m: [Errno 2] No such file or directory: 'customers.txt'"
     ]
    }
   ],
   "source": [
    "customer_file = open('customers.txt', 'r')"
   ]
  },
  {
   "cell_type": "code",
   "execution_count": 3,
   "id": "092364c3",
   "metadata": {},
   "outputs": [
    {
     "ename": "NameError",
     "evalue": "name 'customer_file' is not defined",
     "output_type": "error",
     "traceback": [
      "\u001b[1;31m---------------------------------------------------------------------------\u001b[0m",
      "\u001b[1;31mNameError\u001b[0m                                 Traceback (most recent call last)",
      "Cell \u001b[1;32mIn[3], line 1\u001b[0m\n\u001b[1;32m----> 1\u001b[0m \u001b[43mcustomer_file\u001b[49m(\u001b[38;5;124m'\u001b[39m\u001b[38;5;124mCharles Pace\u001b[39m\u001b[38;5;124m'\u001b[39m \u001b[38;5;124m'\u001b[39m\u001b[38;5;124mw\u001b[39m\u001b[38;5;124m'\u001b[39m)\n",
      "\u001b[1;31mNameError\u001b[0m: name 'customer_file' is not defined"
     ]
    }
   ],
   "source": [
    "customer_file('Charles Pace' 'w')"
   ]
  },
  {
   "cell_type": "code",
   "execution_count": 8,
   "id": "87c24cdd",
   "metadata": {},
   "outputs": [],
   "source": [
    "def main():\n",
    "    outfile = open('Philosphers.txt,' 'w')\n",
    "    outfile.write('John Locke\\n')\n",
    "    outfile.write('David Hume\\n')\n",
    "    outfile.write('Edmund Burke\\n')"
   ]
  },
  {
   "cell_type": "code",
   "execution_count": 9,
   "id": "f3a917a0",
   "metadata": {},
   "outputs": [],
   "source": [
    "def main():\n",
    "    outfile = open('Philosphers.txt,' 'w')"
   ]
  },
  {
   "cell_type": "code",
   "execution_count": 10,
   "id": "434d9441",
   "metadata": {},
   "outputs": [
    {
     "name": "stdout",
     "output_type": "stream",
     "text": [
      "Hello World\n"
     ]
    }
   ],
   "source": [
    "print('Hello World')"
   ]
  },
  {
   "cell_type": "code",
   "execution_count": null,
   "id": "bb1ecaf1",
   "metadata": {},
   "outputs": [],
   "source": []
  }
 ],
 "metadata": {
  "kernelspec": {
   "display_name": "Python 3 (ipykernel)",
   "language": "python",
   "name": "python3"
  },
  "language_info": {
   "codemirror_mode": {
    "name": "ipython",
    "version": 3
   },
   "file_extension": ".py",
   "mimetype": "text/x-python",
   "name": "python",
   "nbconvert_exporter": "python",
   "pygments_lexer": "ipython3",
   "version": "3.10.9"
  }
 },
 "nbformat": 4,
 "nbformat_minor": 5
}
