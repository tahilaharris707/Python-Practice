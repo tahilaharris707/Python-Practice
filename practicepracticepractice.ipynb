{
 "cells": [
  {
   "cell_type": "code",
   "execution_count": 9,
   "id": "4d6de318",
   "metadata": {},
   "outputs": [],
   "source": [
    "import turtle\n",
    "turtle.setup(500, 500)\n",
    "turtle.showturtle()\n",
    "turtle.forward(50)\n",
    "turtle.circle(50)\n",
    "turtle.penup\n",
    "turtle.circle(100)\n",
    "turtle.backward(100)\n",
    "turtle.forward(75)"
   ]
  },
  {
   "cell_type": "code",
   "execution_count": 5,
   "id": "17e58a9c",
   "metadata": {},
   "outputs": [],
   "source": [
    "a=3\n",
    "b=2\n",
    "c=1\n",
    "\n",
    "def my_function(a, b, c):\n",
    "    print(a, b, c)"
   ]
  },
  {
   "cell_type": "code",
   "execution_count": 6,
   "id": "96867ad9",
   "metadata": {},
   "outputs": [
    {
     "name": "stdout",
     "output_type": "stream",
     "text": [
      "1 3.4\n",
      "0 0\n",
      "1 3.4\n"
     ]
    }
   ],
   "source": [
    "def main():\n",
    "    x = 1\n",
    "    y = 3.4\n",
    "    print(x,y)\n",
    "    change_us(x,y)\n",
    "    print(x,y)\n",
    "\n",
    "def change_us(a,b):\n",
    "    a = 0\n",
    "    b = 0\n",
    "    print(a,b)\n",
    "\n",
    "main()\n"
   ]
  },
  {
   "cell_type": "code",
   "execution_count": 8,
   "id": "a61aa5b6",
   "metadata": {},
   "outputs": [
    {
     "ename": "SyntaxError",
     "evalue": "invalid syntax (2100168288.py, line 1)",
     "output_type": "error",
     "traceback": [
      "\u001b[1;36m  Cell \u001b[1;32mIn[8], line 1\u001b[1;36m\u001b[0m\n\u001b[1;33m    enter a distance in kilometers:100\u001b[0m\n\u001b[1;37m          ^\u001b[0m\n\u001b[1;31mSyntaxError\u001b[0m\u001b[1;31m:\u001b[0m invalid syntax\n"
     ]
    }
   ],
   "source": [
    "enter a distance in kilometers:100"
   ]
  },
  {
   "cell_type": "code",
   "execution_count": 9,
   "id": "05ec4505",
   "metadata": {},
   "outputs": [],
   "source": [
    "# I will create a global constant and assign it the value 0.6214\n",
    "\n",
    "conversion = 0.6214\n",
    "\n",
    "# I will create a main function to prompt the user to enter the distance in kilometers.\n",
    "\n",
    "def main():\n",
    "    kilometers = float(input('Enter a distance in kilometers: '))\n",
    "\n",
    "def show_miles(km):\n",
    "    miles = km*conversion\n",
    "    print(km, 'kilometers equals', miles, 'miles')"
   ]
  },
  {
   "cell_type": "code",
   "execution_count": null,
   "id": "c3abdd28",
   "metadata": {},
   "outputs": [],
   "source": []
  }
 ],
 "metadata": {
  "kernelspec": {
   "display_name": "Python 3 (ipykernel)",
   "language": "python",
   "name": "python3"
  },
  "language_info": {
   "codemirror_mode": {
    "name": "ipython",
    "version": 3
   },
   "file_extension": ".py",
   "mimetype": "text/x-python",
   "name": "python",
   "nbconvert_exporter": "python",
   "pygments_lexer": "ipython3",
   "version": "3.10.9"
  }
 },
 "nbformat": 4,
 "nbformat_minor": 5
}
