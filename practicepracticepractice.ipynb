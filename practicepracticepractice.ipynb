{
 "cells": [
  {
   "cell_type": "code",
   "execution_count": 9,
   "id": "4d6de318",
   "metadata": {},
   "outputs": [],
   "source": [
    "import turtle\n",
    "turtle.setup(500, 500)\n",
    "turtle.showturtle()\n",
    "turtle.forward(50)\n",
    "turtle.circle(50)\n",
    "turtle.penup\n",
    "turtle.circle(100)\n",
    "turtle.backward(100)\n",
    "turtle.forward(75)"
   ]
  },
  {
   "cell_type": "code",
   "execution_count": null,
   "id": "17e58a9c",
   "metadata": {},
   "outputs": [],
   "source": []
  }
 ],
 "metadata": {
  "kernelspec": {
   "display_name": "Python 3 (ipykernel)",
   "language": "python",
   "name": "python3"
  },
  "language_info": {
   "codemirror_mode": {
    "name": "ipython",
    "version": 3
   },
   "file_extension": ".py",
   "mimetype": "text/x-python",
   "name": "python",
   "nbconvert_exporter": "python",
   "pygments_lexer": "ipython3",
   "version": "3.10.9"
  }
 },
 "nbformat": 4,
 "nbformat_minor": 5
}
