{
 "cells": [
  {
   "cell_type": "code",
   "execution_count": null,
   "id": "4d6de318",
   "metadata": {},
   "outputs": [],
   "source": [
    "import turtle\n",
    "turtle.setup(500, 500)\n",
    "turtle.showturtle()\n",
    "turtle.forward(50)\n",
    "turtle.circle(50)\n",
    "turtle.penup\n",
    "turtle.circle(100)\n",
    "turtle.backward(100)\n",
    "turtle.forward(75)"
   ]
  },
  {
   "cell_type": "code",
   "execution_count": null,
   "id": "17e58a9c",
   "metadata": {},
   "outputs": [],
   "source": [
    "a=3\n",
    "b=2\n",
    "c=1\n",
    "\n",
    "def my_function(a, b, c):\n",
    "    print(a, b, c)"
   ]
  },
  {
   "cell_type": "code",
   "execution_count": null,
   "id": "96867ad9",
   "metadata": {},
   "outputs": [],
   "source": [
    "def main():\n",
    "    x = 1\n",
    "    y = 3.4\n",
    "    print(x,y)\n",
    "    change_us(x,y)\n",
    "    print(x,y)\n",
    "\n",
    "def change_us(a,b):\n",
    "    a = 0\n",
    "    b = 0\n",
    "    print(a,b)\n",
    "\n",
    "main()\n"
   ]
  },
  {
   "cell_type": "code",
   "execution_count": null,
   "id": "a61aa5b6",
   "metadata": {},
   "outputs": [],
   "source": [
    "enter a distance in kilometers:100"
   ]
  },
  {
   "cell_type": "code",
   "execution_count": null,
   "id": "05ec4505",
   "metadata": {},
   "outputs": [],
   "source": [
    "# I will create a global constant and assign it the value 0.6214\n",
    "\n",
    "conversion = 0.6214\n",
    "\n",
    "# I will create a main function to prompt the user to enter the distance in kilometers.\n",
    "\n",
    "def main():\n",
    "    kilometers = float(input('Enter a distance in kilometers: '))\n",
    "\n",
    "def show_miles(km):\n",
    "    miles = km*conversion\n",
    "    print(km, 'kilometers equals', miles, 'miles')"
   ]
  },
  {
   "cell_type": "code",
   "execution_count": null,
   "id": "c3abdd28",
   "metadata": {},
   "outputs": [],
   "source": [
    "# I will create a global constant and assign it the value 0.6214\n",
    "\n",
    "conversion = 0.6214\n",
    "\n",
    "# I will create a main function to prompt the user to enter the distance in kilometers.\n",
    "\n",
    "def main():\n",
    "    kilometers = float(input('Enter a distance in kilometers: '))\n",
    "\n",
    "def show_miles(km):\n",
    "    miles = km*conversion\n",
    "    print(km, 'kilometers equals', miles, 'miles')"
   ]
  },
  {
   "cell_type": "code",
   "execution_count": null,
   "id": "840d9d81",
   "metadata": {},
   "outputs": [],
   "source": [
    "def main():\n",
    "    kilometers = float(input('Enter a distance in kilometers: '))\n",
    "    "
   ]
  },
  {
   "cell_type": "code",
   "execution_count": null,
   "id": "6c51d595",
   "metadata": {},
   "outputs": [],
   "source": [
    "kilometer = 10\n",
    "\n",
    "print(kilometer)"
   ]
  },
  {
   "cell_type": "code",
   "execution_count": null,
   "id": "bd463f33",
   "metadata": {},
   "outputs": [],
   "source": []
  },
  {
   "cell_type": "code",
   "execution_count": null,
   "id": "2e28cb70",
   "metadata": {},
   "outputs": [],
   "source": [
    "kilometers = 15\n",
    "\n",
    "conversion = 0.6214\n",
    "\n",
    "miles = kilometers*0.6214\n",
    "\n",
    "miles = float(input('Enter a distance in kilometers: '))\n",
    "\n",
    "miles = kilometers * conversion\n",
    "\n",
    "print(km, 'kilometers equals', miles, 'miles')\n",
    "\n"
   ]
  },
  {
   "cell_type": "code",
   "execution_count": null,
   "id": "c1d4d0c5",
   "metadata": {},
   "outputs": [],
   "source": []
  },
  {
   "cell_type": "code",
   "execution_count": null,
   "id": "aa1e888a",
   "metadata": {},
   "outputs": [],
   "source": [
    "customer_file = open('customers.txt', 'r')"
   ]
  },
  {
   "cell_type": "code",
   "execution_count": null,
   "id": "092364c3",
   "metadata": {},
   "outputs": [],
   "source": [
    "customer_file('Charles Pace' 'w')"
   ]
  },
  {
   "cell_type": "code",
   "execution_count": null,
   "id": "87c24cdd",
   "metadata": {},
   "outputs": [],
   "source": [
    "def main():\n",
    "    outfile = open('Philosphers.txt,' 'w')\n",
    "    outfile.write('John Locke\\n')\n",
    "    outfile.write('David Hume\\n')\n",
    "    outfile.write('Edmund Burke\\n')"
   ]
  },
  {
   "cell_type": "code",
   "execution_count": null,
   "id": "f3a917a0",
   "metadata": {},
   "outputs": [],
   "source": [
    "def main():\n",
    "    outfile = open('Philosphers.txt,' 'w')"
   ]
  },
  {
   "cell_type": "code",
   "execution_count": null,
   "id": "434d9441",
   "metadata": {},
   "outputs": [],
   "source": [
    "print('Hello World')"
   ]
  },
  {
   "cell_type": "code",
   "execution_count": null,
   "id": "bb1ecaf1",
   "metadata": {},
   "outputs": [],
   "source": [
    "def main():\n",
    "    intro()\n",
    "    cups_needed = int(input('Enter the number of cups: '))\n",
    "    cups_to_ounces(cups_needed)\n",
    "    \n",
    "def intro():\n",
    "    print('This program converts measurements')\n",
    "    print('in cups to fluid ocunces. For your')\n",
    "    print('reference the formula is:')\n",
    "    print('1 cup = 8 fluid ounces')\n",
    "    print()"
   ]
  },
  {
   "cell_type": "code",
   "execution_count": null,
   "id": "66f36f3e",
   "metadata": {},
   "outputs": [],
   "source": [
    "def main():\n",
    "    intro()\n",
    "    cups_needed = int(input('Enter the number of cups: '))"
   ]
  },
  {
   "cell_type": "code",
   "execution_count": null,
   "id": "c606ad98",
   "metadata": {},
   "outputs": [],
   "source": []
  },
  {
   "cell_type": "code",
   "execution_count": null,
   "id": "58ecb690",
   "metadata": {},
   "outputs": [],
   "source": [
    "kmvalue = float(input('Enter the distance in kilometers: '))\n",
    "\n",
    "mvalue = kmvalue*0.621371\n",
    "\n",
    "print(\"%.2f kilometer = %.2f miles\" %(kmvalue))"
   ]
  },
  {
   "cell_type": "code",
   "execution_count": null,
   "id": "7a8178d3",
   "metadata": {},
   "outputs": [],
   "source": [
    "kilometers = float(input('Enter the distance in kilometers: '))\n",
    "miles = kilometers * 0.6214\n",
    "print('Miles = 62.14')\n",
    "print(kilometers * 0.6214)"
   ]
  },
  {
   "cell_type": "code",
   "execution_count": null,
   "id": "4b4c72ed",
   "metadata": {},
   "outputs": [],
   "source": [
    "if sales>=50000.0:\n",
    "    sales_quota_met = true\n",
    "else:\n",
    "    sales_quota_met = false\n",
    "    print('')\n"
   ]
  },
  {
   "cell_type": "code",
   "execution_count": null,
   "id": "f4e4a3fc",
   "metadata": {},
   "outputs": [],
   "source": [
    "num = 8\n",
    "is_prime = int(input('Enter a number: '))\n",
    "if is_prime"
   ]
  },
  {
   "cell_type": "code",
   "execution_count": null,
   "id": "92ed8dd7",
   "metadata": {},
   "outputs": [],
   "source": [
    "x=1\n",
    "y=0\n",
    "x>y"
   ]
  },
  {
   "cell_type": "code",
   "execution_count": null,
   "id": "4fd32e65",
   "metadata": {},
   "outputs": [],
   "source": [
    "is_prime = int(input('Enter a number: '))\n",
    "if is_prime>1:\n",
    "        print('True')"
   ]
  },
  {
   "cell_type": "code",
   "execution_count": null,
   "id": "da3ca029",
   "metadata": {},
   "outputs": [],
   "source": [
    "Class_A = 20.0\n",
    "int(input('Enter number of seats sold for Class A '))\n",
    "Class_A*20\n",
    "\n",
    "Class_B =15.0\n",
    "int(input('Enter number of seats sold for Class B '))\n",
    "Class_B*25\n",
    "\n",
    "Class_C = 10\n",
    "int(input('Enter number of seats sold for Class C '))\n",
    "Class_C*30\n",
    "\n"
   ]
  },
  {
   "cell_type": "code",
   "execution_count": null,
   "id": "79259dbe",
   "metadata": {},
   "outputs": [],
   "source": [
    "number = 1\n",
    "\n",
    "while(number<=100):\n",
    "    count = 0\n",
    "    i = 2\n",
    "    while(i <= Number//2):\n",
    "        if(Number % i == 0):\n",
    "            count = count + 1\n",
    "            break\n",
    "        i = i + 1\n",
    "        \n",
    "        if (count == 0 and Number != 1):\n",
    "            print(\" %d\" %Number, end = '  ')\n",
    "        Number = Number  + 1\n"
   ]
  },
  {
   "cell_type": "code",
   "execution_count": null,
   "id": "0e3e76cc",
   "metadata": {},
   "outputs": [],
   "source": [
    "for num in range(5):\n",
    "    print(num)\n"
   ]
  },
  {
   "cell_type": "code",
   "execution_count": null,
   "id": "5a72f563",
   "metadata": {},
   "outputs": [],
   "source": [
    "for num in range(101):\n",
    "    print(num)"
   ]
  },
  {
   "cell_type": "code",
   "execution_count": null,
   "id": "55030c59",
   "metadata": {},
   "outputs": [],
   "source": [
    "def main():\n",
    "    number = int(input('Enter a whole number '))\n",
    "    prime = is_prime(number)\n",
    "    if prime == True:\n",
    "        print('This is a prime number')\n",
    "    else:\n",
    "        print('This is not a prime number')\n",
    "        \n",
    "# I will write a program for is_prime\n",
    "\n",
    "def is_prime(number):\n",
    "    result = True\n",
    "    for i in range(2, number):\n",
    "        if(number % i) == 0:\n",
    "                result = False\n",
    "    return result\n",
    "main()"
   ]
  },
  {
   "cell_type": "code",
   "execution_count": 2,
   "id": "f786882b",
   "metadata": {},
   "outputs": [
    {
     "ename": "SyntaxError",
     "evalue": "invalid non-printable character U+00A0 (2691808254.py, line 1)",
     "output_type": "error",
     "traceback": [
      "\u001b[1;36m  Cell \u001b[1;32mIn[2], line 1\u001b[1;36m\u001b[0m\n\u001b[1;33m    for number in range(1, 11):\u001b[0m\n\u001b[1;37m       ^\u001b[0m\n\u001b[1;31mSyntaxError\u001b[0m\u001b[1;31m:\u001b[0m invalid non-printable character U+00A0\n"
     ]
    }
   ],
   "source": [
    "for number in range(1, 11): \n",
    "    square = number**2 \n",
    "    print(f'{number}\\t{square}') "
   ]
  },
  {
   "cell_type": "code",
   "execution_count": 3,
   "id": "6dff9e82",
   "metadata": {},
   "outputs": [
    {
     "name": "stdout",
     "output_type": "stream",
     "text": [
      "2\n",
      "3\n",
      "5\n",
      "7\n",
      "11\n",
      "13\n",
      "17\n",
      "19\n",
      "23\n",
      "29\n",
      "31\n",
      "37\n",
      "41\n",
      "43\n",
      "47\n",
      "53\n",
      "59\n",
      "61\n",
      "67\n",
      "71\n",
      "73\n",
      "79\n",
      "83\n",
      "89\n",
      "97\n"
     ]
    }
   ],
   "source": [
    "for is_prime in(2, 3, 5, 7, 11, 13, 17, 19, 23, 29, 31, 37, 41, 43, 47, 53, 59, 61, 67, 71, 73, 79, 83, 89, 97):\n",
    "    print(is_prime)\n"
   ]
  },
  {
   "cell_type": "code",
   "execution_count": 7,
   "id": "1e34f0f1",
   "metadata": {},
   "outputs": [
    {
     "name": "stdout",
     "output_type": "stream",
     "text": [
      "The number is 7:\n"
     ]
    }
   ],
   "source": [
    "import random\n",
    "\n",
    "def main():\n",
    "    number = random.randint(1,10)\n",
    "    print(f'The number is {number}:')\n",
    "main()"
   ]
  },
  {
   "cell_type": "code",
   "execution_count": 8,
   "id": "a51c1fdd",
   "metadata": {},
   "outputs": [
    {
     "name": "stdout",
     "output_type": "stream",
     "text": [
      "10\n"
     ]
    }
   ],
   "source": [
    "print(random.randint(1,10))"
   ]
  },
  {
   "cell_type": "code",
   "execution_count": 16,
   "id": "ae9ad843",
   "metadata": {},
   "outputs": [
    {
     "ename": "IndentationError",
     "evalue": "unindent does not match any outer indentation level (<tokenize>, line 12)",
     "output_type": "error",
     "traceback": [
      "\u001b[1;36m  File \u001b[1;32m<tokenize>:12\u001b[1;36m\u001b[0m\n\u001b[1;33m    print(random.randint(MIN, MAX))\u001b[0m\n\u001b[1;37m    ^\u001b[0m\n\u001b[1;31mIndentationError\u001b[0m\u001b[1;31m:\u001b[0m unindent does not match any outer indentation level\n"
     ]
    }
   ],
   "source": [
    "import random\n",
    "Min = 1\n",
    "Max = 6\n",
    "\n",
    "def main():\n",
    "    again = 'y'\n",
    "while again == 'y' or again = Y':\n",
    "    \n",
    "    print('Rolling the dice...')\n",
    "    print('There values are: ')\n",
    "    print(random.randint(MIN, MAX)) \n",
    "    print(random.randint(MIN, MAX))\n",
    "    \n",
    "    again = input('Roll them again? (y = yes): ')\n",
    "\n",
    "main()"
   ]
  },
  {
   "cell_type": "code",
   "execution_count": 20,
   "id": "f5a40c88",
   "metadata": {},
   "outputs": [
    {
     "name": "stdout",
     "output_type": "stream",
     "text": [
      "HEADS\n",
      "TAILS\n",
      "TAILS\n",
      "HEADS\n",
      "HEADS\n",
      "HEADS\n",
      "HEADS\n",
      "TAILS\n",
      "TAILS\n",
      "TAILS\n"
     ]
    }
   ],
   "source": [
    "import random\n",
    "\n",
    "HEADS=1\n",
    "TAILS=2\n",
    "TOSSES=10\n",
    "\n",
    "def main():\n",
    "    for toss in range(TOSSES):\n",
    "        if random.randint(HEADS, TAILS)==HEADS:\n",
    "            print('HEADS')\n",
    "        else:\n",
    "                print('TAILS')\n",
    "                \n",
    "main()"
   ]
  },
  {
   "cell_type": "code",
   "execution_count": 41,
   "id": "9926627e",
   "metadata": {},
   "outputs": [
    {
     "name": "stdout",
     "output_type": "stream",
     "text": [
      "Enter the amount of the loan 300.0\n",
      "Enter the amount of the insurance 150.0\n",
      "Enter the amount of gas 75.0\n",
      "Enter the amount of oil 99.0\n",
      "Enter the amount of tires 900.0\n",
      "Enter the amount of maintenance 200.0\n",
      "The total monthly expense is 1724.0\n",
      "The total yearly expense is 20688.0\n"
     ]
    }
   ],
   "source": [
    "loan=300.0\n",
    "insurance=150.0\n",
    "gas=75.0\n",
    "oil=99.0\n",
    "tires=900.0\n",
    "maintenance=200.0\n",
    "\n",
    "def main():\n",
    "    float(input('Enter the amount of the loan '))\n",
    "    float(input('Enter the amount of the insurance '))\n",
    "    float(input('Enter the amount of gas '))\n",
    "    float(input('Enter the amount of oil '))\n",
    "    float(input('Enter the amount of tires '))\n",
    "    float(input('Enter the amount of maintenance '))\n",
    "    \n",
    "    monthly = 1724.0\n",
    "    \n",
    "    print('The total monthly expense is', loan + insurance + gas + oil + tires + maintenance)\n",
    "    print('The total yearly expense is', monthly*12)\n",
    "    \n",
    "\n",
    "\n",
    "main()\n"
   ]
  },
  {
   "cell_type": "code",
   "execution_count": null,
   "id": "ae04336c",
   "metadata": {},
   "outputs": [],
   "source": []
  },
  {
   "cell_type": "code",
   "execution_count": null,
   "id": "64efa041",
   "metadata": {},
   "outputs": [],
   "source": []
  }
 ],
 "metadata": {
  "kernelspec": {
   "display_name": "Python 3 (ipykernel)",
   "language": "python",
   "name": "python3"
  },
  "language_info": {
   "codemirror_mode": {
    "name": "ipython",
    "version": 3
   },
   "file_extension": ".py",
   "mimetype": "text/x-python",
   "name": "python",
   "nbconvert_exporter": "python",
   "pygments_lexer": "ipython3",
   "version": "3.10.9"
  }
 },
 "nbformat": 4,
 "nbformat_minor": 5
}
