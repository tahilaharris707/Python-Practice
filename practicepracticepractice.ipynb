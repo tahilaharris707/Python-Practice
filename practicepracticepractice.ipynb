{
 "cells": [
  {
   "cell_type": "code",
   "execution_count": 1,
   "id": "4d6de318",
   "metadata": {},
   "outputs": [],
   "source": [
    "import turtle\n",
    "turtle.setup(500, 500)\n",
    "turtle.showturtle()\n",
    "turtle.forward(50)\n",
    "turtle.circle(50)\n",
    "turtle.penup\n",
    "turtle.circle(100)\n",
    "turtle.backward(100)\n",
    "turtle.forward(75)"
   ]
  },
  {
   "cell_type": "code",
   "execution_count": 5,
   "id": "17e58a9c",
   "metadata": {},
   "outputs": [],
   "source": [
    "a=3\n",
    "b=2\n",
    "c=1\n",
    "\n",
    "def my_function(a, b, c):\n",
    "    print(a, b, c)"
   ]
  },
  {
   "cell_type": "code",
   "execution_count": 3,
   "id": "96867ad9",
   "metadata": {},
   "outputs": [
    {
     "name": "stdout",
     "output_type": "stream",
     "text": [
      "1 3.4\n",
      "0 0\n",
      "1 3.4\n"
     ]
    }
   ],
   "source": [
    "def main():\n",
    "    x = 1\n",
    "    y = 3.4\n",
    "    print(x,y)\n",
    "    change_us(x,y)\n",
    "    print(x,y)\n",
    "\n",
    "def change_us(a,b):\n",
    "    a = 0\n",
    "    b = 0\n",
    "    print(a,b)\n",
    "\n",
    "main()\n"
   ]
  },
  {
   "cell_type": "code",
   "execution_count": 4,
   "id": "a61aa5b6",
   "metadata": {},
   "outputs": [
    {
     "ename": "SyntaxError",
     "evalue": "invalid syntax (2100168288.py, line 1)",
     "output_type": "error",
     "traceback": [
      "\u001b[1;36m  Cell \u001b[1;32mIn[4], line 1\u001b[1;36m\u001b[0m\n\u001b[1;33m    enter a distance in kilometers:100\u001b[0m\n\u001b[1;37m          ^\u001b[0m\n\u001b[1;31mSyntaxError\u001b[0m\u001b[1;31m:\u001b[0m invalid syntax\n"
     ]
    }
   ],
   "source": [
    "enter a distance in kilometers:100"
   ]
  },
  {
   "cell_type": "code",
   "execution_count": 6,
   "id": "05ec4505",
   "metadata": {},
   "outputs": [],
   "source": [
    "# I will create a global constant and assign it the value 0.6214\n",
    "\n",
    "conversion = 0.6214\n",
    "\n",
    "# I will create a main function to prompt the user to enter the distance in kilometers.\n",
    "\n",
    "def main():\n",
    "    kilometers = float(input('Enter a distance in kilometers: '))\n",
    "\n",
    "def show_miles(km):\n",
    "    miles = km*conversion\n",
    "    print(km, 'kilometers equals', miles, 'miles')"
   ]
  },
  {
   "cell_type": "code",
   "execution_count": 7,
   "id": "c3abdd28",
   "metadata": {},
   "outputs": [],
   "source": [
    "# I will create a global constant and assign it the value 0.6214\n",
    "\n",
    "conversion = 0.6214\n",
    "\n",
    "# I will create a main function to prompt the user to enter the distance in kilometers.\n",
    "\n",
    "def main():\n",
    "    kilometers = float(input('Enter a distance in kilometers: '))\n",
    "\n",
    "def show_miles(km):\n",
    "    miles = km*conversion\n",
    "    print(km, 'kilometers equals', miles, 'miles')"
   ]
  },
  {
   "cell_type": "code",
   "execution_count": null,
   "id": "840d9d81",
   "metadata": {},
   "outputs": [],
   "source": [
    "def main():\n",
    "    kilometers = float(input('Enter a distance in kilometers: '))\n",
    "    "
   ]
  },
  {
   "cell_type": "code",
   "execution_count": null,
   "id": "6c51d595",
   "metadata": {},
   "outputs": [],
   "source": [
    "kilometer = 10\n",
    "\n",
    "print(kilometer)"
   ]
  },
  {
   "cell_type": "code",
   "execution_count": null,
   "id": "bd463f33",
   "metadata": {},
   "outputs": [],
   "source": []
  },
  {
   "cell_type": "code",
   "execution_count": null,
   "id": "2e28cb70",
   "metadata": {},
   "outputs": [],
   "source": [
    "kilometers = 15\n",
    "\n",
    "conversion = 0.6214\n",
    "\n",
    "miles = kilometers*0.6214\n",
    "\n",
    "miles = float(input('Enter a distance in kilometers: '))\n",
    "\n",
    "miles = kilometers * conversion\n",
    "\n",
    "print(km, 'kilometers equals', miles, 'miles')\n",
    "\n"
   ]
  },
  {
   "cell_type": "code",
   "execution_count": null,
   "id": "c1d4d0c5",
   "metadata": {},
   "outputs": [],
   "source": []
  },
  {
   "cell_type": "code",
   "execution_count": null,
   "id": "aa1e888a",
   "metadata": {},
   "outputs": [],
   "source": [
    "customer_file = open('customers.txt', 'r')"
   ]
  },
  {
   "cell_type": "code",
   "execution_count": null,
   "id": "092364c3",
   "metadata": {},
   "outputs": [],
   "source": [
    "customer_file('Charles Pace' 'w')"
   ]
  },
  {
   "cell_type": "code",
   "execution_count": null,
   "id": "87c24cdd",
   "metadata": {},
   "outputs": [],
   "source": [
    "def main():\n",
    "    outfile = open('Philosphers.txt,' 'w')\n",
    "    outfile.write('John Locke\\n')\n",
    "    outfile.write('David Hume\\n')\n",
    "    outfile.write('Edmund Burke\\n')"
   ]
  },
  {
   "cell_type": "code",
   "execution_count": null,
   "id": "f3a917a0",
   "metadata": {},
   "outputs": [],
   "source": [
    "def main():\n",
    "    outfile = open('Philosphers.txt,' 'w')"
   ]
  },
  {
   "cell_type": "code",
   "execution_count": null,
   "id": "434d9441",
   "metadata": {},
   "outputs": [],
   "source": [
    "print('Hello World')"
   ]
  },
  {
   "cell_type": "code",
   "execution_count": null,
   "id": "bb1ecaf1",
   "metadata": {},
   "outputs": [],
   "source": [
    "def main():\n",
    "    intro()\n",
    "    cups_needed = int(input('Enter the number of cups: '))\n",
    "    cups_to_ounces(cups_needed)\n",
    "    \n",
    "def intro():\n",
    "    print('This program converts measurements')\n",
    "    print('in cups to fluid ocunces. For your')\n",
    "    print('reference the formula is:')\n",
    "    print('1 cup = 8 fluid ounces')\n",
    "    print()"
   ]
  },
  {
   "cell_type": "code",
   "execution_count": null,
   "id": "4a810f20",
   "metadata": {},
   "outputs": [],
   "source": [
    "def main():\n",
    "    intro()\n",
    "    cups_needed = int(input('Enter the number of cups: '))"
   ]
  },
  {
   "cell_type": "code",
   "execution_count": null,
   "id": "822a9215",
   "metadata": {},
   "outputs": [],
   "source": []
  },
  {
   "cell_type": "code",
   "execution_count": null,
   "id": "9141d2ea",
   "metadata": {},
   "outputs": [],
   "source": [
    "kmvalue = float(input('Enter the distance in kilometers: '))\n",
    "\n",
    "mvalue = kmvalue*0.621371\n",
    "\n",
    "print(\"%.2f kilometer = %.2f miles\" %(kmvalue))"
   ]
  },
  {
   "cell_type": "code",
   "execution_count": null,
   "id": "c0060ca4",
   "metadata": {},
   "outputs": [],
   "source": [
    "kilometers = float(input('Enter the distance in kilometers: '))\n",
    "miles = kilometers * 0.6214\n",
    "print('Miles = 62.14')\n",
    "print(kilometers * 0.6214)"
   ]
  },
  {
   "cell_type": "code",
   "execution_count": 8,
   "id": "bd1b9af8",
   "metadata": {},
   "outputs": [
    {
     "ename": "NameError",
     "evalue": "name 'sales' is not defined",
     "output_type": "error",
     "traceback": [
      "\u001b[1;31m---------------------------------------------------------------------------\u001b[0m",
      "\u001b[1;31mNameError\u001b[0m                                 Traceback (most recent call last)",
      "Cell \u001b[1;32mIn[8], line 1\u001b[0m\n\u001b[1;32m----> 1\u001b[0m \u001b[38;5;28;01mif\u001b[39;00m \u001b[43msales\u001b[49m\u001b[38;5;241m>\u001b[39m\u001b[38;5;241m=\u001b[39m\u001b[38;5;241m50000.0\u001b[39m:\n\u001b[0;32m      2\u001b[0m     sales_quota_met \u001b[38;5;241m=\u001b[39m true\n\u001b[0;32m      3\u001b[0m \u001b[38;5;28;01melse\u001b[39;00m:\n",
      "\u001b[1;31mNameError\u001b[0m: name 'sales' is not defined"
     ]
    }
   ],
   "source": [
    "if sales>=50000.0:\n",
    "    sales_quota_met = true\n",
    "else:\n",
    "    sales_quota_met = false\n",
    "    print('')\n"
   ]
  },
  {
   "cell_type": "code",
   "execution_count": null,
   "id": "261acff6",
   "metadata": {},
   "outputs": [],
   "source": [
    "num = 8\n",
    "is_prime = int(input('Enter a number: '))\n",
    "if is_prime"
   ]
  },
  {
   "cell_type": "code",
   "execution_count": null,
   "id": "2fcc5dd0",
   "metadata": {},
   "outputs": [],
   "source": [
    "x=1\n",
    "y=0\n",
    "x>y"
   ]
  },
  {
   "cell_type": "code",
   "execution_count": null,
   "id": "58c6e4f5",
   "metadata": {},
   "outputs": [],
   "source": [
    "is_prime = int(input('Enter a number: '))\n",
    "if is_prime>1:\n",
    "        print('True')"
   ]
  },
  {
   "cell_type": "code",
   "execution_count": null,
   "id": "8d839be5",
   "metadata": {},
   "outputs": [],
   "source": [
    "Class_A = 20.0\n",
    "int(input('Enter number of seats sold for Class A '))\n",
    "Class_A*20\n",
    "\n",
    "Class_B =15.0\n",
    "int(input('Enter number of seats sold for Class B '))\n",
    "Class_B*25\n",
    "\n",
    "Class_C = 10\n",
    "int(input('Enter number of seats sold for Class C '))\n",
    "Class_C*30\n",
    "\n"
   ]
  },
  {
   "cell_type": "code",
   "execution_count": 9,
   "id": "c193f4cc",
   "metadata": {},
   "outputs": [
    {
     "ename": "NameError",
     "evalue": "name 'Number' is not defined",
     "output_type": "error",
     "traceback": [
      "\u001b[1;31m---------------------------------------------------------------------------\u001b[0m",
      "\u001b[1;31mNameError\u001b[0m                                 Traceback (most recent call last)",
      "Cell \u001b[1;32mIn[9], line 6\u001b[0m\n\u001b[0;32m      4\u001b[0m count \u001b[38;5;241m=\u001b[39m \u001b[38;5;241m0\u001b[39m\n\u001b[0;32m      5\u001b[0m i \u001b[38;5;241m=\u001b[39m \u001b[38;5;241m2\u001b[39m\n\u001b[1;32m----> 6\u001b[0m \u001b[38;5;28;01mwhile\u001b[39;00m(i \u001b[38;5;241m<\u001b[39m\u001b[38;5;241m=\u001b[39m \u001b[43mNumber\u001b[49m\u001b[38;5;241m/\u001b[39m\u001b[38;5;241m/\u001b[39m\u001b[38;5;241m2\u001b[39m):\n\u001b[0;32m      7\u001b[0m     \u001b[38;5;28;01mif\u001b[39;00m(Number \u001b[38;5;241m%\u001b[39m i \u001b[38;5;241m==\u001b[39m \u001b[38;5;241m0\u001b[39m):\n\u001b[0;32m      8\u001b[0m         count \u001b[38;5;241m=\u001b[39m count \u001b[38;5;241m+\u001b[39m \u001b[38;5;241m1\u001b[39m\n",
      "\u001b[1;31mNameError\u001b[0m: name 'Number' is not defined"
     ]
    }
   ],
   "source": [
    "number = 1\n",
    "\n",
    "while(number<=100):\n",
    "    count = 0\n",
    "    i = 2\n",
    "    while(i <= Number//2):\n",
    "        if(Number % i == 0):\n",
    "            count = count + 1\n",
    "            break\n",
    "        i = i + 1\n",
    "        \n",
    "        if (count == 0 and Number != 1):\n",
    "            print(\" %d\" %Number, end = '  ')\n",
    "        Number = Number  + 1\n"
   ]
  },
  {
   "cell_type": "code",
   "execution_count": null,
   "id": "c26a0148",
   "metadata": {},
   "outputs": [],
   "source": []
  }
 ],
 "metadata": {
  "kernelspec": {
   "display_name": "Python 3 (ipykernel)",
   "language": "python",
   "name": "python3"
  },
  "language_info": {
   "codemirror_mode": {
    "name": "ipython",
    "version": 3
   },
   "file_extension": ".py",
   "mimetype": "text/x-python",
   "name": "python",
   "nbconvert_exporter": "python",
   "pygments_lexer": "ipython3",
   "version": "3.10.9"
  }
 },
 "nbformat": 4,
 "nbformat_minor": 5
}
