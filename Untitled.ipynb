{
 "cells": [
  {
   "cell_type": "code",
   "execution_count": 1,
   "id": "235d7aaf",
   "metadata": {},
   "outputs": [],
   "source": [
    "space=('what is the desired space amount')"
   ]
  },
  {
   "cell_type": "code",
   "execution_count": 2,
   "id": "ea7f4e22",
   "metadata": {},
   "outputs": [],
   "source": [
    "import random\n",
    "   \n",
    "numbers = [0] * 7\n",
    "numbers\n",
    "\n",
    "for index in range(7):\n",
    "    numbers[index]=random.randint(0,9)\n",
    "\n"
   ]
  },
  {
   "cell_type": "code",
   "execution_count": 3,
   "id": "0c1df7cf",
   "metadata": {},
   "outputs": [
    {
     "name": "stdout",
     "output_type": "stream",
     "text": [
      "[8, 5, 7, 1, 0, 0, 2]\n"
     ]
    }
   ],
   "source": [
    "import random\n",
    "numbers=[0]*7\n",
    "for index in range(7):\n",
    "    numbers[index]=random.randint(0,9)\n",
    "    \n",
    "print(numbers)"
   ]
  },
  {
   "cell_type": "code",
   "execution_count": 4,
   "id": "7912521b",
   "metadata": {},
   "outputs": [
    {
     "ename": "SyntaxError",
     "evalue": "invalid syntax (2989963350.py, line 2)",
     "output_type": "error",
     "traceback": [
      "\u001b[1;36m  Cell \u001b[1;32mIn[4], line 2\u001b[1;36m\u001b[0m\n\u001b[1;33m    numbers[]:\u001b[0m\n\u001b[1;37m            ^\u001b[0m\n\u001b[1;31mSyntaxError\u001b[0m\u001b[1;31m:\u001b[0m invalid syntax\n"
     ]
    }
   ],
   "source": [
    "import random\n",
    "numbers[]:\n",
    "numbers\n",
    "for count in range (7)\n",
    "    numbers.append(random.randint(0,9))\n",
    "    print(numbers)"
   ]
  },
  {
   "cell_type": "code",
   "execution_count": null,
   "id": "82aaa85f",
   "metadata": {},
   "outputs": [],
   "source": [
    "import random\n",
    "\n",
    "numbers\n",
    "for index in range(20):\n",
    "    numbers.append(random.randint(1,20))\n",
    "print(numbers)\n",
    "    "
   ]
  },
  {
   "cell_type": "code",
   "execution_count": null,
   "id": "46986751",
   "metadata": {},
   "outputs": [],
   "source": [
    "import matplotlib.pyplot as plt\n",
    "\n",
    "gas_prices=float(input(range 0.992, 1.134)('Gas prices for the year'))\n",
    "\n",
    "plt.xlim(xmin= 0.992, xmax= 1.134)\n",
    "    \n",
    "plt.plot(range(1,53), gas_prices, marker='o')\n",
    "plt.xlabel('Week')\n",
    "plt.ylabel('Gas Price')\n",
    "plt.title('Average Gas Price per Week - 1994')\n",
    "\n",
    "plt.show()\n",
    "\n"
   ]
  },
  {
   "cell_type": "code",
   "execution_count": 5,
   "id": "0ee5f565",
   "metadata": {},
   "outputs": [
    {
     "name": "stdout",
     "output_type": "stream",
     "text": [
      "Enter gas price for week 1: 1.13 1.157 1.161 1.165\n"
     ]
    },
    {
     "ename": "ValueError",
     "evalue": "could not convert string to float: '1.13 1.157 1.161 1.165'",
     "output_type": "error",
     "traceback": [
      "\u001b[1;31m---------------------------------------------------------------------------\u001b[0m",
      "\u001b[1;31mValueError\u001b[0m                                Traceback (most recent call last)",
      "Cell \u001b[1;32mIn[5], line 6\u001b[0m\n\u001b[0;32m      4\u001b[0m gas_prices \u001b[38;5;241m=\u001b[39m []\n\u001b[0;32m      5\u001b[0m \u001b[38;5;28;01mfor\u001b[39;00m week \u001b[38;5;129;01min\u001b[39;00m \u001b[38;5;28mrange\u001b[39m(\u001b[38;5;241m1\u001b[39m, \u001b[38;5;241m53\u001b[39m):\n\u001b[1;32m----> 6\u001b[0m     price \u001b[38;5;241m=\u001b[39m \u001b[38;5;28;43mfloat\u001b[39;49m\u001b[43m(\u001b[49m\u001b[38;5;28;43minput\u001b[39;49m\u001b[43m(\u001b[49m\u001b[38;5;124;43mf\u001b[39;49m\u001b[38;5;124;43m\"\u001b[39;49m\u001b[38;5;124;43mEnter gas price for week \u001b[39;49m\u001b[38;5;132;43;01m{\u001b[39;49;00m\u001b[43mweek\u001b[49m\u001b[38;5;132;43;01m}\u001b[39;49;00m\u001b[38;5;124;43m: \u001b[39;49m\u001b[38;5;124;43m\"\u001b[39;49m\u001b[43m)\u001b[49m\u001b[43m)\u001b[49m\n\u001b[0;32m      7\u001b[0m     gas_prices\u001b[38;5;241m.\u001b[39mappend(price)\n\u001b[0;32m      9\u001b[0m \u001b[38;5;66;03m# Create the plot\u001b[39;00m\n",
      "\u001b[1;31mValueError\u001b[0m: could not convert string to float: '1.13 1.157 1.161 1.165'"
     ]
    }
   ],
   "source": [
    "import matplotlib.pyplot as plt\n",
    "\n",
    "# Take user input for gas prices\n",
    "gas_prices = []\n",
    "for week in range(1, 53):\n",
    "    price = float(input(f\"Enter gas price for week {week}: \"))\n",
    "    gas_prices.append(price)\n",
    "\n",
    "# Create the plot\n",
    "plt.plot(range(1, 53), gas_prices, marker='o')\n",
    "plt.xlabel('Week')\n",
    "plt.ylabel('Gas Price')\n",
    "plt.title('Average Gas Price per Week - 1994')\n",
    "\n",
    "# Set the range of the x-axis\n",
    "plt.xlim(0.992, 1.134)\n",
    "\n",
    "# Display the plot\n",
    "plt.show()\n"
   ]
  },
  {
   "cell_type": "code",
   "execution_count": 6,
   "id": "cbce8dfe",
   "metadata": {},
   "outputs": [
    {
     "name": "stdout",
     "output_type": "stream",
     "text": [
      "Enter number 1: 23\n",
      "Enter number 2: 43\n",
      "Enter number 3: 515\n",
      "Enter number 4: 5\n",
      "Enter number 5: 15\n",
      "Enter number 6: 2082\n",
      "Enter number 7: 282\n",
      "Enter number 8: 520\n",
      "Enter number 9: 12\n",
      "Enter number 10: 098\n",
      "Enter number 11: 432\n",
      "Enter number 12: 67\n",
      "Enter number 13: 98\n",
      "Enter number 14: 24\n",
      "Enter number 15: 122\n",
      "Enter number 16: 777\n",
      "Enter number 17: 444\n",
      "Enter number 18: 234\n",
      "Enter number 19: 90\n",
      "Enter number 20: 100\n",
      "Entered numbers: [23.0, 43.0, 515.0, 5.0, 15.0, 2082.0, 282.0, 520.0, 12.0, 98.0, 432.0, 67.0, 98.0, 24.0, 122.0, 777.0, 444.0, 234.0, 90.0, 100.0]\n",
      "Sum of numbers: 5983.0\n",
      "Average: 299.15\n",
      "Smallest number: 5.0\n",
      "Largest number: 2082.0\n",
      "Sorted numbers: [5.0, 12.0, 15.0, 23.0, 24.0, 43.0, 67.0, 90.0, 98.0, 98.0, 100.0, 122.0, 234.0, 282.0, 432.0, 444.0, 515.0, 520.0, 777.0, 2082.0]\n"
     ]
    }
   ],
   "source": [
    "# Ask the user to enter a series of 20 numbers\n",
    "numbers = []\n",
    "for i in range(20):\n",
    "    number = float(input(f\"Enter number {i+1}: \"))\n",
    "    numbers.append(number)\n",
    "\n",
    "# Display the entered numbers\n",
    "print(\"Entered numbers:\", numbers)\n",
    "\n",
    "# Calculate and display the sum of the numbers\n",
    "sum_of_numbers = sum(numbers)\n",
    "print(\"Sum of numbers:\", sum_of_numbers)\n",
    "\n",
    "# Calculate and display the average of the numbers\n",
    "average = sum_of_numbers / len(numbers)\n",
    "print(\"Average:\", average)\n",
    "\n",
    "# Find and display the smallest number\n",
    "smallest = min(numbers)\n",
    "print(\"Smallest number:\", smallest)\n",
    "\n",
    "# Find and display the largest number\n",
    "largest = max(numbers)\n",
    "print(\"Largest number:\", largest)\n",
    "\n",
    "# Sort the numbers in ascending order and display the sorted list\n",
    "sorted_numbers = sorted(numbers)\n",
    "print(\"Sorted numbers:\", sorted_numbers)\n"
   ]
  },
  {
   "cell_type": "code",
   "execution_count": 8,
   "id": "e0ebef8c",
   "metadata": {},
   "outputs": [
    {
     "name": "stdout",
     "output_type": "stream",
     "text": [
      "[1, 2, 1, 2, 1, 2]\n"
     ]
    }
   ],
   "source": [
    "list = [1, 2]\n",
    "list = list * 3\n",
    "print(list)"
   ]
  },
  {
   "cell_type": "code",
   "execution_count": 10,
   "id": "cff97972",
   "metadata": {},
   "outputs": [
    {
     "name": "stdout",
     "output_type": "stream",
     "text": [
      "[1, 2, 3, 10]\n"
     ]
    }
   ],
   "source": [
    "list = [1, 2, 3, 4]\n",
    "list[3] = 10\n",
    "print(list)"
   ]
  },
  {
   "cell_type": "code",
   "execution_count": 12,
   "id": "e4e1589b",
   "metadata": {},
   "outputs": [
    {
     "name": "stdout",
     "output_type": "stream",
     "text": [
      "range(0, 9, 2)\n"
     ]
    }
   ],
   "source": [
    "number = range(0, 9, 2)\n",
    "print(number)"
   ]
  },
  {
   "cell_type": "code",
   "execution_count": 14,
   "id": "dc3fe778",
   "metadata": {},
   "outputs": [
    {
     "name": "stdout",
     "output_type": "stream",
     "text": [
      "[1, 2, 3]\n"
     ]
    }
   ],
   "source": [
    "list1 = [1, 2, 3]\n",
    "list2 = list1\n",
    "list1 = [4, 5, 6]\n",
    "print(list2)"
   ]
  },
  {
   "cell_type": "code",
   "execution_count": 16,
   "id": "d849955d",
   "metadata": {},
   "outputs": [
    {
     "name": "stdout",
     "output_type": "stream",
     "text": [
      "[1, 2, 3]\n"
     ]
    }
   ],
   "source": [
    "list1 = [1, 2, 3]\n",
    "list2 = []\n",
    "for element in list1:\n",
    "    list2.append(element)\n",
    "    list1 = [4, 5, 6]\n",
    "print(list2)"
   ]
  },
  {
   "cell_type": "code",
   "execution_count": null,
   "id": "541be736",
   "metadata": {},
   "outputs": [],
   "source": []
  }
 ],
 "metadata": {
  "kernelspec": {
   "display_name": "Python 3 (ipykernel)",
   "language": "python",
   "name": "python3"
  },
  "language_info": {
   "codemirror_mode": {
    "name": "ipython",
    "version": 3
   },
   "file_extension": ".py",
   "mimetype": "text/x-python",
   "name": "python",
   "nbconvert_exporter": "python",
   "pygments_lexer": "ipython3",
   "version": "3.10.9"
  }
 },
 "nbformat": 4,
 "nbformat_minor": 5
}
