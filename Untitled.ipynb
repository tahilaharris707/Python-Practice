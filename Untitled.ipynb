{
 "cells": [
  {
   "cell_type": "code",
   "execution_count": 3,
   "id": "235d7aaf",
   "metadata": {},
   "outputs": [],
   "source": [
    "space=('what is the desired space amount')"
   ]
  },
  {
   "cell_type": "code",
   "execution_count": 9,
   "id": "ea7f4e22",
   "metadata": {},
   "outputs": [],
   "source": [
    "import random\n",
    "   \n",
    "numbers = [0] * 7\n",
    "numbers\n",
    "\n",
    "for index in range(7):\n",
    "    numbers[index]=random.randint(0,9)\n",
    "\n"
   ]
  },
  {
   "cell_type": "code",
   "execution_count": 12,
   "id": "d81f7bee",
   "metadata": {},
   "outputs": [
    {
     "name": "stdout",
     "output_type": "stream",
     "text": [
      "[1, 7, 7, 1, 1, 8, 8]\n"
     ]
    }
   ],
   "source": [
    "import random\n",
    "numbers=[0]*7\n",
    "for index in range(7):\n",
    "    numbers[index]=random.randint(0,9)\n",
    "    \n",
    "print(numbers)"
   ]
  },
  {
   "cell_type": "code",
   "execution_count": 17,
   "id": "3b41e98b",
   "metadata": {},
   "outputs": [
    {
     "ename": "SyntaxError",
     "evalue": "invalid syntax (2989963350.py, line 2)",
     "output_type": "error",
     "traceback": [
      "\u001b[1;36m  Cell \u001b[1;32mIn[17], line 2\u001b[1;36m\u001b[0m\n\u001b[1;33m    numbers[]:\u001b[0m\n\u001b[1;37m            ^\u001b[0m\n\u001b[1;31mSyntaxError\u001b[0m\u001b[1;31m:\u001b[0m invalid syntax\n"
     ]
    }
   ],
   "source": [
    "import random\n",
    "numbers[]:\n",
    "numbers\n",
    "for count in range (7)\n",
    "    numbers.append(random.randint(0,9))\n",
    "    print(numbers)"
   ]
  },
  {
   "cell_type": "code",
   "execution_count": null,
   "id": "9ea4e63f",
   "metadata": {},
   "outputs": [],
   "source": []
  }
 ],
 "metadata": {
  "kernelspec": {
   "display_name": "Python 3 (ipykernel)",
   "language": "python",
   "name": "python3"
  },
  "language_info": {
   "codemirror_mode": {
    "name": "ipython",
    "version": 3
   },
   "file_extension": ".py",
   "mimetype": "text/x-python",
   "name": "python",
   "nbconvert_exporter": "python",
   "pygments_lexer": "ipython3",
   "version": "3.10.9"
  }
 },
 "nbformat": 4,
 "nbformat_minor": 5
}
