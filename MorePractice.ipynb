{
 "cells": [
  {
   "cell_type": "code",
   "execution_count": 7,
   "id": "53913461",
   "metadata": {},
   "outputs": [
    {
     "data": {
      "text/plain": [
       "{'Chris': '555-1111', 'Andy': '555-2222', 'Shawn': '555-3333'}"
      ]
     },
     "execution_count": 7,
     "metadata": {},
     "output_type": "execute_result"
    }
   ],
   "source": [
    "phonebook={'Chris': '555-1111', 'Andy': '555-2222', 'Shawn': '555-3333'}\n",
    "\n",
    "phonebook"
   ]
  },
  {
   "cell_type": "code",
   "execution_count": null,
   "id": "75d7dabd",
   "metadata": {},
   "outputs": [],
   "source": []
  }
 ],
 "metadata": {
  "kernelspec": {
   "display_name": "Python 3 (ipykernel)",
   "language": "python",
   "name": "python3"
  },
  "language_info": {
   "codemirror_mode": {
    "name": "ipython",
    "version": 3
   },
   "file_extension": ".py",
   "mimetype": "text/x-python",
   "name": "python",
   "nbconvert_exporter": "python",
   "pygments_lexer": "ipython3",
   "version": "3.10.9"
  }
 },
 "nbformat": 4,
 "nbformat_minor": 5
}
