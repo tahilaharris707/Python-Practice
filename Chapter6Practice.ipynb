{
 "cells": [
  {
   "cell_type": "code",
   "execution_count": null,
   "id": "1b38899d",
   "metadata": {},
   "outputs": [],
   "source": [
    "def main():\n",
    "   \n",
    "    outfile = open('philosophers.txt', 'w')\n",
    "   \n",
    "    outfile.write('John Locke\\n')\n",
    "    outfile.write('Davivd Hume\\n')\n",
    "    outfile.write('Edmund Burke\\n')\n",
    "    \n",
    "    outfile.close()\n",
    "\n",
    "    if__name__== '__main__ '\n",
    "    \n",
    "main()"
   ]
  },
  {
   "cell_type": "code",
   "execution_count": null,
   "id": "c77f653a",
   "metadata": {},
   "outputs": [],
   "source": [
    "def main(): \n",
    "  # Open a file named philosophers.txt. \n",
    "    outfile = open('philosophers.txt', 'w') \n",
    "    \n",
    "8    # to the file. \n",
    "9    outfile.write('John Locke\\n') \n",
    "10    outfile.write('David Hume\\n') \n",
    "11    outfile.write('Edmund Burke\\n') \n",
    "12   \n",
    "13    # Close the file. \n",
    "14    outfile.close() \n",
    "15    \n",
    "16# Call the main function. \n",
    "17if __name__ == '__main__': \n",
    "18     main() Line 5 opens the"
   ]
  },
  {
   "cell_type": "code",
   "execution_count": null,
   "id": "607d3f94",
   "metadata": {},
   "outputs": [],
   "source": [
    "def main(): \n",
    "   \n",
    "    outfile = open('philosophers.txt', 'w') \n",
    "    \n",
    "    # Write the names of three philosphers \n",
    "    # to the file. \n",
    "    outfile.write('John Locke\\n') \n",
    "    outfile.write('David Hume\\n') \n",
    "    outfile.write('Edmund Burke\\n') \n",
    "   \n",
    "    # Close the file. \n",
    "    outfile.close() \n",
    "    \n",
    "# Call the main function. \n",
    "if __name__ == '__main__': \n",
    "     main() "
   ]
  },
  {
   "cell_type": "code",
   "execution_count": null,
   "id": "7af1479e",
   "metadata": {},
   "outputs": [],
   "source": [
    "def main(): \n",
    "   \n",
    "    outfile = open('philosophers.txt', 'w') \n",
    "    \n",
    "   tfile.write('John Locke\\n') "
   ]
  },
  {
   "cell_type": "code",
   "execution_count": 2,
   "id": "18ea7579",
   "metadata": {},
   "outputs": [],
   "source": [
    "def main():\n",
    "    \n",
    "    print('Enter the names of three friends. ')\n",
    "    name1 = input('Friend #1: ')\n",
    "    name2 = input('Friend #2: ')\n",
    "    name3 = input('Friend #3: ')\n",
    "    \n",
    "    \n",
    "    "
   ]
  },
  {
   "cell_type": "code",
   "execution_count": null,
   "id": "fd2bca2b",
   "metadata": {},
   "outputs": [],
   "source": [
    "def main():\n",
    "    print('Enter the name: ')\n",
    "    name1=input('friend #1:')\n",
    "    \n",
    "    main()\n",
    "    \n",
    "    "
   ]
  },
  {
   "cell_type": "code",
   "execution_count": 3,
   "id": "b3cc8dc2",
   "metadata": {},
   "outputs": [
    {
     "ename": "SyntaxError",
     "evalue": "invalid non-printable character U+00A0 (1340030525.py, line 1)",
     "output_type": "error",
     "traceback": [
      "\u001b[1;36m  Cell \u001b[1;32mIn[3], line 1\u001b[1;36m\u001b[0m\n\u001b[1;33m    customer_file = open('customers.txt', 'r')\u001b[0m\n\u001b[1;37m                 ^\u001b[0m\n\u001b[1;31mSyntaxError\u001b[0m\u001b[1;31m:\u001b[0m invalid non-printable character U+00A0\n"
     ]
    }
   ],
   "source": [
    "customer_file = open('customers.txt', 'r')"
   ]
  },
  {
   "cell_type": "code",
   "execution_count": 4,
   "id": "88abb0f0",
   "metadata": {},
   "outputs": [
    {
     "ename": "SyntaxError",
     "evalue": "invalid non-printable character U+00A0 (824004847.py, line 1)",
     "output_type": "error",
     "traceback": [
      "\u001b[1;36m  Cell \u001b[1;32mIn[4], line 1\u001b[1;36m\u001b[0m\n\u001b[1;33m    sales_file = open('sales.txt', 'w')\u001b[0m\n\u001b[1;37m              ^\u001b[0m\n\u001b[1;31mSyntaxError\u001b[0m\u001b[1;31m:\u001b[0m invalid non-printable character U+00A0\n"
     ]
    }
   ],
   "source": [
    "sales_file = open('sales.txt', 'w') "
   ]
  },
  {
   "cell_type": "code",
   "execution_count": 5,
   "id": "ca6eae05",
   "metadata": {},
   "outputs": [
    {
     "ename": "SyntaxError",
     "evalue": "invalid non-printable character U+00A0 (1340030525.py, line 1)",
     "output_type": "error",
     "traceback": [
      "\u001b[1;36m  Cell \u001b[1;32mIn[5], line 1\u001b[1;36m\u001b[0m\n\u001b[1;33m    customer_file = open('customers.txt', 'r')\u001b[0m\n\u001b[1;37m                 ^\u001b[0m\n\u001b[1;31mSyntaxError\u001b[0m\u001b[1;31m:\u001b[0m invalid non-printable character U+00A0\n"
     ]
    }
   ],
   "source": [
    "customer_file = open('customers.txt', 'r')"
   ]
  },
  {
   "cell_type": "code",
   "execution_count": 6,
   "id": "336a362a",
   "metadata": {},
   "outputs": [
    {
     "ename": "IndentationError",
     "evalue": "expected an indented block after 'with' statement on line 1 (3868473008.py, line 3)",
     "output_type": "error",
     "traceback": [
      "\u001b[1;36m  Cell \u001b[1;32mIn[6], line 3\u001b[1;36m\u001b[0m\n\u001b[1;33m    lines = 0\u001b[0m\n\u001b[1;37m    ^\u001b[0m\n\u001b[1;31mIndentationError\u001b[0m\u001b[1;31m:\u001b[0m expected an indented block after 'with' statement on line 1\n"
     ]
    }
   ],
   "source": [
    "with open('numbers.txt', 'r') as number_file:\n",
    "\n",
    "lines = 0\n",
    "\n",
    "for line in number_file:\n",
    "            lines += 1\n",
    "            number = int(line)\n",
    "            print(f'{lines}: {number}')"
   ]
  },
  {
   "cell_type": "code",
   "execution_count": 9,
   "id": "42dbb7e1",
   "metadata": {},
   "outputs": [
    {
     "ename": "AttributeError",
     "evalue": "module 'random' has no attribute 'randit'",
     "output_type": "error",
     "traceback": [
      "\u001b[1;31m---------------------------------------------------------------------------\u001b[0m",
      "\u001b[1;31mAttributeError\u001b[0m                            Traceback (most recent call last)",
      "Cell \u001b[1;32mIn[9], line 5\u001b[0m\n\u001b[0;32m      3\u001b[0m myfile \u001b[38;5;241m=\u001b[39m \u001b[38;5;28mopen\u001b[39m(\u001b[38;5;124m'\u001b[39m\u001b[38;5;124mNumbers.txt\u001b[39m\u001b[38;5;124m'\u001b[39m, \u001b[38;5;124m'\u001b[39m\u001b[38;5;124mw\u001b[39m\u001b[38;5;124m'\u001b[39m)\n\u001b[0;32m      4\u001b[0m \u001b[38;5;28;01mfor\u001b[39;00m count \u001b[38;5;129;01min\u001b[39;00m \u001b[38;5;28mrange\u001b[39m(\u001b[38;5;241m100\u001b[39m):\n\u001b[1;32m----> 5\u001b[0m     number \u001b[38;5;241m=\u001b[39m \u001b[43mrandom\u001b[49m\u001b[38;5;241;43m.\u001b[39;49m\u001b[43mrandit\u001b[49m(\u001b[38;5;241m1\u001b[39m,\u001b[38;5;241m100\u001b[39m)\n\u001b[0;32m      6\u001b[0m     myfile\u001b[38;5;241m.\u001b[39mwrite(\u001b[38;5;28mstr\u001b[39m(number) \u001b[38;5;241m+\u001b[39m \u001b[38;5;124m'\u001b[39m\u001b[38;5;130;01m\\n\u001b[39;00m\u001b[38;5;124m'\u001b[39m)\n\u001b[0;32m      8\u001b[0m myfile\u001b[38;5;241m.\u001b[39mclose()\n",
      "\u001b[1;31mAttributeError\u001b[0m: module 'random' has no attribute 'randit'"
     ]
    }
   ],
   "source": [
    "import random\n",
    "\n",
    "myfile = open('Numbers.txt', 'w')\n",
    "for count in range(100):\n",
    "    number = random.randit(1,100)\n",
    "    myfile.write(str(number) + '\\n')\n",
    "    \n",
    "myfile.close()\n",
    "print('done')"
   ]
  },
  {
   "cell_type": "code",
   "execution_count": null,
   "id": "39ba0e35",
   "metadata": {},
   "outputs": [],
   "source": []
  },
  {
   "cell_type": "code",
   "execution_count": null,
   "id": "e01dc051",
   "metadata": {},
   "outputs": [],
   "source": []
  }
 ],
 "metadata": {
  "kernelspec": {
   "display_name": "Python 3 (ipykernel)",
   "language": "python",
   "name": "python3"
  },
  "language_info": {
   "codemirror_mode": {
    "name": "ipython",
    "version": 3
   },
   "file_extension": ".py",
   "mimetype": "text/x-python",
   "name": "python",
   "nbconvert_exporter": "python",
   "pygments_lexer": "ipython3",
   "version": "3.10.9"
  }
 },
 "nbformat": 4,
 "nbformat_minor": 5
}
