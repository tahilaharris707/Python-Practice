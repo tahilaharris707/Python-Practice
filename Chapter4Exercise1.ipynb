{
 "cells": [
  {
   "cell_type": "markdown",
   "id": "d03f8e08",
   "metadata": {},
   "source": [
    "# Chapter 4 Exercises\n",
    "## Algorithm Worbench Problem #1"
   ]
  },
  {
   "cell_type": "code",
   "execution_count": null,
   "id": "50a9e97c",
   "metadata": {},
   "outputs": [],
   "source": [
    "# I will write a while loop that allows a user to enter a number\n",
    "# The number will be multiplied by 10 and the result will be assigned\n",
    "# to a variable named product. The loop will iterate as long as product is less 100.\n",
    "\n",
    "# I will assign a variable named product\n",
    "\n",
    "product = 0"
   ]
  }
 ],
 "metadata": {
  "kernelspec": {
   "display_name": "Python 3 (ipykernel)",
   "language": "python",
   "name": "python3"
  },
  "language_info": {
   "codemirror_mode": {
    "name": "ipython",
    "version": 3
   },
   "file_extension": ".py",
   "mimetype": "text/x-python",
   "name": "python",
   "nbconvert_exporter": "python",
   "pygments_lexer": "ipython3",
   "version": "3.10.9"
  }
 },
 "nbformat": 4,
 "nbformat_minor": 5
}
