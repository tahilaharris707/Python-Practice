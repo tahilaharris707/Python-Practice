{
 "cells": [
  {
   "cell_type": "markdown",
   "id": "3857f602",
   "metadata": {},
   "source": [
    "## Chapter 1 Exercises"
   ]
  },
  {
   "cell_type": "markdown",
   "id": "589523d4",
   "metadata": {},
   "source": [
    "# Exercise 1"
   ]
  },
  {
   "cell_type": "code",
   "execution_count": 2,
   "id": "e0f4ac98",
   "metadata": {},
   "outputs": [
    {
     "name": "stdout",
     "output_type": "stream",
     "text": [
      "this is a test of the Python Interpreter\n"
     ]
    }
   ],
   "source": [
    "print('this is a test of the Python Interpreter')"
   ]
  },
  {
   "cell_type": "code",
   "execution_count": 3,
   "id": "3bf7fa8c",
   "metadata": {},
   "outputs": [
    {
     "name": "stdout",
     "output_type": "stream",
     "text": [
      "God is good all the time\n"
     ]
    }
   ],
   "source": [
    "print('God is good all the time')"
   ]
  },
  {
   "cell_type": "code",
   "execution_count": 4,
   "id": "2d99332b",
   "metadata": {},
   "outputs": [
    {
     "name": "stdout",
     "output_type": "stream",
     "text": [
      "Always be thankful\n"
     ]
    }
   ],
   "source": [
    "print('Always be thankful')"
   ]
  },
  {
   "cell_type": "code",
   "execution_count": 6,
   "id": "da291616",
   "metadata": {},
   "outputs": [
    {
     "name": "stdout",
     "output_type": "stream",
     "text": [
      "dont forget to love yourself\n"
     ]
    }
   ],
   "source": [
    "print('dont forget to love yourself')"
   ]
  },
  {
   "cell_type": "markdown",
   "id": "fd123f4c",
   "metadata": {},
   "source": [
    "# Exercise 3"
   ]
  },
  {
   "cell_type": "markdown",
   "id": "12de3177",
   "metadata": {},
   "source": [
    "# Converting decimal numbers to binary numbers"
   ]
  },
  {
   "cell_type": "code",
   "execution_count": 9,
   "id": "8eefcb99",
   "metadata": {},
   "outputs": [],
   "source": [
    "11= 8+2+1= 1011"
   ]
  },
  {
   "cell_type": "code",
   "execution_count": 11,
   "id": "7f6e11f1",
   "metadata": {},
   "outputs": [],
   "source": [
    "65= 64+1= 1000001"
   ]
  },
  {
   "cell_type": "code",
   "execution_count": 12,
   "id": "955f8e70",
   "metadata": {},
   "outputs": [],
   "source": [
    "100= 64+32+4= 11001"
   ]
  },
  {
   "cell_type": "code",
   "execution_count": 13,
   "id": "613344f1",
   "metadata": {},
   "outputs": [],
   "source": [
    "255= 128+64+32+16+8+4+2+1= 11111111"
   ]
  },
  {
   "cell_type": "markdown",
   "id": "48fe81d2",
   "metadata": {},
   "source": [
    "## Exercise 5"
   ]
  },
  {
   "cell_type": "markdown",
   "id": "7eb9c534",
   "metadata": {},
   "source": [
    "#Using the ASCII Chart to determine the codes for each letter of my first name"
   ]
  },
  {
   "cell_type": "code",
   "execution_count": 15,
   "id": "265eb3dd",
   "metadata": {},
   "outputs": [],
   "source": [
    "T=84 A=65 H=72 I=73 L=76 A=65"
   ]
  },
  {
   "cell_type": "code",
   "execution_count": null,
   "id": "f38dc65c",
   "metadata": {},
   "outputs": [],
   "source": []
  }
 ],
 "metadata": {
  "kernelspec": {
   "display_name": "Python 3 (ipykernel)",
   "language": "python",
   "name": "python3"
  },
  "language_info": {
   "codemirror_mode": {
    "name": "ipython",
    "version": 3
   },
   "file_extension": ".py",
   "mimetype": "text/x-python",
   "name": "python",
   "nbconvert_exporter": "python",
   "pygments_lexer": "ipython3",
   "version": "3.10.9"
  }
 },
 "nbformat": 4,
 "nbformat_minor": 5
}
