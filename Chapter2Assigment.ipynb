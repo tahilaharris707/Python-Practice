{
 "cells": [
  {
   "cell_type": "markdown",
   "id": "5ae063c6",
   "metadata": {},
   "source": [
    "# Chapter 2 Exercises\n",
    "\n",
    "Algorithm Workbench Problem #2"
   ]
  },
  {
   "cell_type": "markdown",
   "id": "20f9916e",
   "metadata": {},
   "source": [
    "I will use a python code to assign a color to a variable\n",
    "\n",
    "color='pink'\n",
    "\n",
    "When the code is excuted, I believe it will display the following on the screen: color=pink"
   ]
  },
  {
   "cell_type": "code",
   "execution_count": 1,
   "id": "1e16051a",
   "metadata": {},
   "outputs": [],
   "source": [
    "color='pink'"
   ]
  },
  {
   "cell_type": "markdown",
   "id": "0916b1f8",
   "metadata": {},
   "source": [
    "I will type a string using the print function that show my favorite color using the assigned variable."
   ]
  },
  {
   "cell_type": "markdown",
   "id": "607a9ccd",
   "metadata": {},
   "source": [
    "When the string is executed, I believe the output will be My favorite color is."
   ]
  },
  {
   "cell_type": "code",
   "execution_count": 2,
   "id": "6c9d7927",
   "metadata": {},
   "outputs": [
    {
     "name": "stdout",
     "output_type": "stream",
     "text": [
      "my favorite color is\n"
     ]
    }
   ],
   "source": [
    "print('my favorite color is')"
   ]
  },
  {
   "cell_type": "markdown",
   "id": "35bbf65e",
   "metadata": {},
   "source": [
    "I will now use the assigned variable to reveal my favorite color.\n",
    "\n",
    "I believe it will excute displaying My favorite color is pink."
   ]
  },
  {
   "cell_type": "code",
   "execution_count": 3,
   "id": "7b4ac78e",
   "metadata": {},
   "outputs": [
    {
     "name": "stdout",
     "output_type": "stream",
     "text": [
      "My favorite color is\n",
      "pink\n"
     ]
    }
   ],
   "source": [
    "print('My favorite color is')\n",
    "print(color)"
   ]
  },
  {
   "cell_type": "code",
   "execution_count": 4,
   "id": "a943a49b",
   "metadata": {},
   "outputs": [
    {
     "ename": "SyntaxError",
     "evalue": "invalid syntax (2917093994.py, line 1)",
     "output_type": "error",
     "traceback": [
      "\u001b[1;36m  Cell \u001b[1;32mIn[4], line 1\u001b[1;36m\u001b[0m\n\u001b[1;33m    Another way to display an assigned variable\u001b[0m\n\u001b[1;37m            ^\u001b[0m\n\u001b[1;31mSyntaxError\u001b[0m\u001b[1;31m:\u001b[0m invalid syntax\n"
     ]
    }
   ],
   "source": [
    "Another way to display an assigned variable\n",
    "\n",
    "When executed, I believe the output will be: My favorite color is pink"
   ]
  },
  {
   "cell_type": "code",
   "execution_count": null,
   "id": "c1180b22",
   "metadata": {},
   "outputs": [],
   "source": [
    "print('My favorite color is', color)"
   ]
  },
  {
   "cell_type": "markdown",
   "id": "861a63b1",
   "metadata": {},
   "source": [
    "# Chapter 2 Continued\n",
    "\n",
    "Programming Exercises Problem #4"
   ]
  },
  {
   "cell_type": "markdown",
   "id": "5878099d",
   "metadata": {},
   "source": [
    "I will write a program using items and variables to calculate\n",
    "the price of each item, display the subtotal, the amount of sales tax and the grand total"
   ]
  },
  {
   "cell_type": "code",
   "execution_count": null,
   "id": "9ac564ed",
   "metadata": {},
   "outputs": [],
   "source": [
    "#I will list five items that was purchased from a clothing store along with the price of each item"
   ]
  },
  {
   "cell_type": "code",
   "execution_count": null,
   "id": "4ce0109c",
   "metadata": {},
   "outputs": [],
   "source": [
    "shirt=10.00\n",
    "pants=19.00\n",
    "pajamas=12.00\n",
    "socks=9.00\n",
    "shoes=100.00"
   ]
  },
  {
   "cell_type": "code",
   "execution_count": null,
   "id": "6d6f51e9",
   "metadata": {},
   "outputs": [],
   "source": [
    "I will now add each item together to get the subtotal"
   ]
  },
  {
   "cell_type": "code",
   "execution_count": null,
   "id": "4c0a0a55",
   "metadata": {},
   "outputs": [],
   "source": [
    "When executed, I believe the subtotal will be 150"
   ]
  }
 ],
 "metadata": {
  "kernelspec": {
   "display_name": "Python 3 (ipykernel)",
   "language": "python",
   "name": "python3"
  },
  "language_info": {
   "codemirror_mode": {
    "name": "ipython",
    "version": 3
   },
   "file_extension": ".py",
   "mimetype": "text/x-python",
   "name": "python",
   "nbconvert_exporter": "python",
   "pygments_lexer": "ipython3",
   "version": "3.10.9"
  }
 },
 "nbformat": 4,
 "nbformat_minor": 5
}
