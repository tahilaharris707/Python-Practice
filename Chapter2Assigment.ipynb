{
 "cells": [
  {
   "cell_type": "markdown",
   "id": "8e642e88",
   "metadata": {},
   "source": [
    "# Chapter 2 Exercises\n",
    "\n",
    "Algorithm Workbench Problem #2"
   ]
  },
  {
   "cell_type": "markdown",
   "id": "4dc55496",
   "metadata": {},
   "source": [
    "I will use a python code to assign a color to a variable\n",
    "\n",
    "color='pink'\n",
    "\n",
    "When the code is excuted, I believe it will display the following on the screen: color=pink"
   ]
  },
  {
   "cell_type": "code",
   "execution_count": 1,
   "id": "d6160ca5",
   "metadata": {},
   "outputs": [],
   "source": [
    "color='pink'"
   ]
  },
  {
   "cell_type": "markdown",
   "id": "0b2514be",
   "metadata": {},
   "source": [
    "I will type a string using the print function that show my favorite color using the assigned variable."
   ]
  },
  {
   "cell_type": "markdown",
   "id": "f9536c1d",
   "metadata": {},
   "source": [
    "When the string is executed, I believe the output will be My favorite color is."
   ]
  },
  {
   "cell_type": "code",
   "execution_count": 2,
   "id": "15d7ab39",
   "metadata": {},
   "outputs": [
    {
     "name": "stdout",
     "output_type": "stream",
     "text": [
      "my favorite color is\n"
     ]
    }
   ],
   "source": [
    "print('my favorite color is')"
   ]
  },
  {
   "cell_type": "markdown",
   "id": "2106ef4d",
   "metadata": {},
   "source": [
    "I will now use the assigned variable to reveal my favorite color.\n",
    "\n",
    "I believe it will excute displaying My favorite color is pink."
   ]
  },
  {
   "cell_type": "code",
   "execution_count": 3,
   "id": "ea1b6d22",
   "metadata": {},
   "outputs": [
    {
     "name": "stdout",
     "output_type": "stream",
     "text": [
      "My favorite color is\n",
      "pink\n"
     ]
    }
   ],
   "source": [
    "print('My favorite color is')\n",
    "print(color)"
   ]
  },
  {
   "cell_type": "code",
   "execution_count": 4,
   "id": "2dddc7c5",
   "metadata": {},
   "outputs": [
    {
     "ename": "SyntaxError",
     "evalue": "invalid syntax (2917093994.py, line 1)",
     "output_type": "error",
     "traceback": [
      "\u001b[1;36m  Cell \u001b[1;32mIn[4], line 1\u001b[1;36m\u001b[0m\n\u001b[1;33m    Another way to display an assigned variable\u001b[0m\n\u001b[1;37m            ^\u001b[0m\n\u001b[1;31mSyntaxError\u001b[0m\u001b[1;31m:\u001b[0m invalid syntax\n"
     ]
    }
   ],
   "source": [
    "Another way to display an assigned variable\n",
    "\n",
    "When executed, I believe the output will be: My favorite color is pink"
   ]
  },
  {
   "cell_type": "code",
   "execution_count": 5,
   "id": "ab7ea8bf",
   "metadata": {},
   "outputs": [
    {
     "name": "stdout",
     "output_type": "stream",
     "text": [
      "My favorite color is pink\n"
     ]
    }
   ],
   "source": [
    "print('My favorite color is', color)"
   ]
  },
  {
   "cell_type": "markdown",
   "id": "e69860c8",
   "metadata": {},
   "source": [
    "# Chapter 2 Continued\n",
    "\n",
    "Programming Exercises Problem #4"
   ]
  },
  {
   "cell_type": "markdown",
   "id": "8572bad2",
   "metadata": {},
   "source": [
    "I will write a program using items and variables to calculate\n",
    "the price of each item, display the subtotal, the amount of sales tax and the grand total"
   ]
  },
  {
   "cell_type": "code",
   "execution_count": null,
   "id": "8d5945c0",
   "metadata": {},
   "outputs": [],
   "source": [
    "#I will list five items that was purchased from a clothing store along with the price of each item\n",
    "\n",
    "shirt=10.99\n",
    "pants=19.99\n",
    "pajamas=12.99\n",
    "socks=9.99\n",
    "shoes=99.99\n"
   ]
  }
 ],
 "metadata": {
  "kernelspec": {
   "display_name": "Python 3 (ipykernel)",
   "language": "python",
   "name": "python3"
  },
  "language_info": {
   "codemirror_mode": {
    "name": "ipython",
    "version": 3
   },
   "file_extension": ".py",
   "mimetype": "text/x-python",
   "name": "python",
   "nbconvert_exporter": "python",
   "pygments_lexer": "ipython3",
   "version": "3.10.9"
  }
 },
 "nbformat": 4,
 "nbformat_minor": 5
}
