{
 "cells": [
  {
   "cell_type": "markdown",
   "id": "e4aef4c3",
   "metadata": {},
   "source": [
    "# Chapter 2 Exercises\n",
    "\n",
    "Algorithm Workbench Problem #2"
   ]
  },
  {
   "cell_type": "markdown",
   "id": "09fefd6b",
   "metadata": {},
   "source": [
    "I will use a python code to assign a color to a variable\n",
    "\n",
    "color='pink'\n",
    "\n",
    "When the code is excuted, I believe it will display the following on the screen: color=pink"
   ]
  },
  {
   "cell_type": "code",
   "execution_count": 1,
   "id": "ce751758",
   "metadata": {},
   "outputs": [],
   "source": [
    "color='pink'"
   ]
  },
  {
   "cell_type": "markdown",
   "id": "68784fc2",
   "metadata": {},
   "source": [
    "I will type a string using the print function that show my favorite color using the assigned variable."
   ]
  },
  {
   "cell_type": "markdown",
   "id": "c5abb094",
   "metadata": {},
   "source": [
    "When the string is executed, I believe the output will be My favorite color is."
   ]
  },
  {
   "cell_type": "code",
   "execution_count": 2,
   "id": "626c1131",
   "metadata": {},
   "outputs": [
    {
     "name": "stdout",
     "output_type": "stream",
     "text": [
      "my favorite color is\n"
     ]
    }
   ],
   "source": [
    "print('my favorite color is')"
   ]
  },
  {
   "cell_type": "markdown",
   "id": "3623f725",
   "metadata": {},
   "source": [
    "I will now use the assigned variable to reveal my favorite color.\n",
    "\n",
    "I believe it will excute displaying My favorite color is pink."
   ]
  },
  {
   "cell_type": "code",
   "execution_count": 3,
   "id": "0fa337d0",
   "metadata": {},
   "outputs": [
    {
     "name": "stdout",
     "output_type": "stream",
     "text": [
      "My favorite color is\n",
      "pink\n"
     ]
    }
   ],
   "source": [
    "print('My favorite color is')\n",
    "print(color)"
   ]
  },
  {
   "cell_type": "code",
   "execution_count": 4,
   "id": "48fa8c7a",
   "metadata": {},
   "outputs": [
    {
     "ename": "SyntaxError",
     "evalue": "invalid syntax (2917093994.py, line 1)",
     "output_type": "error",
     "traceback": [
      "\u001b[1;36m  Cell \u001b[1;32mIn[4], line 1\u001b[1;36m\u001b[0m\n\u001b[1;33m    Another way to display an assigned variable\u001b[0m\n\u001b[1;37m            ^\u001b[0m\n\u001b[1;31mSyntaxError\u001b[0m\u001b[1;31m:\u001b[0m invalid syntax\n"
     ]
    }
   ],
   "source": [
    "Another way to display an assigned variable\n",
    "\n",
    "When executed, I believe the output will be: My favorite color is pink"
   ]
  },
  {
   "cell_type": "code",
   "execution_count": null,
   "id": "88c18950",
   "metadata": {},
   "outputs": [],
   "source": [
    "print('My favorite color is', color)"
   ]
  },
  {
   "cell_type": "markdown",
   "id": "a93f20f8",
   "metadata": {},
   "source": [
    "# Chapter 2 Continued\n",
    "\n",
    "Programming Exercises Problem #4"
   ]
  },
  {
   "cell_type": "markdown",
   "id": "125279db",
   "metadata": {},
   "source": [
    "I will write a program using items and variables to calculate\n",
    "the price of each item, display the subtotal, the amount of sales tax and the grand total"
   ]
  },
  {
   "cell_type": "code",
   "execution_count": null,
   "id": "5e60fff2",
   "metadata": {},
   "outputs": [],
   "source": [
    "#I will list five items that was purchased from a clothing store along with the price of each item"
   ]
  },
  {
   "cell_type": "code",
   "execution_count": 17,
   "id": "caf71dde",
   "metadata": {},
   "outputs": [],
   "source": [
    "shirt=10.00\n",
    "pants=19.00\n",
    "pajamas=12.00\n",
    "socks=9.00\n",
    "shoes=100.00"
   ]
  },
  {
   "cell_type": "code",
   "execution_count": null,
   "id": "2848ab0b",
   "metadata": {},
   "outputs": [],
   "source": [
    "#I will now write a program adding the five items together to get the subtotal"
   ]
  },
  {
   "cell_type": "code",
   "execution_count": null,
   "id": "da2f9fb0",
   "metadata": {},
   "outputs": [],
   "source": [
    "#I believe the output will be all five items added equal 150"
   ]
  },
  {
   "cell_type": "code",
   "execution_count": 18,
   "id": "376f2cb5",
   "metadata": {},
   "outputs": [
    {
     "data": {
      "text/plain": [
       "150.0"
      ]
     },
     "execution_count": 18,
     "metadata": {},
     "output_type": "execute_result"
    }
   ],
   "source": [
    "shirt+pants+pajamas+socks+shoes"
   ]
  },
  {
   "cell_type": "code",
   "execution_count": null,
   "id": "64da0ae7",
   "metadata": {},
   "outputs": [],
   "source": [
    "#I will write a program displaying the subtotal=150"
   ]
  },
  {
   "cell_type": "code",
   "execution_count": 14,
   "id": "9b616815",
   "metadata": {},
   "outputs": [],
   "source": [
    "subtotal=150"
   ]
  },
  {
   "cell_type": "code",
   "execution_count": null,
   "id": "de080d57",
   "metadata": {},
   "outputs": [],
   "source": [
    "#I will display the sales tax and then add the sales tax to the subtotal to get the grand total for the items"
   ]
  },
  {
   "cell_type": "code",
   "execution_count": null,
   "id": "5ef4368a",
   "metadata": {},
   "outputs": [],
   "source": [
    "#To find the sales tax I will multiply the subtotal by 0.07 percent. My prediction will be 10.50"
   ]
  },
  {
   "cell_type": "code",
   "execution_count": 15,
   "id": "4ad1b329",
   "metadata": {},
   "outputs": [
    {
     "data": {
      "text/plain": [
       "10.500000000000002"
      ]
     },
     "execution_count": 15,
     "metadata": {},
     "output_type": "execute_result"
    }
   ],
   "source": [
    "subtotal*0.07"
   ]
  },
  {
   "cell_type": "code",
   "execution_count": null,
   "id": "e2602bf6",
   "metadata": {},
   "outputs": [],
   "source": [
    "#I will assign the variable sales tax to the dollar amount of the sales tax"
   ]
  },
  {
   "cell_type": "code",
   "execution_count": 12,
   "id": "b71d30b6",
   "metadata": {},
   "outputs": [],
   "source": [
    "sales_tax=10.50"
   ]
  },
  {
   "cell_type": "code",
   "execution_count": 5,
   "id": "88efc162",
   "metadata": {},
   "outputs": [],
   "source": [
    "#I will add the variables subtotal and sales tax together to get the grand total of the purchased items"
   ]
  },
  {
   "cell_type": "code",
   "execution_count": 6,
   "id": "8a4efa7f",
   "metadata": {},
   "outputs": [],
   "source": [
    "#I believe the output will be 150"
   ]
  },
  {
   "cell_type": "code",
   "execution_count": 19,
   "id": "b49458ee",
   "metadata": {},
   "outputs": [
    {
     "data": {
      "text/plain": [
       "160.5"
      ]
     },
     "execution_count": 19,
     "metadata": {},
     "output_type": "execute_result"
    }
   ],
   "source": [
    "subtotal+sales_tax"
   ]
  },
  {
   "cell_type": "markdown",
   "id": "f05efb92",
   "metadata": {},
   "source": [
    "# Programming Exercise Problem #13"
   ]
  },
  {
   "cell_type": "code",
   "execution_count": 20,
   "id": "5920fb49",
   "metadata": {},
   "outputs": [],
   "source": [
    "#Creating a program to help a vineyard owner find out how many grapevines to plant in a row"
   ]
  },
  {
   "cell_type": "code",
   "execution_count": 21,
   "id": "831e6f8e",
   "metadata": {},
   "outputs": [],
   "source": [
    "#I will convert the formula into a statement"
   ]
  },
  {
   "cell_type": "markdown",
   "id": "c8d97b20",
   "metadata": {},
   "source": [
    "grapevines=row_length-(2)end_post/space"
   ]
  },
  {
   "cell_type": "code",
   "execution_count": 1,
   "id": "a847a104",
   "metadata": {},
   "outputs": [],
   "source": [
    "#I will assign the variable row_length a value"
   ]
  },
  {
   "cell_type": "code",
   "execution_count": 2,
   "id": "06ded160",
   "metadata": {},
   "outputs": [
    {
     "name": "stdout",
     "output_type": "stream",
     "text": [
      "Enter the desired row length: 200\n"
     ]
    }
   ],
   "source": [
    "row_length=int(input('Enter the desired row length: '))"
   ]
  },
  {
   "cell_type": "code",
   "execution_count": 3,
   "id": "15980ca8",
   "metadata": {},
   "outputs": [],
   "source": [
    "#I will assign the variable amount_of_space a value"
   ]
  },
  {
   "cell_type": "code",
   "execution_count": 12,
   "id": "2086542c",
   "metadata": {},
   "outputs": [
    {
     "name": "stdout",
     "output_type": "stream",
     "text": [
      "Enter the desired end_post: 6\n"
     ]
    }
   ],
   "source": [
    "end_post=int(input('Enter the desired end_post: '))"
   ]
  },
  {
   "cell_type": "code",
   "execution_count": null,
   "id": "99cf8573",
   "metadata": {},
   "outputs": [],
   "source": [
    "#I will assign the variable space a value"
   ]
  },
  {
   "cell_type": "code",
   "execution_count": 5,
   "id": "99c81d99",
   "metadata": {},
   "outputs": [
    {
     "name": "stdout",
     "output_type": "stream",
     "text": [
      "Enter the desired space between the vines: 4\n"
     ]
    }
   ],
   "source": [
    "space=int(input('Enter the desired space between the vines: '))"
   ]
  },
  {
   "cell_type": "code",
   "execution_count": null,
   "id": "0096c63b",
   "metadata": {},
   "outputs": [],
   "source": [
    "#I will calculate the amount of grapevines to plant in each row"
   ]
  },
  {
   "cell_type": "code",
   "execution_count": 13,
   "id": "7670ed80",
   "metadata": {},
   "outputs": [
    {
     "name": "stderr",
     "output_type": "stream",
     "text": [
      "<>:1: SyntaxWarning: 'int' object is not callable; perhaps you missed a comma?\n",
      "<>:1: SyntaxWarning: 'int' object is not callable; perhaps you missed a comma?\n",
      "C:\\Users\\Tahila Dale\\AppData\\Local\\Temp\\ipykernel_3808\\4162380290.py:1: SyntaxWarning: 'int' object is not callable; perhaps you missed a comma?\n",
      "  grapevines=row_length-2(end_post)/space\n",
      "C:\\Users\\Tahila Dale\\AppData\\Local\\Temp\\ipykernel_3808\\4162380290.py:1: SyntaxWarning: 'int' object is not callable; perhaps you missed a comma?\n",
      "  grapevines=row_length-2(end_post)/space\n",
      "C:\\Users\\Tahila Dale\\AppData\\Local\\Temp\\ipykernel_3808\\4162380290.py:1: SyntaxWarning: 'int' object is not callable; perhaps you missed a comma?\n",
      "  grapevines=row_length-2(end_post)/space\n"
     ]
    },
    {
     "ename": "TypeError",
     "evalue": "'int' object is not callable",
     "output_type": "error",
     "traceback": [
      "\u001b[1;31m---------------------------------------------------------------------------\u001b[0m",
      "\u001b[1;31mTypeError\u001b[0m                                 Traceback (most recent call last)",
      "Cell \u001b[1;32mIn[13], line 1\u001b[0m\n\u001b[1;32m----> 1\u001b[0m grapevines\u001b[38;5;241m=\u001b[39mrow_length\u001b[38;5;241m-\u001b[39m\u001b[38;5;241;43m2\u001b[39;49m\u001b[43m(\u001b[49m\u001b[43mend_post\u001b[49m\u001b[43m)\u001b[49m\u001b[38;5;241m/\u001b[39mspace\n",
      "\u001b[1;31mTypeError\u001b[0m: 'int' object is not callable"
     ]
    }
   ],
   "source": [
    "grapevines=row_length-2(end_post)/space"
   ]
  },
  {
   "cell_type": "code",
   "execution_count": 14,
   "id": "c8087660",
   "metadata": {},
   "outputs": [],
   "source": [
    "#display the number of grapevines needed for each row"
   ]
  },
  {
   "cell_type": "code",
   "execution_count": 16,
   "id": "c1cfc6e1",
   "metadata": {},
   "outputs": [
    {
     "ename": "SyntaxError",
     "evalue": "invalid syntax (3404530063.py, line 1)",
     "output_type": "error",
     "traceback": [
      "\u001b[1;36m  Cell \u001b[1;32mIn[16], line 1\u001b[1;36m\u001b[0m\n\u001b[1;33m    print('You will need', grapevines'for each row')\u001b[0m\n\u001b[1;37m                                     ^\u001b[0m\n\u001b[1;31mSyntaxError\u001b[0m\u001b[1;31m:\u001b[0m invalid syntax\n"
     ]
    }
   ],
   "source": [
    "print('You will need', grapevines'for each row')"
   ]
  },
  {
   "cell_type": "code",
   "execution_count": null,
   "id": "b3230533",
   "metadata": {},
   "outputs": [],
   "source": []
  }
 ],
 "metadata": {
  "kernelspec": {
   "display_name": "Python 3 (ipykernel)",
   "language": "python",
   "name": "python3"
  },
  "language_info": {
   "codemirror_mode": {
    "name": "ipython",
    "version": 3
   },
   "file_extension": ".py",
   "mimetype": "text/x-python",
   "name": "python",
   "nbconvert_exporter": "python",
   "pygments_lexer": "ipython3",
   "version": "3.10.9"
  }
 },
 "nbformat": 4,
 "nbformat_minor": 5
}
