{
 "cells": [
  {
   "cell_type": "markdown",
   "id": "259e76a0",
   "metadata": {},
   "source": [
    "# Chapter 2 Exercises\n",
    "\n",
    "Algorithm Workbench Problem #2"
   ]
  },
  {
   "cell_type": "markdown",
   "id": "5aba3579",
   "metadata": {},
   "source": [
    "I will use a python code to assign a color to a variable\n",
    "\n",
    "color='pink'\n",
    "\n",
    "When the code is excuted, I believe it will display the following on the screen: color=pink"
   ]
  },
  {
   "cell_type": "code",
   "execution_count": 1,
   "id": "13bb665b",
   "metadata": {},
   "outputs": [],
   "source": [
    "color='pink'"
   ]
  },
  {
   "cell_type": "markdown",
   "id": "7307e01a",
   "metadata": {},
   "source": [
    "I will type a string using the print function that show my favorite color using the assigned variable."
   ]
  },
  {
   "cell_type": "markdown",
   "id": "3a9582f7",
   "metadata": {},
   "source": [
    "When the string is executed, I believe the output will be My favorite color is."
   ]
  },
  {
   "cell_type": "code",
   "execution_count": 2,
   "id": "babf2878",
   "metadata": {},
   "outputs": [
    {
     "name": "stdout",
     "output_type": "stream",
     "text": [
      "my favorite color is\n"
     ]
    }
   ],
   "source": [
    "print('my favorite color is')"
   ]
  },
  {
   "cell_type": "markdown",
   "id": "8c9b2a56",
   "metadata": {},
   "source": [
    "I will now use the assigned variable to reveal my favorite color.\n",
    "\n",
    "I believe it will excute displaying My favorite color is pink."
   ]
  },
  {
   "cell_type": "code",
   "execution_count": 3,
   "id": "96d84f44",
   "metadata": {},
   "outputs": [
    {
     "name": "stdout",
     "output_type": "stream",
     "text": [
      "My favorite color is\n",
      "pink\n"
     ]
    }
   ],
   "source": [
    "print('My favorite color is')\n",
    "print(color)"
   ]
  },
  {
   "cell_type": "code",
   "execution_count": 4,
   "id": "da2db5b1",
   "metadata": {},
   "outputs": [
    {
     "ename": "SyntaxError",
     "evalue": "invalid syntax (1528044501.py, line 1)",
     "output_type": "error",
     "traceback": [
      "\u001b[1;36m  Cell \u001b[1;32mIn[4], line 1\u001b[1;36m\u001b[0m\n\u001b[1;33m    Another way to display an assigned variable\u001b[0m\n\u001b[1;37m            ^\u001b[0m\n\u001b[1;31mSyntaxError\u001b[0m\u001b[1;31m:\u001b[0m invalid syntax\n"
     ]
    }
   ],
   "source": [
    "Another way to display an assigned variable"
   ]
  },
  {
   "cell_type": "code",
   "execution_count": null,
   "id": "eb939872",
   "metadata": {},
   "outputs": [],
   "source": []
  }
 ],
 "metadata": {
  "kernelspec": {
   "display_name": "Python 3 (ipykernel)",
   "language": "python",
   "name": "python3"
  },
  "language_info": {
   "codemirror_mode": {
    "name": "ipython",
    "version": 3
   },
   "file_extension": ".py",
   "mimetype": "text/x-python",
   "name": "python",
   "nbconvert_exporter": "python",
   "pygments_lexer": "ipython3",
   "version": "3.10.9"
  }
 },
 "nbformat": 4,
 "nbformat_minor": 5
}
