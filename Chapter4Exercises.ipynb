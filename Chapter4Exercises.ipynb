{
 "cells": [
  {
   "cell_type": "markdown",
   "id": "27af45a9",
   "metadata": {},
   "source": [
    "# Chapter 4 Exercise\n",
    "## Algorithm Workbench Problem #1"
   ]
  },
  {
   "cell_type": "code",
   "execution_count": null,
   "id": "0b68e407",
   "metadata": {},
   "outputs": [],
   "source": [
    "# I will write a while loop that allows the user to enter a number. \n",
    "# The number will be multiplied by 10. The result will be assigned a variable\n",
    "# named product. The loop will iterat as long as the product is less than 100.\n",
    "\n",
    "# I will assign a variable named product and create a while loop that will execute\n",
    "# a statement 100 times.\n",
    "\n",
    "product = 0\n",
    "while product > 100:\n",
    "    print('Never give up')"
   ]
  }
 ],
 "metadata": {
  "kernelspec": {
   "display_name": "Python 3 (ipykernel)",
   "language": "python",
   "name": "python3"
  },
  "language_info": {
   "codemirror_mode": {
    "name": "ipython",
    "version": 3
   },
   "file_extension": ".py",
   "mimetype": "text/x-python",
   "name": "python",
   "nbconvert_exporter": "python",
   "pygments_lexer": "ipython3",
   "version": "3.10.9"
  }
 },
 "nbformat": 4,
 "nbformat_minor": 5
}
