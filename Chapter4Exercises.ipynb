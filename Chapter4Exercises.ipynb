{
 "cells": [
  {
   "cell_type": "markdown",
   "id": "eb564e77",
   "metadata": {},
   "source": [
    "# Chapter 4\n",
    "\n",
    "## Algorithm Workbench Problem #1"
   ]
  },
  {
   "cell_type": "code",
   "execution_count": null,
   "id": "8d357a1d",
   "metadata": {},
   "outputs": [],
   "source": [
    "# I will create a variable named product\n",
    "\n",
    "product = 0\n",
    "\n",
    "# I will create  while loop that will iterate a product less than 100\n",
    "\n",
    "while product < 100:\n",
    "    \n",
    "# I will create a print statement that will display a message.\n",
    "\n",
    "    print('Never give up')"
   ]
  }
 ],
 "metadata": {
  "kernelspec": {
   "display_name": "Python 3 (ipykernel)",
   "language": "python",
   "name": "python3"
  },
  "language_info": {
   "codemirror_mode": {
    "name": "ipython",
    "version": 3
   },
   "file_extension": ".py",
   "mimetype": "text/x-python",
   "name": "python",
   "nbconvert_exporter": "python",
   "pygments_lexer": "ipython3",
   "version": "3.10.9"
  }
 },
 "nbformat": 4,
 "nbformat_minor": 5
}
