{
 "cells": [
  {
   "cell_type": "code",
   "execution_count": 3,
   "id": "1b68e79f",
   "metadata": {},
   "outputs": [],
   "source": [
    "class Person:\n",
    "\n",
    "    def __init__(self, name, address, telephone):\n",
    "        self.__name = name\n",
    "        self.__address = address\n",
    "        self.__telephone = telephone\n",
    "        \n",
    "        def set_name(self, name):\n",
    "            self.__name = name\n",
    "            \n",
    "        def set_address(self, address):\n",
    "            self.__address = address\n",
    "            \n",
    "        def set_telephone(self, telephone):\n",
    "            self.__telephone = telephone\n",
    "        \n",
    "        def get_name(self):\n",
    "            return self.__telephone\n",
    "        \n",
    "        def get_address(self):\n",
    "            return self.__address\n",
    "        \n",
    "        def get_telephone(self):\n",
    "            return self.__telephone\n",
    "        \n",
    "person = Person(\"Tahila\", \"Detroit\", \"515-515-0520\")"
   ]
  },
  {
   "cell_type": "code",
   "execution_count": null,
   "id": "77612b23",
   "metadata": {},
   "outputs": [],
   "source": []
  },
  {
   "cell_type": "code",
   "execution_count": null,
   "id": "5e8f6e2c",
   "metadata": {},
   "outputs": [],
   "source": []
  },
  {
   "cell_type": "code",
   "execution_count": null,
   "id": "d5075b8a",
   "metadata": {},
   "outputs": [],
   "source": []
  }
 ],
 "metadata": {
  "kernelspec": {
   "display_name": "Python 3 (ipykernel)",
   "language": "python",
   "name": "python3"
  },
  "language_info": {
   "codemirror_mode": {
    "name": "ipython",
    "version": 3
   },
   "file_extension": ".py",
   "mimetype": "text/x-python",
   "name": "python",
   "nbconvert_exporter": "python",
   "pygments_lexer": "ipython3",
   "version": "3.10.9"
  }
 },
 "nbformat": 4,
 "nbformat_minor": 5
}
