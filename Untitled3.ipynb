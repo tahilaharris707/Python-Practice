{
 "cells": [
  {
   "cell_type": "code",
   "execution_count": null,
   "id": "e1023ad8",
   "metadata": {},
   "outputs": [],
   "source": [
    "print('Intro to Computer Science')\n",
    "print('Calc I')\n",
    "print('Public Speaking')"
   ]
  },
  {
   "cell_type": "code",
   "execution_count": null,
   "id": "35b29685",
   "metadata": {},
   "outputs": [],
   "source": [
    "print(\"\"\"I'm reading \"Hamlet\" tonight\"\"\")"
   ]
  },
  {
   "cell_type": "code",
   "execution_count": null,
   "id": "c6b1f213",
   "metadata": {},
   "outputs": [],
   "source": [
    "print(\"\"\"One\n",
    "two\n",
    "three\"\"\")"
   ]
  },
  {
   "cell_type": "code",
   "execution_count": null,
   "id": "e178464d",
   "metadata": {},
   "outputs": [],
   "source": [
    "width = 10\n",
    "length = 5\n",
    "print(width)\n",
    "print(length)"
   ]
  },
  {
   "cell_type": "code",
   "execution_count": null,
   "id": "262f67aa",
   "metadata": {},
   "outputs": [],
   "source": [
    "room = 503\n",
    "print('I am staying in room')\n",
    "print (room)"
   ]
  },
  {
   "cell_type": "code",
   "execution_count": null,
   "id": "d0750349",
   "metadata": {},
   "outputs": [],
   "source": [
    "room =503\n",
    "print('I am staying in \"room\"')"
   ]
  },
  {
   "cell_type": "code",
   "execution_count": null,
   "id": "d8459b77",
   "metadata": {},
   "outputs": [],
   "source": [
    "top_speed = 160\n",
    "distance = 300\n",
    "print('the top_speed is')\n",
    "print(top_speed)\n",
    "print('the distance traveled is')\n",
    "print(distance)"
   ]
  },
  {
   "cell_type": "code",
   "execution_count": null,
   "id": "08b213ca",
   "metadata": {},
   "outputs": [],
   "source": [
    "x, y, z = 0, 1, 2\n",
    "print(x,y,z)"
   ]
  },
  {
   "cell_type": "code",
   "execution_count": null,
   "id": "8e4954fa",
   "metadata": {},
   "outputs": [],
   "source": [
    "name, id = 'Trinidad', 847\n",
    "print(name, id)"
   ]
  },
  {
   "cell_type": "code",
   "execution_count": null,
   "id": "168cb619",
   "metadata": {},
   "outputs": [],
   "source": [
    "room=503\n",
    "print('I am staying in room number', room)"
   ]
  },
  {
   "cell_type": "code",
   "execution_count": null,
   "id": "3766261e",
   "metadata": {},
   "outputs": [],
   "source": [
    "dollars=2.75\n",
    "print('I have', dollars, 'in my account.')\n",
    "dollars=99.95\n",
    "print('But now I have', dollars, 'in my account')"
   ]
  },
  {
   "cell_type": "code",
   "execution_count": null,
   "id": "4f3e89da",
   "metadata": {},
   "outputs": [],
   "source": [
    "type(1)"
   ]
  },
  {
   "cell_type": "code",
   "execution_count": null,
   "id": "1cc4ec32",
   "metadata": {},
   "outputs": [],
   "source": [
    "type(2)"
   ]
  },
  {
   "cell_type": "code",
   "execution_count": null,
   "id": "75cc1cd1",
   "metadata": {},
   "outputs": [],
   "source": [
    "first_name= ('Kathryn')\n",
    "last_name= ('Marino')\n",
    "print(first_name, last_name)"
   ]
  },
  {
   "cell_type": "code",
   "execution_count": null,
   "id": "c84bf31a",
   "metadata": {},
   "outputs": [],
   "source": [
    "x=99\n",
    "print(x)\n",
    "x=('Take me to your leader')\n",
    "print(x)"
   ]
  },
  {
   "cell_type": "code",
   "execution_count": null,
   "id": "9e33c053",
   "metadata": {},
   "outputs": [],
   "source": [
    "name = input('What is your name? ')\n",
    "name"
   ]
  },
  {
   "cell_type": "code",
   "execution_count": null,
   "id": "819f0e1a",
   "metadata": {},
   "outputs": [],
   "source": [
    "name"
   ]
  },
  {
   "cell_type": "code",
   "execution_count": null,
   "id": "f7b09bdd",
   "metadata": {},
   "outputs": [],
   "source": [
    "phone= input('What is your phone number? ')"
   ]
  },
  {
   "cell_type": "code",
   "execution_count": null,
   "id": "a5e28571",
   "metadata": {},
   "outputs": [],
   "source": [
    "phone"
   ]
  },
  {
   "cell_type": "code",
   "execution_count": null,
   "id": "c6c3b7f5",
   "metadata": {},
   "outputs": [],
   "source": [
    "x=input('Enter a number. ')"
   ]
  },
  {
   "cell_type": "code",
   "execution_count": null,
   "id": "8140deb4",
   "metadata": {},
   "outputs": [],
   "source": [
    "x"
   ]
  },
  {
   "cell_type": "code",
   "execution_count": null,
   "id": "04986d98",
   "metadata": {},
   "outputs": [],
   "source": [
    "num=int(input('Enter a number. '))"
   ]
  },
  {
   "cell_type": "code",
   "execution_count": null,
   "id": "41757c2e",
   "metadata": {},
   "outputs": [],
   "source": [
    "num"
   ]
  },
  {
   "cell_type": "code",
   "execution_count": null,
   "id": "973ca24b",
   "metadata": {},
   "outputs": [],
   "source": [
    "temperature=float(input('What is the temperature? '))"
   ]
  },
  {
   "cell_type": "code",
   "execution_count": null,
   "id": "35a05e12",
   "metadata": {},
   "outputs": [],
   "source": [
    "temperature"
   ]
  },
  {
   "cell_type": "code",
   "execution_count": null,
   "id": "43c00696",
   "metadata": {},
   "outputs": [],
   "source": [
    "first_name=input('Enter your first name: ')\n",
    "last_name=input('Enter your last name: ')"
   ]
  },
  {
   "cell_type": "code",
   "execution_count": null,
   "id": "e9609e02",
   "metadata": {},
   "outputs": [],
   "source": [
    "print('My name is', first_name, last_name)"
   ]
  },
  {
   "cell_type": "code",
   "execution_count": null,
   "id": "cb5aa5d7",
   "metadata": {},
   "outputs": [],
   "source": [
    "string_value=input('How many hours did you work? ')\n",
    "hours=int(string_value)\n",
    "hours"
   ]
  },
  {
   "cell_type": "code",
   "execution_count": null,
   "id": "a8fa9e34",
   "metadata": {},
   "outputs": [],
   "source": [
    "hours=int(input('How many hours did you work? '))\n",
    "hours"
   ]
  },
  {
   "cell_type": "code",
   "execution_count": null,
   "id": "af7735bb",
   "metadata": {},
   "outputs": [],
   "source": [
    "pay_rate=float(input('Enter your hourly pay rate '))"
   ]
  },
  {
   "cell_type": "code",
   "execution_count": null,
   "id": "8bb49677",
   "metadata": {},
   "outputs": [],
   "source": [
    "pay_rate"
   ]
  },
  {
   "cell_type": "code",
   "execution_count": null,
   "id": "d4d81026",
   "metadata": {},
   "outputs": [],
   "source": [
    "name = input('What is your name? ')\n",
    "age = int(input('How old are you? '))\n",
    "income = float(input('What is your income? '))\n",
    "\n",
    "print('Here is the data you entered:')\n",
    "print('name:', name)\n",
    "print('age:', age)\n",
    "print('income', income)"
   ]
  },
  {
   "cell_type": "code",
   "execution_count": null,
   "id": "b6d785e9",
   "metadata": {},
   "outputs": [],
   "source": [
    "salary=2500.0\n",
    "bonus=1200.0\n",
    "pay=salary+bonus\n",
    "print('Your pay is', pay,)"
   ]
  },
  {
   "cell_type": "code",
   "execution_count": null,
   "id": "d5c3526e",
   "metadata": {},
   "outputs": [],
   "source": [
    "original_price = float(input(\"Enter the item's original price:\"))\n",
    "\n",
    "discount = original_price * 0.2\n",
    "\n",
    "sales_price = original_price - discount\n",
    "print('The sales price is', sales_price)"
   ]
  },
  {
   "cell_type": "raw",
   "id": "d2abe002",
   "metadata": {},
   "source": [
    "5/2"
   ]
  },
  {
   "cell_type": "code",
   "execution_count": null,
   "id": "9269842b",
   "metadata": {},
   "outputs": [],
   "source": [
    "5/2"
   ]
  },
  {
   "cell_type": "code",
   "execution_count": null,
   "id": "8255ead6",
   "metadata": {},
   "outputs": [],
   "source": [
    "5//2"
   ]
  },
  {
   "cell_type": "code",
   "execution_count": null,
   "id": "9811038c",
   "metadata": {},
   "outputs": [],
   "source": [
    "-5//2"
   ]
  },
  {
   "cell_type": "code",
   "execution_count": null,
   "id": "8e52e3b6",
   "metadata": {},
   "outputs": [],
   "source": [
    "outcome=12.0+6.0/3.0"
   ]
  },
  {
   "cell_type": "code",
   "execution_count": null,
   "id": "b5078916",
   "metadata": {},
   "outputs": [],
   "source": [
    "5**2"
   ]
  },
  {
   "cell_type": "code",
   "execution_count": null,
   "id": "00ed6b5b",
   "metadata": {},
   "outputs": [],
   "source": [
    "9%2"
   ]
  },
  {
   "cell_type": "code",
   "execution_count": null,
   "id": "cd22d022",
   "metadata": {},
   "outputs": [],
   "source": [
    "total_seconds=float(input('Enter number of seconds: '))"
   ]
  },
  {
   "cell_type": "code",
   "execution_count": null,
   "id": "33146852",
   "metadata": {},
   "outputs": [],
   "source": [
    "fvalue=-2.9\n",
    "ivalue=int(fvalue)"
   ]
  },
  {
   "cell_type": "code",
   "execution_count": null,
   "id": "9469264f",
   "metadata": {},
   "outputs": [],
   "source": [
    "result=var1*2+var2*3+\\\n",
    "var3*4+var4*5"
   ]
  },
  {
   "cell_type": "code",
   "execution_count": null,
   "id": "5cd0fdb7",
   "metadata": {},
   "outputs": [],
   "source": [
    "message = ('Hello ' + 'World')\n",
    "print(message)"
   ]
  },
  {
   "cell_type": "code",
   "execution_count": null,
   "id": "55026ca6",
   "metadata": {},
   "outputs": [],
   "source": [
    "first_name=input('Enter your first name ')\n",
    "last_name=input('Enter your last name ')\n",
    "full_name=first_name+ ' ' + last_name\n",
    "print('Your full name is ' + full_name )"
   ]
  },
  {
   "cell_type": "code",
   "execution_count": null,
   "id": "23672623",
   "metadata": {},
   "outputs": [],
   "source": [
    "print('one', end=' ')\n",
    "print('two', end=' ')\n",
    "print('three')\n",
    "      "
   ]
  },
  {
   "cell_type": "code",
   "execution_count": null,
   "id": "2516470d",
   "metadata": {},
   "outputs": [],
   "source": [
    "print('One', 'Two', 'Three')"
   ]
  },
  {
   "cell_type": "code",
   "execution_count": null,
   "id": "2dee4023",
   "metadata": {},
   "outputs": [],
   "source": [
    "print('one\\ntow\\nthree')"
   ]
  },
  {
   "cell_type": "code",
   "execution_count": null,
   "id": "66599bef",
   "metadata": {
    "scrolled": true
   },
   "outputs": [],
   "source": [
    "print('Mon\\tTues\\tWed')"
   ]
  },
  {
   "cell_type": "code",
   "execution_count": null,
   "id": "f3fe89e4",
   "metadata": {},
   "outputs": [],
   "source": [
    "print(\"Your assignment is to read \\\"Hamlett\\\" by tomorrow\")"
   ]
  },
  {
   "cell_type": "code",
   "execution_count": null,
   "id": "ba3d2706",
   "metadata": {},
   "outputs": [],
   "source": [
    "print('Hello World')"
   ]
  },
  {
   "cell_type": "code",
   "execution_count": null,
   "id": "9491a9d8",
   "metadata": {},
   "outputs": [],
   "source": [
    "print(f'hello world')"
   ]
  },
  {
   "cell_type": "code",
   "execution_count": null,
   "id": "ed7fba1b",
   "metadata": {},
   "outputs": [],
   "source": [
    "name = 'johnny'\n",
    "print(f'hello {name}.')"
   ]
  },
  {
   "cell_type": "code",
   "execution_count": null,
   "id": "0f7885a2",
   "metadata": {},
   "outputs": [],
   "source": [
    "name = 'johnny'\n",
    "print(f'hello {name}.')"
   ]
  },
  {
   "cell_type": "code",
   "execution_count": null,
   "id": "fef493c7",
   "metadata": {},
   "outputs": [],
   "source": [
    "print(f'The value is{10+2}.')"
   ]
  },
  {
   "cell_type": "code",
   "execution_count": null,
   "id": "f3eadb66",
   "metadata": {},
   "outputs": [],
   "source": [
    "new = good\n",
    "print(f'God is {new}' )"
   ]
  },
  {
   "cell_type": "code",
   "execution_count": null,
   "id": "21c52a21",
   "metadata": {},
   "outputs": [],
   "source": [
    "amount_due = 5000.0\n",
    "monthly_payment =  amount_due/12.0\n",
    "print(f'the monthly payment is {monthly_payment:.2f}.')"
   ]
  },
  {
   "cell_type": "code",
   "execution_count": null,
   "id": "f9f50ff3",
   "metadata": {},
   "outputs": [],
   "source": [
    "number = 123456890.1234\n",
    "print(f'{number:,}')"
   ]
  },
  {
   "cell_type": "code",
   "execution_count": null,
   "id": "2a68306d",
   "metadata": {},
   "outputs": [],
   "source": [
    "discount = 0.5\n",
    "print(f'{discount:.0%}')"
   ]
  },
  {
   "cell_type": "code",
   "execution_count": null,
   "id": "79f0fea4",
   "metadata": {},
   "outputs": [],
   "source": [
    "number = 12345.6789\n",
    "print(f'{number:e}')"
   ]
  },
  {
   "cell_type": "code",
   "execution_count": null,
   "id": "d14ff1fa",
   "metadata": {},
   "outputs": [],
   "source": [
    "number = 12345.67890\n",
    "print(f'The number is {number:,.2f}')"
   ]
  },
  {
   "cell_type": "code",
   "execution_count": null,
   "id": "ab6bb0c6",
   "metadata": {},
   "outputs": [],
   "source": [
    "print(f'{number:^10,.2f}')"
   ]
  },
  {
   "cell_type": "code",
   "execution_count": null,
   "id": "707c0b7e",
   "metadata": {},
   "outputs": [],
   "source": [
    "print(f'{number:10^,.2f}') "
   ]
  },
  {
   "cell_type": "code",
   "execution_count": null,
   "id": "841719ea",
   "metadata": {},
   "outputs": [],
   "source": [
    "Name ='Abby Lloyd'\n",
    "Name ='George Flyod'\n",
    "Name ='Trina Jones'\n",
    "print(f'Employee name: {name}, ' + \n",
    "      f'{name}, ' + \n",
    "      f'{name})"
   ]
  },
  {
   "cell_type": "code",
   "execution_count": 4,
   "id": "239af59a",
   "metadata": {},
   "outputs": [],
   "source": [
    "import turtle\n",
    "turtle.showturtle()\n",
    "turtle.forward(200)\n",
    "turtle.left(45)\n",
    "turtle.right(75)\n",
    "turtle.forward(45)"
   ]
  },
  {
   "cell_type": "code",
   "execution_count": 6,
   "id": "6d7795d4",
   "metadata": {},
   "outputs": [],
   "source": [
    "import turtle\n",
    "turtle.showturtle()\n",
    "turtle.forward(100)\n",
    "turtle.right(45)\n",
    "turtle.forward(75)\n",
    "turtle.setheading(45)"
   ]
  },
  {
   "cell_type": "code",
   "execution_count": 5,
   "id": "91ae8c2a",
   "metadata": {},
   "outputs": [],
   "source": [
    "import turtle\n",
    "turtle.showturtle()\n",
    "turtle.forward(50)\n",
    "turtle.setheading(90)\n",
    "turtle.forward(100)\n",
    "turtle.setheading(90)"
   ]
  },
  {
   "cell_type": "code",
   "execution_count": 24,
   "id": "a1a538b4",
   "metadata": {},
   "outputs": [],
   "source": [
    "import turtle\n",
    "turtle.showturtle()\n",
    "turtle.setup(640,480)\n",
    "turtle.circle(100)\n",
    "turtle.setheading(270)\n",
    "turtle.forward(100)\n",
    "turtle.left(45)\n",
    "turtle.goto(0, 100)\n",
    "turtle.goto(10, -10)\n",
    "turtle.speed(0)\n",
    "turtle.circle\n",
    "turtle.clear()\n",
    "turtle.reset()\n",
    "turtle.speed(1)\n",
    "turtle.circle(100)\n",
    "turtle.speed()\n",
    "turtle.write('Hello World')\n",
    "turtle.reset()\n",
    "turtle.setup(300, 300)"
   ]
  },
  {
   "cell_type": "code",
   "execution_count": 26,
   "id": "91136e6e",
   "metadata": {},
   "outputs": [],
   "source": [
    "import turtle\n",
    "turtle.showturtle()\n",
    "turtle.setup(300, 300)\n",
    "turtle.penup()"
   ]
  },
  {
   "cell_type": "code",
   "execution_count": 2,
   "id": "31b9dd0a",
   "metadata": {},
   "outputs": [
    {
     "ename": "SyntaxError",
     "evalue": "invalid non-printable character U+00A0 (4067804182.py, line 1)",
     "output_type": "error",
     "traceback": [
      "\u001b[1;36m  Cell \u001b[1;32mIn[2], line 1\u001b[1;36m\u001b[0m\n\u001b[1;33m    import turtle\u001b[0m\n\u001b[1;37m          ^\u001b[0m\n\u001b[1;31mSyntaxError\u001b[0m\u001b[1;31m:\u001b[0m invalid non-printable character U+00A0\n"
     ]
    }
   ],
   "source": [
    "import turtle \n",
    "turtle.hideturtle() \n",
    "turtle.fillcolor('blue') \n",
    "turtle.begin_fill() \n",
    "turtle.forward(100) \n",
    "turtle.left(90) \n",
    "turtle.forward(100) \n",
    "turtle.left(90) \n",
    "turtle.forward(100) \n",
    "turtle.left(90) \n",
    "turtle.forward(100) \n",
    "turtle.end_fill()"
   ]
  },
  {
   "cell_type": "code",
   "execution_count": 4,
   "id": "dd5fdc05",
   "metadata": {},
   "outputs": [
    {
     "data": {
      "text/plain": [
       "<function turtle.numinput(title, prompt, default=None, minval=None, maxval=None)>"
      ]
     },
     "execution_count": 4,
     "metadata": {},
     "output_type": "execute_result"
    }
   ],
   "source": [
    "import turtle\n",
    "turtle.showturtle()\n",
    "turtle.numinput"
   ]
  },
  {
   "cell_type": "code",
   "execution_count": null,
   "id": "9cb19b35",
   "metadata": {},
   "outputs": [],
   "source": []
  }
 ],
 "metadata": {
  "kernelspec": {
   "display_name": "Python 3 (ipykernel)",
   "language": "python",
   "name": "python3"
  },
  "language_info": {
   "codemirror_mode": {
    "name": "ipython",
    "version": 3
   },
   "file_extension": ".py",
   "mimetype": "text/x-python",
   "name": "python",
   "nbconvert_exporter": "python",
   "pygments_lexer": "ipython3",
   "version": "3.10.9"
  }
 },
 "nbformat": 4,
 "nbformat_minor": 5
}
