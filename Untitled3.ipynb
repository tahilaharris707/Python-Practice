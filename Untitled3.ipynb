{
 "cells": [
  {
   "cell_type": "code",
   "execution_count": null,
   "id": "63b37052",
   "metadata": {},
   "outputs": [],
   "source": [
    "print('Intro to Computer Science')\n",
    "print('Calc I')\n",
    "print('Public Speaking')"
   ]
  },
  {
   "cell_type": "code",
   "execution_count": null,
   "id": "95eef644",
   "metadata": {},
   "outputs": [],
   "source": [
    "print(\"\"\"I'm reading \"Hamlet\" tonight\"\"\")"
   ]
  },
  {
   "cell_type": "code",
   "execution_count": null,
   "id": "420680f2",
   "metadata": {},
   "outputs": [],
   "source": [
    "print(\"\"\"One\n",
    "two\n",
    "three\"\"\")"
   ]
  },
  {
   "cell_type": "code",
   "execution_count": null,
   "id": "6b0493bf",
   "metadata": {},
   "outputs": [],
   "source": [
    "width = 10\n",
    "length = 5\n",
    "print(width)\n",
    "print(length)"
   ]
  },
  {
   "cell_type": "code",
   "execution_count": null,
   "id": "7afa7169",
   "metadata": {},
   "outputs": [],
   "source": [
    "room = 503\n",
    "print('I am staying in room')\n",
    "print (room)"
   ]
  },
  {
   "cell_type": "code",
   "execution_count": null,
   "id": "7c6753f0",
   "metadata": {},
   "outputs": [],
   "source": [
    "room =503\n",
    "print('I am staying in \"room\"')"
   ]
  },
  {
   "cell_type": "code",
   "execution_count": null,
   "id": "dc541acb",
   "metadata": {},
   "outputs": [],
   "source": [
    "top_speed = 160\n",
    "distance = 300\n",
    "print('the top_speed is')\n",
    "print(top_speed)\n",
    "print('the distance traveled is')\n",
    "print(distance)"
   ]
  },
  {
   "cell_type": "code",
   "execution_count": null,
   "id": "ab2ad07d",
   "metadata": {},
   "outputs": [],
   "source": [
    "x, y, z = 0, 1, 2\n",
    "print(x,y,z)"
   ]
  },
  {
   "cell_type": "code",
   "execution_count": null,
   "id": "e76270a2",
   "metadata": {},
   "outputs": [],
   "source": [
    "name, id = 'Trinidad', 847\n",
    "print(name, id)"
   ]
  },
  {
   "cell_type": "code",
   "execution_count": null,
   "id": "4e1c4742",
   "metadata": {},
   "outputs": [],
   "source": [
    "room=503\n",
    "print('I am staying in room number', room)"
   ]
  },
  {
   "cell_type": "code",
   "execution_count": null,
   "id": "d0acf80b",
   "metadata": {},
   "outputs": [],
   "source": [
    "dollars=2.75\n",
    "print('I have', dollars, 'in my account.')\n",
    "dollars=99.95\n",
    "print('But now I have', dollars, 'in my account')"
   ]
  },
  {
   "cell_type": "code",
   "execution_count": null,
   "id": "231a5a77",
   "metadata": {},
   "outputs": [],
   "source": [
    "type(1)"
   ]
  },
  {
   "cell_type": "code",
   "execution_count": null,
   "id": "5c00915f",
   "metadata": {},
   "outputs": [],
   "source": [
    "type(2)"
   ]
  },
  {
   "cell_type": "code",
   "execution_count": null,
   "id": "d09398dd",
   "metadata": {},
   "outputs": [],
   "source": [
    "first_name= ('Kathryn')\n",
    "last_name= ('Marino')\n",
    "print(first_name, last_name)"
   ]
  },
  {
   "cell_type": "code",
   "execution_count": null,
   "id": "ff552c4a",
   "metadata": {},
   "outputs": [],
   "source": [
    "x=99\n",
    "print(x)\n",
    "x=('Take me to your leader')\n",
    "print(x)"
   ]
  },
  {
   "cell_type": "code",
   "execution_count": null,
   "id": "18b08983",
   "metadata": {},
   "outputs": [],
   "source": [
    "name = input('What is your name? ')\n",
    "name"
   ]
  },
  {
   "cell_type": "code",
   "execution_count": null,
   "id": "943d028e",
   "metadata": {},
   "outputs": [],
   "source": [
    "name"
   ]
  },
  {
   "cell_type": "code",
   "execution_count": null,
   "id": "8f37b650",
   "metadata": {},
   "outputs": [],
   "source": [
    "phone= input('What is your phone number? ')"
   ]
  },
  {
   "cell_type": "code",
   "execution_count": null,
   "id": "3f589115",
   "metadata": {},
   "outputs": [],
   "source": [
    "phone"
   ]
  },
  {
   "cell_type": "code",
   "execution_count": null,
   "id": "449ab6a2",
   "metadata": {},
   "outputs": [],
   "source": [
    "x=input('Enter a number. ')"
   ]
  },
  {
   "cell_type": "code",
   "execution_count": null,
   "id": "d4c77b5e",
   "metadata": {},
   "outputs": [],
   "source": [
    "x"
   ]
  },
  {
   "cell_type": "code",
   "execution_count": null,
   "id": "a2de1cb1",
   "metadata": {},
   "outputs": [],
   "source": [
    "num=int(input('Enter a number. '))"
   ]
  },
  {
   "cell_type": "code",
   "execution_count": null,
   "id": "7066d18f",
   "metadata": {},
   "outputs": [],
   "source": [
    "num"
   ]
  },
  {
   "cell_type": "code",
   "execution_count": null,
   "id": "34c488db",
   "metadata": {},
   "outputs": [],
   "source": [
    "temperature=float(input('What is the temperature? '))"
   ]
  },
  {
   "cell_type": "code",
   "execution_count": null,
   "id": "076bdd7c",
   "metadata": {},
   "outputs": [],
   "source": [
    "temperature"
   ]
  },
  {
   "cell_type": "code",
   "execution_count": null,
   "id": "18f102d2",
   "metadata": {},
   "outputs": [],
   "source": [
    "first_name=input('Enter your first name: ')\n",
    "last_name=input('Enter your last name: ')"
   ]
  },
  {
   "cell_type": "code",
   "execution_count": null,
   "id": "1cd82938",
   "metadata": {},
   "outputs": [],
   "source": [
    "print('My name is', first_name, last_name)"
   ]
  },
  {
   "cell_type": "code",
   "execution_count": null,
   "id": "de26188f",
   "metadata": {},
   "outputs": [],
   "source": [
    "string_value=input('How many hours did you work? ')\n",
    "hours=int(string_value)\n",
    "hours"
   ]
  },
  {
   "cell_type": "code",
   "execution_count": null,
   "id": "ab7771c2",
   "metadata": {},
   "outputs": [],
   "source": [
    "hours=int(input('How many hours did you work? '))\n",
    "hours"
   ]
  },
  {
   "cell_type": "code",
   "execution_count": null,
   "id": "9d401fb5",
   "metadata": {},
   "outputs": [],
   "source": [
    "pay_rate=float(input('Enter your hourly pay rate '))"
   ]
  },
  {
   "cell_type": "code",
   "execution_count": null,
   "id": "2bc7da9e",
   "metadata": {},
   "outputs": [],
   "source": [
    "pay_rate"
   ]
  },
  {
   "cell_type": "code",
   "execution_count": null,
   "id": "a68220c1",
   "metadata": {},
   "outputs": [],
   "source": [
    "name = input('What is your name? ')\n",
    "age = int(input('How old are you? '))\n",
    "income = float(input('What is your income? '))\n",
    "\n",
    "print('Here is the data you entered:')\n",
    "print('name:', name)\n",
    "print('age:', age)\n",
    "print('income', income)"
   ]
  },
  {
   "cell_type": "code",
   "execution_count": null,
   "id": "c9736558",
   "metadata": {},
   "outputs": [],
   "source": [
    "salary=2500.0\n",
    "bonus=1200.0\n",
    "pay=salary+bonus\n",
    "print('Your pay is', pay,)"
   ]
  },
  {
   "cell_type": "code",
   "execution_count": null,
   "id": "76586bc7",
   "metadata": {},
   "outputs": [],
   "source": [
    "original_price = float(input(\"Enter the item's original price:\"))\n",
    "\n",
    "discount = original_price * 0.2\n",
    "\n",
    "sales_price = original_price - discount\n",
    "print('The sales price is', sales_price)"
   ]
  },
  {
   "cell_type": "raw",
   "id": "8fdf484b",
   "metadata": {},
   "source": [
    "5/2"
   ]
  },
  {
   "cell_type": "code",
   "execution_count": null,
   "id": "a4ee4e63",
   "metadata": {},
   "outputs": [],
   "source": [
    "5/2"
   ]
  },
  {
   "cell_type": "code",
   "execution_count": null,
   "id": "1b8ec502",
   "metadata": {},
   "outputs": [],
   "source": [
    "5//2"
   ]
  },
  {
   "cell_type": "code",
   "execution_count": null,
   "id": "e9b18e09",
   "metadata": {},
   "outputs": [],
   "source": [
    "-5//2"
   ]
  },
  {
   "cell_type": "code",
   "execution_count": null,
   "id": "c1e38318",
   "metadata": {},
   "outputs": [],
   "source": [
    "outcome=12.0+6.0/3.0"
   ]
  },
  {
   "cell_type": "code",
   "execution_count": null,
   "id": "313a4de7",
   "metadata": {},
   "outputs": [],
   "source": [
    "5**2"
   ]
  },
  {
   "cell_type": "code",
   "execution_count": null,
   "id": "5d79e12a",
   "metadata": {},
   "outputs": [],
   "source": [
    "9%2"
   ]
  },
  {
   "cell_type": "code",
   "execution_count": null,
   "id": "1d746d63",
   "metadata": {},
   "outputs": [],
   "source": [
    "total_seconds=float(input('Enter number of seconds: '))"
   ]
  },
  {
   "cell_type": "code",
   "execution_count": null,
   "id": "4f1d12c6",
   "metadata": {},
   "outputs": [],
   "source": [
    "fvalue=-2.9\n",
    "ivalue=int(fvalue)"
   ]
  },
  {
   "cell_type": "code",
   "execution_count": null,
   "id": "3b0ab127",
   "metadata": {},
   "outputs": [],
   "source": [
    "result=var1*2+var2*3+\\\n",
    "var3*4+var4*5"
   ]
  },
  {
   "cell_type": "code",
   "execution_count": null,
   "id": "f7b710ad",
   "metadata": {},
   "outputs": [],
   "source": [
    "message = ('Hello ' + 'World')\n",
    "print(message)"
   ]
  },
  {
   "cell_type": "code",
   "execution_count": null,
   "id": "37b5bfad",
   "metadata": {},
   "outputs": [],
   "source": [
    "first_name=input('Enter your first name ')\n",
    "last_name=input('Enter your last name ')\n",
    "full_name=first_name+ ' ' + last_name\n",
    "print('Your full name is ' + full_name )"
   ]
  },
  {
   "cell_type": "code",
   "execution_count": null,
   "id": "9449dc09",
   "metadata": {},
   "outputs": [],
   "source": [
    "print('one', end=' ')\n",
    "print('two', end=' ')\n",
    "print('three')\n",
    "      "
   ]
  },
  {
   "cell_type": "code",
   "execution_count": null,
   "id": "1a4dd06c",
   "metadata": {},
   "outputs": [],
   "source": [
    "print('One', 'Two', 'Three')"
   ]
  },
  {
   "cell_type": "code",
   "execution_count": null,
   "id": "30c720c8",
   "metadata": {},
   "outputs": [],
   "source": [
    "print('one\\ntow\\nthree')"
   ]
  },
  {
   "cell_type": "code",
   "execution_count": null,
   "id": "09065931",
   "metadata": {
    "scrolled": true
   },
   "outputs": [],
   "source": [
    "print('Mon\\tTues\\tWed')"
   ]
  },
  {
   "cell_type": "code",
   "execution_count": null,
   "id": "56bb7792",
   "metadata": {},
   "outputs": [],
   "source": [
    "print(\"Your assignment is to read \\\"Hamlett\\\" by tomorrow\")"
   ]
  },
  {
   "cell_type": "code",
   "execution_count": null,
   "id": "f2922e29",
   "metadata": {},
   "outputs": [],
   "source": [
    "print('Hello World')"
   ]
  },
  {
   "cell_type": "code",
   "execution_count": null,
   "id": "4f65381f",
   "metadata": {},
   "outputs": [],
   "source": [
    "print(f'hello world')"
   ]
  },
  {
   "cell_type": "code",
   "execution_count": null,
   "id": "13ea026a",
   "metadata": {},
   "outputs": [],
   "source": [
    "name = 'johnny'\n",
    "print(f'hello {name}.')"
   ]
  },
  {
   "cell_type": "code",
   "execution_count": null,
   "id": "347ccb06",
   "metadata": {},
   "outputs": [],
   "source": [
    "name = 'johnny'\n",
    "print(f'hello {name}.')"
   ]
  },
  {
   "cell_type": "code",
   "execution_count": null,
   "id": "30d70175",
   "metadata": {},
   "outputs": [],
   "source": [
    "print(f'The value is{10+2}.')"
   ]
  },
  {
   "cell_type": "code",
   "execution_count": null,
   "id": "e7827adb",
   "metadata": {},
   "outputs": [],
   "source": [
    "new = good\n",
    "print(f'God is {new}' )"
   ]
  },
  {
   "cell_type": "code",
   "execution_count": null,
   "id": "e05cef74",
   "metadata": {},
   "outputs": [],
   "source": [
    "amount_due = 5000.0\n",
    "monthly_payment =  amount_due/12.0\n",
    "print(f'the monthly payment is {monthly_payment:.2f}.')"
   ]
  },
  {
   "cell_type": "code",
   "execution_count": null,
   "id": "0fd74829",
   "metadata": {},
   "outputs": [],
   "source": [
    "number = 123456890.1234\n",
    "print(f'{number:,}')"
   ]
  },
  {
   "cell_type": "code",
   "execution_count": null,
   "id": "ebdbc399",
   "metadata": {},
   "outputs": [],
   "source": [
    "discount = 0.5\n",
    "print(f'{discount:.0%}')"
   ]
  },
  {
   "cell_type": "code",
   "execution_count": null,
   "id": "023264a5",
   "metadata": {},
   "outputs": [],
   "source": [
    "number = 12345.6789\n",
    "print(f'{number:e}')"
   ]
  },
  {
   "cell_type": "code",
   "execution_count": null,
   "id": "4482d735",
   "metadata": {},
   "outputs": [],
   "source": [
    "number = 12345.67890\n",
    "print(f'The number is {number:,.2f}')"
   ]
  },
  {
   "cell_type": "code",
   "execution_count": null,
   "id": "ce6c2566",
   "metadata": {},
   "outputs": [],
   "source": [
    "print(f'{number:^10,.2f}')"
   ]
  },
  {
   "cell_type": "code",
   "execution_count": null,
   "id": "b083bd44",
   "metadata": {},
   "outputs": [],
   "source": [
    "print(f'{number:10^,.2f}') "
   ]
  },
  {
   "cell_type": "code",
   "execution_count": null,
   "id": "955bcf11",
   "metadata": {},
   "outputs": [],
   "source": [
    "Name ='Abby Lloyd'\n",
    "Name ='George Flyod'\n",
    "Name ='Trina Jones'\n",
    "print(f'Employee name: {name}, ' + \n",
    "      f'{name}, ' + \n",
    "      f'{name})"
   ]
  },
  {
   "cell_type": "code",
   "execution_count": 4,
   "id": "5de2bf21",
   "metadata": {},
   "outputs": [],
   "source": [
    "import turtle\n",
    "turtle.showturtle()\n",
    "turtle.forward(200)\n",
    "turtle.left(45)\n",
    "turtle.right(75)\n",
    "turtle.forward(45)"
   ]
  },
  {
   "cell_type": "code",
   "execution_count": 6,
   "id": "350d9c69",
   "metadata": {},
   "outputs": [],
   "source": [
    "import turtle\n",
    "turtle.showturtle()\n",
    "turtle.forward(100)\n",
    "turtle.right(45)\n",
    "turtle.forward(75)\n",
    "turtle.setheading(45)"
   ]
  },
  {
   "cell_type": "code",
   "execution_count": 5,
   "id": "d160dd6f",
   "metadata": {},
   "outputs": [],
   "source": [
    "import turtle\n",
    "turtle.showturtle()\n",
    "turtle.forward(50)\n",
    "turtle.setheading(90)\n",
    "turtle.forward(100)\n",
    "turtle.setheading(90)"
   ]
  },
  {
   "cell_type": "code",
   "execution_count": 10,
   "id": "9a902ae2",
   "metadata": {},
   "outputs": [],
   "source": [
    "import turtle\n",
    "turtle.showturtle()\n",
    "turtle.setup(640,480)\n",
    "turtle.circle(100)\n",
    "turtle.setheading(270)\n",
    "turtle.forward(100)\n",
    "turtle.left(45)"
   ]
  },
  {
   "cell_type": "code",
   "execution_count": null,
   "id": "897dd099",
   "metadata": {},
   "outputs": [],
   "source": []
  }
 ],
 "metadata": {
  "kernelspec": {
   "display_name": "Python 3 (ipykernel)",
   "language": "python",
   "name": "python3"
  },
  "language_info": {
   "codemirror_mode": {
    "name": "ipython",
    "version": 3
   },
   "file_extension": ".py",
   "mimetype": "text/x-python",
   "name": "python",
   "nbconvert_exporter": "python",
   "pygments_lexer": "ipython3",
   "version": "3.10.9"
  }
 },
 "nbformat": 4,
 "nbformat_minor": 5
}
