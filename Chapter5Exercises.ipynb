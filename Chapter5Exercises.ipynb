{
 "cells": [
  {
   "cell_type": "markdown",
   "id": "ef73ebfd",
   "metadata": {},
   "source": [
    "# Chapter 5 Algorithm Workbench\n",
    "# Problem #2"
   ]
  },
  {
   "cell_type": "code",
   "execution_count": 1,
   "id": "9bf84606",
   "metadata": {},
   "outputs": [
    {
     "name": "stdout",
     "output_type": "stream",
     "text": [
      "12\n"
     ]
    }
   ],
   "source": [
    "# I will write a statement that calls the def function.\n",
    "# I will pass 12 as an argument.\n",
    "# I will create a function header.\n",
    "\n",
    "def show_value():\n",
    "    print ('12')\n",
    "    \n",
    "# I will call the function    \n",
    "      \n",
    "show_value()\n",
    "    "
   ]
  },
  {
   "cell_type": "code",
   "execution_count": null,
   "id": "22abe943",
   "metadata": {},
   "outputs": [],
   "source": []
  }
 ],
 "metadata": {
  "kernelspec": {
   "display_name": "Python 3 (ipykernel)",
   "language": "python",
   "name": "python3"
  },
  "language_info": {
   "codemirror_mode": {
    "name": "ipython",
    "version": 3
   },
   "file_extension": ".py",
   "mimetype": "text/x-python",
   "name": "python",
   "nbconvert_exporter": "python",
   "pygments_lexer": "ipython3",
   "version": "3.10.9"
  }
 },
 "nbformat": 4,
 "nbformat_minor": 5
}
