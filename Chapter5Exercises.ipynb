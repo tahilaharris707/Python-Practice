{
 "cells": [
  {
   "cell_type": "markdown",
   "id": "ef73ebfd",
   "metadata": {},
   "source": [
    "# Chapter 5 Algorithm Workbench\n",
    "# Problem #2"
   ]
  },
  {
   "cell_type": "code",
   "execution_count": 1,
   "id": "9bf84606",
   "metadata": {},
   "outputs": [
    {
     "name": "stdout",
     "output_type": "stream",
     "text": [
      "12\n"
     ]
    }
   ],
   "source": [
    "# I will write a statement that calls the def function.\n",
    "# I will pass 12 as an argument.\n",
    "# I will create a function header.\n",
    "\n",
    "def show_value():\n",
    "    print ('12')\n",
    "    \n",
    "# I will call the function    \n",
    "      \n",
    "show_value()\n",
    "    "
   ]
  },
  {
   "cell_type": "markdown",
   "id": "4901861a",
   "metadata": {},
   "source": [
    "## Algorithm Workbench Problem #4\n"
   ]
  },
  {
   "cell_type": "code",
   "execution_count": 1,
   "id": "f42df706",
   "metadata": {},
   "outputs": [
    {
     "name": "stdout",
     "output_type": "stream",
     "text": [
      "1 3.4\n",
      "0 0\n",
      "1 3.4\n"
     ]
    }
   ],
   "source": [
    "# I will input a program to see what it will display\n",
    "\n",
    "def main():\n",
    "    x = 1\n",
    "    y = 3.4\n",
    "    print(x,y)\n",
    "    change_us(x,y)\n",
    "    print(x,y)\n",
    "def change_us(a,b):\n",
    "    a = 0\n",
    "    b = 0\n",
    "    print(a,b)\n",
    "main()\n",
    "\n",
    "# I believe it will display 1, 3.4, 0,0\n",
    "        "
   ]
  },
  {
   "cell_type": "markdown",
   "id": "859d0e1c",
   "metadata": {},
   "source": [
    "## Programming Exercise Problem #1"
   ]
  },
  {
   "cell_type": "code",
   "execution_count": null,
   "id": "0c1b108f",
   "metadata": {},
   "outputs": [],
   "source": [
    "# I will create a main function to prompt the user to enter the distance in kilometers.\n",
    "\n",
    "# I will create a global constant and assign it the value 0.6214\n",
    "\n",
    "conversion = 0.6214\n",
    "\n",
    "def main():\n",
    "    kilometers = float(input('Enter a distance in kilometers: '))\n",
    "    "
   ]
  }
 ],
 "metadata": {
  "kernelspec": {
   "display_name": "Python 3 (ipykernel)",
   "language": "python",
   "name": "python3"
  },
  "language_info": {
   "codemirror_mode": {
    "name": "ipython",
    "version": 3
   },
   "file_extension": ".py",
   "mimetype": "text/x-python",
   "name": "python",
   "nbconvert_exporter": "python",
   "pygments_lexer": "ipython3",
   "version": "3.10.9"
  }
 },
 "nbformat": 4,
 "nbformat_minor": 5
}
