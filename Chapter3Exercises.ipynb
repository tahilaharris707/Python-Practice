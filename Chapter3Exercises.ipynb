{
 "cells": [
  {
   "cell_type": "markdown",
   "id": "456a4043",
   "metadata": {},
   "source": [
    "# Chapter 3 Exercises\n",
    "\n",
    "## Algorithm Workbench Problem #4"
   ]
  },
  {
   "cell_type": "markdown",
   "id": "abfadaec",
   "metadata": {},
   "source": [
    "I will correctly align and indent the following code that contains several nested if-else statements"
   ]
  },
  {
   "cell_type": "code",
   "execution_count": 1,
   "id": "2291351b",
   "metadata": {},
   "outputs": [
    {
     "ename": "SyntaxError",
     "evalue": "invalid non-printable character U+00A0 (537320763.py, line 1)",
     "output_type": "error",
     "traceback": [
      "\u001b[1;36m  Cell \u001b[1;32mIn[1], line 1\u001b[1;36m\u001b[0m\n\u001b[1;33m    if score >= A_score:\u001b[0m\n\u001b[1;37m      ^\u001b[0m\n\u001b[1;31mSyntaxError\u001b[0m\u001b[1;31m:\u001b[0m invalid non-printable character U+00A0\n"
     ]
    }
   ],
   "source": [
    "if score >= A_score: \n",
    "print('Your grade is A.') \n",
    "else: \n",
    "if score >= B_score: \n",
    "print('Your grade is B.') \n",
    "else: \n",
    "if score >= C_score: \n",
    "print('Your grade is C.') \n",
    "else: \n",
    "if score >= D_score: \n",
    "print('Your grade is D.') \n",
    "else: \n",
    "print('Your grade is F.') "
   ]
  },
  {
   "cell_type": "code",
   "execution_count": null,
   "id": "3d3a45a0",
   "metadata": {},
   "outputs": [],
   "source": [
    "if score >= A_score:\n",
    "    print('Your grade is A. ')\n",
    "else:\n",
    "    if score >= B_score:\n",
    "        print('Your grade is B. ')\n",
    "    else:\n",
    "        if score >= C_score:\n",
    "            print('Your grade is C. ')\n",
    "        else:\n",
    "            if score >= D_score:\n",
    "                print('Your grade is D. ')\n",
    "            else:\n",
    "                print('Your grade is F. ')\n",
    "            "
   ]
  },
  {
   "cell_type": "markdown",
   "id": "b6bec459",
   "metadata": {},
   "source": [
    "## Algorithm Workbench Problem #5"
   ]
  },
  {
   "cell_type": "code",
   "execution_count": null,
   "id": "2457a0d4",
   "metadata": {},
   "outputs": [],
   "source": [
    "# I will write a nested decision structure to display which amount is greater\n",
    "# I will assign Amount1 and Amount2 a value"
   ]
  },
  {
   "cell_type": "code",
   "execution_count": null,
   "id": "e533a8cc",
   "metadata": {},
   "outputs": [],
   "source": [
    "Amount1 = 50\n",
    "Amount2 = 15\n",
    "\n",
    "# I will write a program using the if function to determine the greater amount of 1 and 2"
   ]
  },
  {
   "cell_type": "code",
   "execution_count": null,
   "id": "924d2425",
   "metadata": {},
   "outputs": [],
   "source": []
  },
  {
   "cell_type": "code",
   "execution_count": null,
   "id": "dd1fb583",
   "metadata": {},
   "outputs": [],
   "source": []
  },
  {
   "cell_type": "code",
   "execution_count": null,
   "id": "12409700",
   "metadata": {},
   "outputs": [],
   "source": []
  },
  {
   "cell_type": "code",
   "execution_count": null,
   "id": "b5d4a445",
   "metadata": {},
   "outputs": [],
   "source": [
    "# I believe the output will print the greater amount, which is Amount2"
   ]
  },
  {
   "cell_type": "markdown",
   "id": "066d3219",
   "metadata": {},
   "source": [
    "## Programming Exercises Problem #1 Day of the Week"
   ]
  },
  {
   "cell_type": "code",
   "execution_count": null,
   "id": "9e56d535",
   "metadata": {},
   "outputs": [],
   "source": [
    "# I will assign a number to correspond to each day of the week."
   ]
  },
  {
   "cell_type": "code",
   "execution_count": null,
   "id": "4f857418",
   "metadata": {},
   "outputs": [],
   "source": [
    "Monday =input(int) \n",
    "Tuesday = input(int)\n",
    "Wednesday = input(int)\n",
    "Thursday = input(int)\n",
    "Friday = input(int)\n",
    "Saturday = input(int)\n",
    "Sunday = input(int)\n",
    "\n",
    "# I will create a program that will display an error message if a number entered is outside of the range 1-7."
   ]
  },
  {
   "cell_type": "code",
   "execution_count": null,
   "id": "ccc8eef0",
   "metadata": {},
   "outputs": [],
   "source": [
    "if number '1' '2' > 8: print(Error Message)"
   ]
  },
  {
   "cell_type": "markdown",
   "id": "43f790c8",
   "metadata": {},
   "source": [
    "## Programming Exercise Problem #5 Mass and Weight"
   ]
  },
  {
   "cell_type": "code",
   "execution_count": null,
   "id": "b7abd33f",
   "metadata": {},
   "outputs": [],
   "source": [
    "# I will assign a number to the following statement: weight = mass x 9.8"
   ]
  },
  {
   "cell_type": "code",
   "execution_count": null,
   "id": "e89f0baf",
   "metadata": {},
   "outputs": [],
   "source": [
    "mass= 50"
   ]
  },
  {
   "cell_type": "code",
   "execution_count": null,
   "id": "05e47bb7",
   "metadata": {},
   "outputs": [],
   "source": [
    "# I will convert the mass into kilograms\n",
    "\n",
    "mass = 0.05\n",
    "\n",
    "# I will create a statement function\n",
    "\n",
    "weight =float(input('enter a number')) 0.05*9.8"
   ]
  },
  {
   "cell_type": "markdown",
   "id": "2bfdf224",
   "metadata": {},
   "source": [
    "## Programming Exercise Problem #15 (February Days)"
   ]
  },
  {
   "cell_type": "code",
   "execution_count": null,
   "id": "659300f3",
   "metadata": {},
   "outputs": [],
   "source": [
    "# I will write a program that displays the number of days in February for the year of 2010\n",
    "\n",
    "February = 28\n",
    "print(February)"
   ]
  },
  {
   "cell_type": "code",
   "execution_count": null,
   "id": "51383a5d",
   "metadata": {},
   "outputs": [],
   "source": []
  },
  {
   "cell_type": "code",
   "execution_count": null,
   "id": "d02f5884",
   "metadata": {},
   "outputs": [],
   "source": []
  },
  {
   "cell_type": "code",
   "execution_count": null,
   "id": "09bcb7b1",
   "metadata": {},
   "outputs": [],
   "source": []
  },
  {
   "cell_type": "code",
   "execution_count": null,
   "id": "5f6443ec",
   "metadata": {},
   "outputs": [],
   "source": []
  }
 ],
 "metadata": {
  "kernelspec": {
   "display_name": "Python 3 (ipykernel)",
   "language": "python",
   "name": "python3"
  },
  "language_info": {
   "codemirror_mode": {
    "name": "ipython",
    "version": 3
   },
   "file_extension": ".py",
   "mimetype": "text/x-python",
   "name": "python",
   "nbconvert_exporter": "python",
   "pygments_lexer": "ipython3",
   "version": "3.10.9"
  }
 },
 "nbformat": 4,
 "nbformat_minor": 5
}
