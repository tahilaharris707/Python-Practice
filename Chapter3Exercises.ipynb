{
 "cells": [
  {
   "cell_type": "markdown",
   "id": "456a4043",
   "metadata": {},
   "source": [
    "# Chapter 3 Exercises\n",
    "\n",
    "## Algorithm Workbench Problem #4"
   ]
  },
  {
   "cell_type": "markdown",
   "id": "abfadaec",
   "metadata": {},
   "source": [
    "I will correctly align and indent the following code that contains several nested if-else statements"
   ]
  },
  {
   "cell_type": "code",
   "execution_count": 1,
   "id": "2291351b",
   "metadata": {},
   "outputs": [
    {
     "ename": "SyntaxError",
     "evalue": "invalid non-printable character U+00A0 (537320763.py, line 1)",
     "output_type": "error",
     "traceback": [
      "\u001b[1;36m  Cell \u001b[1;32mIn[1], line 1\u001b[1;36m\u001b[0m\n\u001b[1;33m    if score >= A_score:\u001b[0m\n\u001b[1;37m      ^\u001b[0m\n\u001b[1;31mSyntaxError\u001b[0m\u001b[1;31m:\u001b[0m invalid non-printable character U+00A0\n"
     ]
    }
   ],
   "source": [
    "if score >= A_score: \n",
    "print('Your grade is A.') \n",
    "else: \n",
    "if score >= B_score: \n",
    "print('Your grade is B.') \n",
    "else: \n",
    "if score >= C_score: \n",
    "print('Your grade is C.') \n",
    "else: \n",
    "if score >= D_score: \n",
    "print('Your grade is D.') \n",
    "else: \n",
    "print('Your grade is F.') "
   ]
  },
  {
   "cell_type": "code",
   "execution_count": null,
   "id": "3d3a45a0",
   "metadata": {},
   "outputs": [],
   "source": [
    "if score >= A_score:\n",
    "    print('Your grade is A. ')\n",
    "else:\n",
    "    if score >= B_score:\n",
    "        print('Your grade is B. ')\n",
    "    else:\n",
    "        if score >= C_score:\n",
    "            print('Your grade is C. ')\n",
    "        else:\n",
    "            if score >= D_score:\n",
    "                print('Your grade is D. ')\n",
    "            else:\n",
    "                print('Your grade is F. ')\n",
    "            "
   ]
  },
  {
   "cell_type": "markdown",
   "id": "b6bec459",
   "metadata": {},
   "source": [
    "## Algorithm Workbench Problem #5"
   ]
  },
  {
   "cell_type": "code",
   "execution_count": null,
   "id": "2457a0d4",
   "metadata": {},
   "outputs": [],
   "source": [
    "# I will write a nested decision structure to display which amount is greater\n",
    "# I will assign Amount1 and Amount2 a value"
   ]
  },
  {
   "cell_type": "code",
   "execution_count": null,
   "id": "e533a8cc",
   "metadata": {},
   "outputs": [],
   "source": [
    "print(\"Is Amount1 greater?\")\n",
    "Amount =input()"
   ]
  },
  {
   "cell_type": "code",
   "execution_count": null,
   "id": "924d2425",
   "metadata": {},
   "outputs": [],
   "source": [
    "print(\"Is Amount2 lesser?\")\n",
    "Amount =input()"
   ]
  },
  {
   "cell_type": "code",
   "execution_count": null,
   "id": "dd1fb583",
   "metadata": {},
   "outputs": [],
   "source": [
    "print(\"The greater amount is: \")"
   ]
  },
  {
   "cell_type": "code",
   "execution_count": 4,
   "id": "12409700",
   "metadata": {},
   "outputs": [
    {
     "ename": "SyntaxError",
     "evalue": "invalid syntax (780861071.py, line 1)",
     "output_type": "error",
     "traceback": [
      "\u001b[1;36m  Cell \u001b[1;32mIn[4], line 1\u001b[1;36m\u001b[0m\n\u001b[1;33m    if Amount1 >10 'Amount1' and Amount2 <100 'Amount2':\u001b[0m\n\u001b[1;37m                   ^\u001b[0m\n\u001b[1;31mSyntaxError\u001b[0m\u001b[1;31m:\u001b[0m invalid syntax\n"
     ]
    }
   ],
   "source": [
    "if Amount1 >10 'Amount1' and Amount2 <100 'Amount2':\n",
    "    print(\"Amount2\")\n",
    "    \n",
    "print(\"Amount1\")\n",
    "print(\"Amount2\")"
   ]
  },
  {
   "cell_type": "code",
   "execution_count": null,
   "id": "b5d4a445",
   "metadata": {},
   "outputs": [],
   "source": [
    "# I believe the output will print the greater amount, which is Amount2"
   ]
  },
  {
   "cell_type": "markdown",
   "id": "066d3219",
   "metadata": {},
   "source": [
    "## Programming Exercises Problem #1"
   ]
  },
  {
   "cell_type": "code",
   "execution_count": null,
   "id": "9e56d535",
   "metadata": {},
   "outputs": [],
   "source": [
    "# I will assign a number to correspond to each day of the week."
   ]
  },
  {
   "cell_type": "code",
   "execution_count": 2,
   "id": "4f857418",
   "metadata": {},
   "outputs": [
    {
     "name": "stdout",
     "output_type": "stream",
     "text": [
      "<class 'int'>1\n",
      "<class 'int'>2\n",
      "<class 'int'>3\n",
      "<class 'int'>4\n",
      "<class 'int'>5\n",
      "<class 'int'>6\n",
      "<class 'int'>7\n"
     ]
    }
   ],
   "source": [
    "Monday =input(int) \n",
    "Tuesday = input(int)\n",
    "Wednesday = input(int)\n",
    "Thursday = input(int)\n",
    "Friday = input(int)\n",
    "Saturday = input(int)\n",
    "Sunday = input(int)\n",
    "\n",
    "# I will create a program that will display an error message if a number entered is outside of the range 1-7."
   ]
  },
  {
   "cell_type": "code",
   "execution_count": 3,
   "id": "ccc8eef0",
   "metadata": {},
   "outputs": [
    {
     "ename": "NameError",
     "evalue": "name 'number' is not defined",
     "output_type": "error",
     "traceback": [
      "\u001b[1;31m---------------------------------------------------------------------------\u001b[0m",
      "\u001b[1;31mNameError\u001b[0m                                 Traceback (most recent call last)",
      "Cell \u001b[1;32mIn[3], line 1\u001b[0m\n\u001b[1;32m----> 1\u001b[0m \u001b[38;5;28;01mif\u001b[39;00m number \u001b[38;5;241m>\u001b[39m \u001b[38;5;241m8\u001b[39m: \u001b[38;5;28mprint\u001b[39m(\u001b[38;5;124m'\u001b[39m\u001b[38;5;124mError Message\u001b[39m\u001b[38;5;124m'\u001b[39m)\n",
      "\u001b[1;31mNameError\u001b[0m: name 'number' is not defined"
     ]
    }
   ],
   "source": [
    "if number > 8: print('Error Message')"
   ]
  },
  {
   "cell_type": "markdown",
   "id": "6834aaf6",
   "metadata": {},
   "source": [
    "## Programming Exercise Problem #5"
   ]
  },
  {
   "cell_type": "code",
   "execution_count": null,
   "id": "b7abd33f",
   "metadata": {},
   "outputs": [],
   "source": [
    "# I will assign a number to the following statement: weight = mass x 9.8"
   ]
  },
  {
   "cell_type": "code",
   "execution_count": 6,
   "id": "e89f0baf",
   "metadata": {},
   "outputs": [],
   "source": [
    "mass= 50"
   ]
  },
  {
   "cell_type": "code",
   "execution_count": null,
   "id": "13edb7a0",
   "metadata": {},
   "outputs": [],
   "source": [
    "# I will convert the mass into kilograms\n",
    "\n",
    "mass = 0.05\n",
    "\n"
   ]
  }
 ],
 "metadata": {
  "kernelspec": {
   "display_name": "Python 3 (ipykernel)",
   "language": "python",
   "name": "python3"
  },
  "language_info": {
   "codemirror_mode": {
    "name": "ipython",
    "version": 3
   },
   "file_extension": ".py",
   "mimetype": "text/x-python",
   "name": "python",
   "nbconvert_exporter": "python",
   "pygments_lexer": "ipython3",
   "version": "3.10.9"
  }
 },
 "nbformat": 4,
 "nbformat_minor": 5
}
