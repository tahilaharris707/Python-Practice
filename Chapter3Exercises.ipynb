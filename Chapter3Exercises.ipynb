{
 "cells": [
  {
   "cell_type": "markdown",
   "id": "76171c31",
   "metadata": {},
   "source": [
    "# Chapter 3 Exercises\n",
    "\n",
    "## Algorithm Workbench Problem #4"
   ]
  },
  {
   "cell_type": "markdown",
   "id": "8db5df02",
   "metadata": {},
   "source": [
    "I will correctly align and indent the following code that contains several nested if-else statements"
   ]
  },
  {
   "cell_type": "code",
   "execution_count": null,
   "id": "7673d9b6",
   "metadata": {},
   "outputs": [],
   "source": [
    "if score >= A_score: \n",
    "print('Your grade is A.') \n",
    "else: \n",
    "if score >= B_score: \n",
    "print('Your grade is B.') \n",
    "else: \n",
    "if score >= C_score: \n",
    "print('Your grade is C.') \n",
    "else: \n",
    "if score >= D_score: \n",
    "print('Your grade is D.') \n",
    "else: \n",
    "print('Your grade is F.') "
   ]
  },
  {
   "cell_type": "code",
   "execution_count": null,
   "id": "5a8df9a0",
   "metadata": {},
   "outputs": [],
   "source": [
    "if score >= A_score:\n",
    "    print('Your grade is A. ')\n",
    "else:\n",
    "    if score >= B_score:\n",
    "        print('Your grade is B. ')\n",
    "    else:\n",
    "        if score >= C_score:\n",
    "            print('Your grade is C. ')\n",
    "        else:\n",
    "            if score >= D_score:\n",
    "                print('Your grade is D. ')\n",
    "            else:\n",
    "                print('Your grade is F. ')\n",
    "            "
   ]
  }
 ],
 "metadata": {
  "kernelspec": {
   "display_name": "Python 3 (ipykernel)",
   "language": "python",
   "name": "python3"
  },
  "language_info": {
   "codemirror_mode": {
    "name": "ipython",
    "version": 3
   },
   "file_extension": ".py",
   "mimetype": "text/x-python",
   "name": "python",
   "nbconvert_exporter": "python",
   "pygments_lexer": "ipython3",
   "version": "3.10.9"
  }
 },
 "nbformat": 4,
 "nbformat_minor": 5
}
