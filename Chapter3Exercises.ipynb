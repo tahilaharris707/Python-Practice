{
 "cells": [
  {
   "cell_type": "markdown",
   "id": "456a4043",
   "metadata": {},
   "source": [
    "# Chapter 3 Exercises\n",
    "\n",
    "## Algorithm Workbench Problem #4"
   ]
  },
  {
   "cell_type": "markdown",
   "id": "abfadaec",
   "metadata": {},
   "source": [
    "I will correctly align and indent the following code that contains several nested if-else statements"
   ]
  },
  {
   "cell_type": "code",
   "execution_count": 1,
   "id": "2291351b",
   "metadata": {},
   "outputs": [
    {
     "ename": "SyntaxError",
     "evalue": "invalid non-printable character U+00A0 (537320763.py, line 1)",
     "output_type": "error",
     "traceback": [
      "\u001b[1;36m  Cell \u001b[1;32mIn[1], line 1\u001b[1;36m\u001b[0m\n\u001b[1;33m    if score >= A_score:\u001b[0m\n\u001b[1;37m      ^\u001b[0m\n\u001b[1;31mSyntaxError\u001b[0m\u001b[1;31m:\u001b[0m invalid non-printable character U+00A0\n"
     ]
    }
   ],
   "source": [
    "if score >= A_score: \n",
    "print('Your grade is A.') \n",
    "else: \n",
    "if score >= B_score: \n",
    "print('Your grade is B.') \n",
    "else: \n",
    "if score >= C_score: \n",
    "print('Your grade is C.') \n",
    "else: \n",
    "if score >= D_score: \n",
    "print('Your grade is D.') \n",
    "else: \n",
    "print('Your grade is F.') "
   ]
  },
  {
   "cell_type": "code",
   "execution_count": null,
   "id": "3d3a45a0",
   "metadata": {},
   "outputs": [],
   "source": [
    "if score >= A_score:\n",
    "    print('Your grade is A. ')\n",
    "else:\n",
    "    if score >= B_score:\n",
    "        print('Your grade is B. ')\n",
    "    else:\n",
    "        if score >= C_score:\n",
    "            print('Your grade is C. ')\n",
    "        else:\n",
    "            if score >= D_score:\n",
    "                print('Your grade is D. ')\n",
    "            else:\n",
    "                print('Your grade is F. ')\n",
    "            "
   ]
  },
  {
   "cell_type": "markdown",
   "id": "b6bec459",
   "metadata": {},
   "source": [
    "## Algorithm Workbench Problem #5"
   ]
  },
  {
   "cell_type": "code",
   "execution_count": null,
   "id": "2457a0d4",
   "metadata": {},
   "outputs": [],
   "source": [
    "# I will write a nested decision structure to display which amount is greater\n",
    "# I will assign Amount1 and Amount2 a value"
   ]
  },
  {
   "cell_type": "code",
   "execution_count": 4,
   "id": "e533a8cc",
   "metadata": {},
   "outputs": [
    {
     "name": "stdout",
     "output_type": "stream",
     "text": [
      "Is Amount1 greater?\n",
      "15\n"
     ]
    }
   ],
   "source": [
    "print(\"Is Amount1 greater?\")\n",
    "Amount =input()"
   ]
  },
  {
   "cell_type": "code",
   "execution_count": 5,
   "id": "924d2425",
   "metadata": {},
   "outputs": [
    {
     "name": "stdout",
     "output_type": "stream",
     "text": [
      "Is Amount2 lesser?\n",
      "75\n"
     ]
    }
   ],
   "source": [
    "print(\"Is Amount2 lesser?\")\n",
    "Amount =input()"
   ]
  },
  {
   "cell_type": "code",
   "execution_count": 6,
   "id": "dd1fb583",
   "metadata": {},
   "outputs": [
    {
     "name": "stdout",
     "output_type": "stream",
     "text": [
      "The greater amount is: \n"
     ]
    }
   ],
   "source": [
    "print(\"The greater amount is: \")"
   ]
  },
  {
   "cell_type": "code",
   "execution_count": 15,
   "id": "12409700",
   "metadata": {},
   "outputs": [
    {
     "ename": "SyntaxError",
     "evalue": "invalid syntax (2389196329.py, line 1)",
     "output_type": "error",
     "traceback": [
      "\u001b[1;36m  Cell \u001b[1;32mIn[15], line 1\u001b[1;36m\u001b[0m\n\u001b[1;33m    if Amount1 !=10 'Amount1' and Amount2 !=100 'Amount2':\u001b[0m\n\u001b[1;37m                    ^\u001b[0m\n\u001b[1;31mSyntaxError\u001b[0m\u001b[1;31m:\u001b[0m invalid syntax\n"
     ]
    }
   ],
   "source": [
    "if Amount1 >10 'Amount1' and Amount2 <100 'Amount2':\n",
    "    print(\"Amount2\")\n",
    "    \n",
    "print(\"Amount1\")\n",
    "print(\"Amount2\")"
   ]
  },
  {
   "cell_type": "code",
   "execution_count": null,
   "id": "c31ccb00",
   "metadata": {},
   "outputs": [],
   "source": [
    "# I believe the output will print the greater amount, which is Amount2"
   ]
  },
  {
   "cell_type": "markdown",
   "id": "42af6672",
   "metadata": {},
   "source": [
    "## Programming Exercises Problem #1"
   ]
  },
  {
   "cell_type": "code",
   "execution_count": 16,
   "id": "48b665d8",
   "metadata": {},
   "outputs": [],
   "source": [
    "# I will assign a number to correspond to each day of the week."
   ]
  },
  {
   "cell_type": "code",
   "execution_count": null,
   "id": "17fba866",
   "metadata": {},
   "outputs": [],
   "source": [
    "Monday = 1\n",
    "Tuesday = 2\n",
    "Wednesday = 3\n",
    "Thursday = 4\n",
    "Friday = 5\n",
    "Saturday = 6\n",
    "Sunday = 7\n",
    "\n",
    "# I will create a program that will display an error message if a number entered is outside of the range 1-7."
   ]
  }
 ],
 "metadata": {
  "kernelspec": {
   "display_name": "Python 3 (ipykernel)",
   "language": "python",
   "name": "python3"
  },
  "language_info": {
   "codemirror_mode": {
    "name": "ipython",
    "version": 3
   },
   "file_extension": ".py",
   "mimetype": "text/x-python",
   "name": "python",
   "nbconvert_exporter": "python",
   "pygments_lexer": "ipython3",
   "version": "3.10.9"
  }
 },
 "nbformat": 4,
 "nbformat_minor": 5
}
