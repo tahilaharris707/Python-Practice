{
 "cells": [
  {
   "cell_type": "code",
   "execution_count": 1,
   "id": "0aaa25b6",
   "metadata": {},
   "outputs": [
    {
     "name": "stdout",
     "output_type": "stream",
     "text": [
      "[0, 1, 2, 3, 4]\n"
     ]
    }
   ],
   "source": [
    "numbers = list(range(5))\n",
    "\n",
    "print(numbers)"
   ]
  },
  {
   "cell_type": "code",
   "execution_count": 2,
   "id": "b54de9d4",
   "metadata": {},
   "outputs": [
    {
     "name": "stdout",
     "output_type": "stream",
     "text": [
      "[0, 0, 0, 0, 0]\n"
     ]
    }
   ],
   "source": [
    "numbers = [0]*5\n",
    "print(numbers)"
   ]
  },
  {
   "cell_type": "code",
   "execution_count": 3,
   "id": "0d5fe769",
   "metadata": {},
   "outputs": [
    {
     "name": "stdout",
     "output_type": "stream",
     "text": [
      "1\n",
      "2\n",
      "3\n",
      "4\n"
     ]
    }
   ],
   "source": [
    "numbers = [1,2,3,4]\n",
    "for num in numbers:\n",
    "    print(num)"
   ]
  },
  {
   "cell_type": "code",
   "execution_count": 4,
   "id": "70363019",
   "metadata": {},
   "outputs": [
    {
     "name": "stdout",
     "output_type": "stream",
     "text": [
      "[1, 2, 3, 4]\n"
     ]
    }
   ],
   "source": [
    "numbers = [1,2,3,4]\n",
    "for num in numbers:\n",
    "    num = 99\n",
    "print(numbers)"
   ]
  },
  {
   "cell_type": "code",
   "execution_count": 5,
   "id": "56b3c8f9",
   "metadata": {},
   "outputs": [
    {
     "name": "stdout",
     "output_type": "stream",
     "text": [
      "10 20 30 40\n"
     ]
    }
   ],
   "source": [
    "my_list = [10, 20, 30, 40]\n",
    "print(my_list[0], my_list[1], my_list[2], my_list[3])"
   ]
  },
  {
   "cell_type": "code",
   "execution_count": 6,
   "id": "ce610e70",
   "metadata": {},
   "outputs": [
    {
     "name": "stdout",
     "output_type": "stream",
     "text": [
      "10\n",
      "20\n",
      "30\n"
     ]
    }
   ],
   "source": [
    "my_list = [10, 20, 30]\n",
    "\n",
    "index = 0\n",
    "\n",
    "while index < 3:\n",
    "    \n",
    "    print(my_list[index])\n",
    "    \n",
    "    index += 1"
   ]
  },
  {
   "cell_type": "code",
   "execution_count": 7,
   "id": "6bae5fbd",
   "metadata": {},
   "outputs": [
    {
     "name": "stdout",
     "output_type": "stream",
     "text": [
      "4\n"
     ]
    }
   ],
   "source": [
    "my_list = [10, 20, 30, 40]\n",
    "size = len (my_list)\n",
    "print(size)"
   ]
  },
  {
   "cell_type": "code",
   "execution_count": 8,
   "id": "0064ecc3",
   "metadata": {},
   "outputs": [
    {
     "name": "stdout",
     "output_type": "stream",
     "text": [
      "10\n",
      "20\n",
      "30\n",
      "40\n"
     ]
    }
   ],
   "source": [
    "my_list = [10, 20, 30, 40]\n",
    "\n",
    "index = 0\n",
    "\n",
    "while index < len(my_list):\n",
    "    print(my_list[index])\n",
    "    index += 1\n",
    "        \n"
   ]
  },
  {
   "cell_type": "code",
   "execution_count": 9,
   "id": "f8cf950c",
   "metadata": {},
   "outputs": [
    {
     "ename": "IndexError",
     "evalue": "list assignment index out of range",
     "output_type": "error",
     "traceback": [
      "\u001b[1;31m---------------------------------------------------------------------------\u001b[0m",
      "\u001b[1;31mIndexError\u001b[0m                                Traceback (most recent call last)",
      "Cell \u001b[1;32mIn[9], line 2\u001b[0m\n\u001b[0;32m      1\u001b[0m numbers \u001b[38;5;241m=\u001b[39m [\u001b[38;5;241m1\u001b[39m,\u001b[38;5;241m2\u001b[39m,\u001b[38;5;241m3\u001b[39m,\u001b[38;5;241m4\u001b[39m,\u001b[38;5;241m5\u001b[39m]\n\u001b[1;32m----> 2\u001b[0m numbers[\u001b[38;5;241m5\u001b[39m] \u001b[38;5;241m=\u001b[39m \u001b[38;5;241m99\u001b[39m\n\u001b[0;32m      3\u001b[0m \u001b[38;5;28mprint\u001b[39m(numbers)\n",
      "\u001b[1;31mIndexError\u001b[0m: list assignment index out of range"
     ]
    }
   ],
   "source": [
    "numbers = [1,2,3,4,5]\n",
    "numbers[5] = 99\n",
    "print(numbers)"
   ]
  },
  {
   "cell_type": "code",
   "execution_count": null,
   "id": "9ae08280",
   "metadata": {},
   "outputs": [],
   "source": [
    "numbers = [0]*5\n",
    "for index in range(len(numbers)):\n",
    "    numbers[index] = 99\n",
    "print(numbers)"
   ]
  },
  {
   "cell_type": "code",
   "execution_count": null,
   "id": "b33e328c",
   "metadata": {},
   "outputs": [],
   "source": [
    "num_days = 5\n",
    "\n",
    "def main():\n",
    "    sales = [0] * num_days\n",
    "    \n",
    "    print('Enter the sales for each day.')\n",
    "    \n",
    "    for index in range(len(sales)):\n",
    "        \n",
    "        sales[index] = float(input(f'Day #{index + 1}: '))\n",
    "    \n",
    "    print('Here are the values you entered:')\n",
    "    \n",
    "    for value in sales:\n",
    "        \n",
    "        print(value)\n",
    "        \n",
    "if __name__== '__main__':\n",
    "    \n",
    "    main()"
   ]
  },
  {
   "cell_type": "code",
   "execution_count": null,
   "id": "3364e2f4",
   "metadata": {},
   "outputs": [],
   "source": [
    "list1 = [1,2,3,4]\n",
    "list2 = [5,6,7,8]\n",
    "list3 = list1 + list2\n",
    "print(list3)"
   ]
  },
  {
   "cell_type": "code",
   "execution_count": null,
   "id": "201faf4e",
   "metadata": {},
   "outputs": [],
   "source": [
    "names = ['Jessica', 'Robert', 'Ruby', 'John']\n",
    "for index in range(len(names)):\n",
    "    print(names(index))"
   ]
  },
  {
   "cell_type": "code",
   "execution_count": null,
   "id": "0a85539b",
   "metadata": {},
   "outputs": [],
   "source": [
    "names = ['Jen,' 'Barb,' 'Ruby,' 'Jason']\n",
    "\n",
    "if Ruby == names:\n",
    "\n",
    "    Ruby = names\n",
    "    print(Hello, Ruby)\n",
    "\n",
    "print(names)"
   ]
  },
  {
   "cell_type": "code",
   "execution_count": null,
   "id": "2e984889",
   "metadata": {},
   "outputs": [],
   "source": [
    "my_list = [10, 20, 30, 40]\n",
    "print(my_list)"
   ]
  },
  {
   "cell_type": "code",
   "execution_count": null,
   "id": "6ef7458d",
   "metadata": {},
   "outputs": [],
   "source": [
    "list1=[1,2,3,4]\n",
    "list2=list1\n",
    "print(list1)\n",
    "print(list2)"
   ]
  },
  {
   "cell_type": "code",
   "execution_count": null,
   "id": "01b8009d",
   "metadata": {},
   "outputs": [],
   "source": [
    "numbers1 =range(1, 100)\n",
    "numbers2=numbers1\n",
    "print(numbers1)\n",
    "print(numbers2)"
   ]
  },
  {
   "cell_type": "code",
   "execution_count": null,
   "id": "914cf01f",
   "metadata": {},
   "outputs": [],
   "source": [
    "numbers = list(range(1, 10, 2))\n",
    "print(numbers)"
   ]
  },
  {
   "cell_type": "code",
   "execution_count": null,
   "id": "f73cac29",
   "metadata": {},
   "outputs": [],
   "source": [
    "def main():\n",
    "    \n",
    "    numbers = [2,4,6,8,10]\n",
    "    \n",
    "    total = 0\n",
    "    \n",
    "    for value in numbers:\n",
    "        \n",
    "        total += value\n",
    "        \n",
    "        print(f'The total of the elements is {total}. ')\n",
    "\n",
    "if __name__=='__main__':\n",
    "    \n",
    "        main()"
   ]
  },
  {
   "cell_type": "code",
   "execution_count": null,
   "id": "79a27b62",
   "metadata": {},
   "outputs": [],
   "source": [
    "def main():\n",
    "    \n",
    "    numbers = [5, 4, 3, 2, 1]\n",
    "    \n",
    "    total = 0\n",
    "    \n",
    "    for value in numbers:\n",
    "        \n",
    "        total += value\n",
    "        \n",
    "    print(f'The total of the elements is {total}.')\n",
    "        \n",
    "if __name__=='__main__':\n",
    "    \n",
    "        main()"
   ]
  },
  {
   "cell_type": "code",
   "execution_count": null,
   "id": "0a920f1b",
   "metadata": {},
   "outputs": [],
   "source": [
    "def main():\n",
    "    \n",
    "    total_sales = 0.0\n",
    "    \n",
    "    daily_sales = [0.0, 0.0, 0.0, 0.0, 0.0, 0.0, 0.0]\n",
    "    \n",
    "    days_of_the_week = ['Sunday', 'Monday', 'Tuesday', 'Wednesday', 'Thursday', 'Friday', 'Saturday']\n",
    "    \n",
    "    for i in range (7):\n",
    "        \n",
    "        daily_sales[i] = float(input('Enter the sales for ' \\\n",
    "                                    + days_of_the_week[i] + ': '))\n",
    "        \n",
    "    for number in daily_sales:\n",
    "        \n",
    "        total_sales+=number\n",
    "        \n",
    "        print ('Total Sales for the week: $',  \\\n",
    "               format (total_sales, '.2f'), sep='')\n",
    "        \n",
    "        main()"
   ]
  },
  {
   "cell_type": "code",
   "execution_count": null,
   "id": "2257ff93",
   "metadata": {},
   "outputs": [],
   "source": [
    "def main():\n",
    "    \n",
    "    total_sales = 0.0\n",
    "    \n",
    "    daily_sales = [200.0,+ 300.0,+ 400.0]\n",
    "    \n",
    "    days_of_the_week = ['Sunday', 'Monday', 'Tuesday']\n",
    "    \n",
    "    for value in daily_sales:\n",
    "        \n",
    "        total_sales+= value\n",
    "        \n",
    "        print(f'The total daily_sales is {daily_sales}.')\n",
    "        \n",
    "        total_sales = float(input('Enter the total sales '))\n",
    "        daily_sales = float(input('Enter the Sales for the days_of_the_week '))  \n",
    "        \n",
    "if __name__== '__main__':\n",
    "   \n",
    "    main()"
   ]
  },
  {
   "cell_type": "code",
   "execution_count": 11,
   "id": "ea3f34f2",
   "metadata": {},
   "outputs": [
    {
     "name": "stdout",
     "output_type": "stream",
     "text": [
      "Sales on Sunday: 200.0\n",
      "Sales on Monday: 300.0\n",
      "Sales on Tuesday: 400.0\n",
      "Sales on Wednesday: 150.0\n",
      "Sales on Thursday: 700.0\n",
      "Sales on Friday: 2000.0\n",
      "Sales on Saturday: 515.0\n",
      "The total sales for the week is: 4265.0\n"
     ]
    }
   ],
   "source": [
    "def main():\n",
    "    total_sales = 0.0\n",
    "    daily_sales = [200.0, 300.0, 400.0, 150.0, 700.0, 2000.0, 515.0]\n",
    "    days_of_the_week = ['Sunday', 'Monday', 'Tuesday', 'Wednesday', 'Thursday', 'Friday', 'Saturday']\n",
    "\n",
    "    for i in range(len(days_of_the_week)):\n",
    "        print(f\"Sales on {days_of_the_week[i]}: {daily_sales[i]}\")\n",
    "        total_sales += daily_sales[i]\n",
    "\n",
    "    print(f'The total sales for the week is: {total_sales}')\n",
    "\n",
    "if __name__ == '__main__':\n",
    "    main()\n"
   ]
  },
  {
   "cell_type": "code",
   "execution_count": null,
   "id": "bb722866",
   "metadata": {},
   "outputs": [],
   "source": []
  },
  {
   "cell_type": "code",
   "execution_count": null,
   "id": "8598d282",
   "metadata": {},
   "outputs": [],
   "source": []
  }
 ],
 "metadata": {
  "kernelspec": {
   "display_name": "Python 3 (ipykernel)",
   "language": "python",
   "name": "python3"
  },
  "language_info": {
   "codemirror_mode": {
    "name": "ipython",
    "version": 3
   },
   "file_extension": ".py",
   "mimetype": "text/x-python",
   "name": "python",
   "nbconvert_exporter": "python",
   "pygments_lexer": "ipython3",
   "version": "3.10.9"
  }
 },
 "nbformat": 4,
 "nbformat_minor": 5
}
