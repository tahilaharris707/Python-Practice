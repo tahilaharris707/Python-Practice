{
 "cells": [
  {
   "cell_type": "code",
   "execution_count": 1,
   "id": "deb32f0d",
   "metadata": {},
   "outputs": [
    {
     "name": "stdout",
     "output_type": "stream",
     "text": [
      "B\n",
      "o\n",
      "s\n",
      "t\n",
      "o\n",
      "n\n"
     ]
    }
   ],
   "source": [
    "city='Boston'\n",
    "index=0\n",
    "while index<len(city):\n",
    "    print(city[index])\n",
    "    index+=1\n",
    "    "
   ]
  },
  {
   "cell_type": "code",
   "execution_count": 2,
   "id": "4bcbd1f7",
   "metadata": {},
   "outputs": [
    {
     "name": "stdout",
     "output_type": "stream",
     "text": [
      "hello world\n"
     ]
    }
   ],
   "source": [
    "message='hello ' + 'world'\n",
    "print(message)"
   ]
  },
  {
   "cell_type": "code",
   "execution_count": 3,
   "id": "fc03eb82",
   "metadata": {},
   "outputs": [
    {
     "name": "stdout",
     "output_type": "stream",
     "text": [
      "Emily Yeager\n"
     ]
    }
   ],
   "source": [
    "first_name = 'Emily'\n",
    "last_name = 'Yeager'\n",
    "full_name = first_name + ' ' +last_name\n",
    "print(full_name)"
   ]
  },
  {
   "cell_type": "code",
   "execution_count": 4,
   "id": "5ad94abe",
   "metadata": {},
   "outputs": [
    {
     "name": "stdout",
     "output_type": "stream",
     "text": [
      "abcdef\n"
     ]
    }
   ],
   "source": [
    "letters='abc'\n",
    "letters+='def'\n",
    "print(letters)"
   ]
  },
  {
   "cell_type": "code",
   "execution_count": 5,
   "id": "07c29807",
   "metadata": {},
   "outputs": [
    {
     "name": "stdout",
     "output_type": "stream",
     "text": [
      "Lynn\n"
     ]
    }
   ],
   "source": [
    "full_name = 'Patty Lynn Smith'\n",
    "middle_name = full_name[6:10]\n",
    "print(middle_name)"
   ]
  },
  {
   "cell_type": "code",
   "execution_count": 6,
   "id": "3ff43a39",
   "metadata": {},
   "outputs": [
    {
     "name": "stdout",
     "output_type": "stream",
     "text": [
      "Lynn\n"
     ]
    }
   ],
   "source": [
    "full_name = 'Patty Lynn Smith'\n",
    "middle_name = full_name[6:10]\n",
    "print(middle_name)"
   ]
  },
  {
   "cell_type": "code",
   "execution_count": 11,
   "id": "7eb6f967",
   "metadata": {},
   "outputs": [
    {
     "name": "stdout",
     "output_type": "stream",
     "text": [
      "Bur\n"
     ]
    }
   ],
   "source": [
    "phrase='Burgundy'\n",
    "my_string = phrase[:3]\n",
    "print(my_string)"
   ]
  },
  {
   "cell_type": "code",
   "execution_count": null,
   "id": "b8a17a25",
   "metadata": {},
   "outputs": [],
   "source": [
    "letters = 'ABCDEFGHIJKLMNOPQRSTUVWXYZ'\n",
    "P"
   ]
  }
 ],
 "metadata": {
  "kernelspec": {
   "display_name": "Python 3 (ipykernel)",
   "language": "python",
   "name": "python3"
  },
  "language_info": {
   "codemirror_mode": {
    "name": "ipython",
    "version": 3
   },
   "file_extension": ".py",
   "mimetype": "text/x-python",
   "name": "python",
   "nbconvert_exporter": "python",
   "pygments_lexer": "ipython3",
   "version": "3.10.9"
  }
 },
 "nbformat": 4,
 "nbformat_minor": 5
}
