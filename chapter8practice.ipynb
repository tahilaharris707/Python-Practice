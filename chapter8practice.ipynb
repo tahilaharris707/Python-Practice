{
 "cells": [
  {
   "cell_type": "code",
   "execution_count": 1,
   "id": "c075a655",
   "metadata": {},
   "outputs": [
    {
     "name": "stdout",
     "output_type": "stream",
     "text": [
      "B\n",
      "o\n",
      "s\n",
      "t\n",
      "o\n",
      "n\n"
     ]
    }
   ],
   "source": [
    "city='Boston'\n",
    "index=0\n",
    "while index<len(city):\n",
    "    print(city[index])\n",
    "    index+=1\n",
    "    "
   ]
  },
  {
   "cell_type": "code",
   "execution_count": null,
   "id": "c67f5fa0",
   "metadata": {},
   "outputs": [],
   "source": []
  },
  {
   "cell_type": "code",
   "execution_count": null,
   "id": "8bf67fc3",
   "metadata": {},
   "outputs": [],
   "source": []
  },
  {
   "cell_type": "code",
   "execution_count": 2,
   "id": "c6d6f38f",
   "metadata": {},
   "outputs": [
    {
     "name": "stdout",
     "output_type": "stream",
     "text": [
      "hello world\n"
     ]
    }
   ],
   "source": [
    "message='hello ' + 'world'\n",
    "print(message)"
   ]
  },
  {
   "cell_type": "code",
   "execution_count": 3,
   "id": "1536619f",
   "metadata": {},
   "outputs": [
    {
     "name": "stdout",
     "output_type": "stream",
     "text": [
      "Emily Yeager\n"
     ]
    }
   ],
   "source": [
    "first_name = 'Emily'\n",
    "last_name = 'Yeager'\n",
    "full_name = first_name + ' ' +last_name\n",
    "print(full_name)"
   ]
  },
  {
   "cell_type": "code",
   "execution_count": 4,
   "id": "715f4f10",
   "metadata": {},
   "outputs": [
    {
     "name": "stdout",
     "output_type": "stream",
     "text": [
      "abcdef\n"
     ]
    }
   ],
   "source": [
    "letters='abc'\n",
    "letters+='def'\n",
    "print(letters)"
   ]
  },
  {
   "cell_type": "code",
   "execution_count": 5,
   "id": "ce0f5831",
   "metadata": {},
   "outputs": [
    {
     "name": "stdout",
     "output_type": "stream",
     "text": [
      "Lynn\n"
     ]
    }
   ],
   "source": [
    "full_name = 'Patty Lynn Smith'\n",
    "middle_name = full_name[6:10]\n",
    "print(middle_name)"
   ]
  },
  {
   "cell_type": "code",
   "execution_count": 6,
   "id": "799812f3",
   "metadata": {},
   "outputs": [
    {
     "name": "stdout",
     "output_type": "stream",
     "text": [
      "Lynn\n"
     ]
    }
   ],
   "source": [
    "full_name = 'Patty Lynn Smith'\n",
    "middle_name = full_name[6:10]\n",
    "print(middle_name)"
   ]
  },
  {
   "cell_type": "code",
   "execution_count": 7,
   "id": "5fa85dd3",
   "metadata": {},
   "outputs": [
    {
     "name": "stdout",
     "output_type": "stream",
     "text": [
      "Bur\n"
     ]
    }
   ],
   "source": [
    "color='Burgundy'\n",
    "my_string = color[:3]\n",
    "print(my_string)"
   ]
  },
  {
   "cell_type": "code",
   "execution_count": 8,
   "id": "6e3a2f99",
   "metadata": {},
   "outputs": [
    {
     "ename": "NameError",
     "evalue": "name 'P' is not defined",
     "output_type": "error",
     "traceback": [
      "\u001b[1;31m---------------------------------------------------------------------------\u001b[0m",
      "\u001b[1;31mNameError\u001b[0m                                 Traceback (most recent call last)",
      "Cell \u001b[1;32mIn[8], line 2\u001b[0m\n\u001b[0;32m      1\u001b[0m letters \u001b[38;5;241m=\u001b[39m \u001b[38;5;124m'\u001b[39m\u001b[38;5;124mABCDEFGHIJKLMNOPQRSTUVWXYZ\u001b[39m\u001b[38;5;124m'\u001b[39m\n\u001b[1;32m----> 2\u001b[0m \u001b[43mP\u001b[49m\n",
      "\u001b[1;31mNameError\u001b[0m: name 'P' is not defined"
     ]
    }
   ],
   "source": [
    "letters = 'ABCDEFGHIJKLMNOPQRSTUVWXYZ'\n",
    "P"
   ]
  },
  {
   "cell_type": "code",
   "execution_count": null,
   "id": "30f9531a",
   "metadata": {},
   "outputs": [],
   "source": [
    "Full_name='Gina Olivia Denson'\n",
    "initial= 'G'\n",
    "initial+= ' '\n",
    "initial+= 'O'\n",
    "initial+= ' '\n",
    "initial+= 'D'\n",
    "print(initial)"
   ]
  },
  {
   "cell_type": "code",
   "execution_count": null,
   "id": "5710a0c2",
   "metadata": {},
   "outputs": [],
   "source": [
    "import login\n",
    "\n",
    "def get_login_name(first, last, idnumber):\n",
    "    set1=first[0:3]\n",
    "    set2=last[0:3]\n",
    "    set3=idnumber[-3:]\n",
    "    login_name=set1+set2+set3\n",
    "    return login_name\n"
   ]
  },
  {
   "cell_type": "code",
   "execution_count": null,
   "id": "50334147",
   "metadata": {},
   "outputs": [],
   "source": [
    "import login\n",
    "\n",
    "def main():\n",
    "    \n",
    "    first=input('Enter your first name: ')\n",
    "    last=input('Enter your last name: ')\n",
    "    idnumber=('Enter your student id number: ')\n",
    "    \n",
    "       \n",
    "if __name__=='__main__':\n",
    "    main()"
   ]
  },
  {
   "cell_type": "code",
   "execution_count": null,
   "id": "b7412d66",
   "metadata": {},
   "outputs": [],
   "source": [
    "import login\n",
    "\n",
    "def main():\n",
    "    last=input('Enter your last name: ')"
   ]
  },
  {
   "cell_type": "code",
   "execution_count": null,
   "id": "81781956",
   "metadata": {},
   "outputs": [],
   "source": [
    "import login\n",
    "\n",
    "def main():\n",
    "    first = input('Enter your first name: ')\n",
    "    last = input('Enter your last name: ')\n",
    "    idnumber = input('Enter your student ID number: ')\n",
    "    \n",
    "    # Do something with the user input\n",
    "\n",
    "if __name__ == '__main__':\n",
    "    main()\n"
   ]
  },
  {
   "cell_type": "code",
   "execution_count": null,
   "id": "e384ded3",
   "metadata": {},
   "outputs": [],
   "source": [
    "import login\n",
    "\n",
    "def main():\n",
    "    first=input('Enter your first name: ')\n",
    "    last=input('Enter your last name: ')\n",
    "    idnumber=input('Enter your student idnumber: ')\n",
    "    \n",
    "    print('Your system login name is: ')\n",
    "    print(login.get_login_name(first, last, idnumber))\n",
    "    \n",
    "if__name__=='__main__'\n",
    "    \n",
    "    main()"
   ]
  },
  {
   "cell_type": "code",
   "execution_count": null,
   "id": "b5bbe4b0",
   "metadata": {},
   "outputs": [],
   "source": [
    "import login\n",
    "\n",
    "def main():\n",
    "    first = input('Enter your first name: ')\n",
    "    last = input('Enter your last name: ')\n",
    "    idnumber = input('Enter your student ID number: ')\n",
    "\n",
    "if __name__ == '__main__':\n",
    "    main()\n"
   ]
  },
  {
   "cell_type": "code",
   "execution_count": null,
   "id": "a29aa8ef",
   "metadata": {},
   "outputs": [],
   "source": [
    "def main():\n",
    "    user_string=input('Enter a string: ')\n",
    "    print('This is what I found about the string.')\n",
    "    \n",
    "    if user_string.isalnum():\n",
    "        print('The string is alphanumeric.')\n",
    "    if user_string.isdigit():\n",
    "        print('This string only contains numbers.')\n",
    "    if user_string.isalpha():\n",
    "        print('This string only contains letters.')\n",
    "    \n",
    "    if user_string.isspace():\n",
    "        print('This string only contains white space.')\n",
    "    \n",
    "    if user_string.islower():\n",
    "        print('The letters in this string are all lowercase.')\n",
    "    \n",
    "    if user_string.isupper():\n",
    "        print('The letters in this string are all uppercase.')\n",
    "        \n",
    "if __name__=='__main__':\n",
    "    main()"
   ]
  },
  {
   "cell_type": "code",
   "execution_count": null,
   "id": "7a750d4e",
   "metadata": {},
   "outputs": [],
   "source": [
    "letters = 'WXYZ'\n",
    "print(letters, letters.lower())"
   ]
  },
  {
   "cell_type": "code",
   "execution_count": null,
   "id": "9d281d03",
   "metadata": {},
   "outputs": [],
   "source": [
    "letters = 'abcd'\n",
    "print(letters, letters.upper())"
   ]
  },
  {
   "cell_type": "code",
   "execution_count": null,
   "id": "d000044a",
   "metadata": {},
   "outputs": [],
   "source": [
    "again = 'y'\n",
    "while again.upper()== 'Y':\n",
    "    print('Hello')\n",
    "    print('Do you want to see the message again?')\n",
    "    again=input('y = yes, anything else = no:  ')\n",
    "    "
   ]
  },
  {
   "cell_type": "code",
   "execution_count": null,
   "id": "baeea77e",
   "metadata": {},
   "outputs": [],
   "source": [
    "filename=input('Enter the file name: ')\n",
    "if filename.endswith('.txt'):\n",
    "    print('This is the name of a text file.')\n"
   ]
  },
  {
   "cell_type": "code",
   "execution_count": null,
   "id": "aa9d5a15",
   "metadata": {},
   "outputs": [],
   "source": [
    "string=('Four score and seven years ago')\n",
    "position=string.find('seven')\n",
    "if position !=-1:\n",
    "    print(f'The word \"seven\" was found at index {position}.' )\n",
    "else:\n",
    "          print(f'The word \"seven\" was not found')"
   ]
  },
  {
   "cell_type": "code",
   "execution_count": null,
   "id": "f1ade363",
   "metadata": {},
   "outputs": [],
   "source": [
    "string = 'Four score seven years ago'\n",
    "new_string = string.replace('years', 'days')\n",
    "print(new_string)"
   ]
  },
  {
   "cell_type": "code",
   "execution_count": null,
   "id": "3719489d",
   "metadata": {},
   "outputs": [],
   "source": [
    "\n",
    "phone_number='515-NEW-HOME'\n",
    "phone_number=phone_number.replace('NEW', '639')\n",
    "print(phone_number)"
   ]
  },
  {
   "cell_type": "code",
   "execution_count": 9,
   "id": "92b80bf8",
   "metadata": {},
   "outputs": [
    {
     "name": "stdout",
     "output_type": "stream",
     "text": [
      "Enter a 10 digit phone number: 515-NEW-HOME\n",
      "515-639-4663\n"
     ]
    }
   ],
   "source": [
    "phone_number=input('Enter a 10 digit phone number: ')\n",
    "phone_number=phone_number.replace('NEW', '639')\n",
    "phone_number=phone_number.replace('HOME', '4663')\n",
    "print(phone_number)\n"
   ]
  },
  {
   "cell_type": "code",
   "execution_count": null,
   "id": "ec7bb4c2",
   "metadata": {},
   "outputs": [],
   "source": []
  }
 ],
 "metadata": {
  "kernelspec": {
   "display_name": "Python 3 (ipykernel)",
   "language": "python",
   "name": "python3"
  },
  "language_info": {
   "codemirror_mode": {
    "name": "ipython",
    "version": 3
   },
   "file_extension": ".py",
   "mimetype": "text/x-python",
   "name": "python",
   "nbconvert_exporter": "python",
   "pygments_lexer": "ipython3",
   "version": "3.10.9"
  }
 },
 "nbformat": 4,
 "nbformat_minor": 5
}
