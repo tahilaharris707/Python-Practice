{
 "cells": [
  {
   "cell_type": "markdown",
   "id": "7129c0cc",
   "metadata": {},
   "source": [
    "## Chapter 7 Exercises\n",
    "\n",
    "## Programming Exercise Problem #5"
   ]
  },
  {
   "cell_type": "code",
   "execution_count": null,
   "id": "34d81e82",
   "metadata": {},
   "outputs": [],
   "source": [
    "# I will write a function that accepts a list as an argument and returns\n",
    "# the total of the values in the list\n",
    "\n",
    "# I will create a def main function to create a list and assign a varaible to some numbers.\n",
    "\n",
    "def main():\n",
    "    \n",
    "    num = [5, 4, 3, 2, 1]\n",
    "    \n",
    "# I will assign the number 0 to the total variable to reference an accumulator.\n",
    "\n",
    "    total = 0\n",
    "    \n",
    "# I will use the for function to calculate the total numbers in the num list.\n",
    "\n",
    "    total += value\n",
    "    \n",
    "# I will use the print function to display the total of the list elements.\n",
    "\n",
    "    print(f'The total of the elements is {total}.')\n",
    "\n",
    "    \n",
    "    \n",
    "    \n",
    "\n"
   ]
  }
 ],
 "metadata": {
  "kernelspec": {
   "display_name": "Python 3 (ipykernel)",
   "language": "python",
   "name": "python3"
  },
  "language_info": {
   "codemirror_mode": {
    "name": "ipython",
    "version": 3
   },
   "file_extension": ".py",
   "mimetype": "text/x-python",
   "name": "python",
   "nbconvert_exporter": "python",
   "pygments_lexer": "ipython3",
   "version": "3.10.9"
  }
 },
 "nbformat": 4,
 "nbformat_minor": 5
}
