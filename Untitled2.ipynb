{
 "cells": [
  {
   "cell_type": "code",
   "execution_count": null,
   "id": "0184770e",
   "metadata": {},
   "outputs": [],
   "source": [
    "print(\"How do you say the word \\\"happy\\\" in French?\")"
   ]
  },
  {
   "cell_type": "code",
   "execution_count": 2,
   "id": "0e3c9fd6",
   "metadata": {},
   "outputs": [],
   "source": [
    "price = int(68.549)"
   ]
  },
  {
   "cell_type": "code",
   "execution_count": 1,
   "id": "d0f9a41f",
   "metadata": {},
   "outputs": [],
   "source": [
    "price=int(68.549)"
   ]
  },
  {
   "cell_type": "code",
   "execution_count": 3,
   "id": "5b42436a",
   "metadata": {},
   "outputs": [],
   "source": [
    "price=int(68.549)"
   ]
  },
  {
   "cell_type": "code",
   "execution_count": 4,
   "id": "7b6e79e9",
   "metadata": {},
   "outputs": [
    {
     "name": "stdout",
     "output_type": "stream",
     "text": [
      "The path is D:\\sample\\test.\n"
     ]
    }
   ],
   "source": [
    "print('The path is D:\\\\sample\\\\test.')"
   ]
  },
  {
   "cell_type": "code",
   "execution_count": null,
   "id": "e8b12314",
   "metadata": {},
   "outputs": [],
   "source": []
  }
 ],
 "metadata": {
  "kernelspec": {
   "display_name": "Python 3 (ipykernel)",
   "language": "python",
   "name": "python3"
  },
  "language_info": {
   "codemirror_mode": {
    "name": "ipython",
    "version": 3
   },
   "file_extension": ".py",
   "mimetype": "text/x-python",
   "name": "python",
   "nbconvert_exporter": "python",
   "pygments_lexer": "ipython3",
   "version": "3.10.9"
  }
 },
 "nbformat": 4,
 "nbformat_minor": 5
}
